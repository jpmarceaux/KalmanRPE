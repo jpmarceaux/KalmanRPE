{
 "cells": [
  {
   "cell_type": "code",
   "execution_count": 1,
   "metadata": {},
   "outputs": [],
   "source": [
    "import pyrpe\n",
    "import pygsti\n",
    "from scipy.linalg import expm\n",
    "import numpy as np\n",
    "from pygsti.tools import unitary_to_superop\n",
    "from pygsti.modelpacks import smq1Q_XYZI\n",
    "from matplotlib import pyplot as plt\n",
    "from pygsti.circuits import Circuit\n",
    "from pyrpe.src.quapack.pyRPE import RobustPhaseEstimation\n",
    "from pyrpe.src.quapack.pyRPE.quantum import Q"
   ]
  },
  {
   "cell_type": "code",
   "execution_count": 2,
   "metadata": {},
   "outputs": [
    {
     "data": {
      "text/plain": [
       "True"
      ]
     },
     "execution_count": 2,
     "metadata": {},
     "output_type": "execute_result"
    }
   ],
   "source": [
    "# to prepare |+> with Gxpi2 and Gzpi2, we apply Gzpi2 Gxpi2 Gzpi2^3\n",
    "# this verifies  Gzpi2 Gxpi2 Gzpi2^3 == Gypi2\n",
    "model = smq1Q_XYZI.target_model()\n",
    "Gzpi2 = model['Gzpi2', 0].to_dense()\n",
    "Gxpi2 = model['Gxpi2', 0].to_dense()\n",
    "np.allclose(Gzpi2@Gxpi2@Gzpi2@Gzpi2@Gzpi2,  model['Gypi2', 0].to_dense())"
   ]
  },
  {
   "cell_type": "code",
   "execution_count": 3,
   "metadata": {},
   "outputs": [],
   "source": [
    "def make_noisy_z_unitary(alpha):\n",
    "    generator = -(1j/2) *(np.pi/2 + alpha)* pygsti.sigmaz\n",
    "    return expm(generator)\n",
    "\n",
    "def make_noisy_x_unitary(epsilon, theta):\n",
    "    generator = -(1j/2) * (np.pi/2 + epsilon) * (np.cos(theta) * pygsti.sigmax + np.sin(theta) * pygsti.sigmaz)\n",
    "    return expm(generator)\n",
    "\n",
    "def make_pygsti_model(xstate, gate_depolarization=0, spam_depolarization=0):\n",
    "    alpha = xstate[0]\n",
    "    theta = xstate[1]\n",
    "    epsilon = xstate[2]\n",
    "    zunitary = make_noisy_z_unitary(alpha)\n",
    "    xunitary = make_noisy_x_unitary(theta, epsilon)\n",
    "    model = smq1Q_XYZI.target_model()\n",
    "    model['Gxpi2', 0] = pygsti.tools.unitary_to_superop(xunitary)\n",
    "    model['Gzpi2', 0] = pygsti.tools.unitary_to_superop(zunitary)\n",
    "    model['Gxpi2', 0].depolarize(gate_depolarization)\n",
    "    model['Gzpi2', 0].depolarize(gate_depolarization)\n",
    "    model['rho0'].depolarize(spam_depolarization)\n",
    "    model['Mdefault'].depolarize(spam_depolarization)\n",
    "    return model\n"
   ]
  },
  {
   "cell_type": "code",
   "execution_count": 15,
   "metadata": {},
   "outputs": [],
   "source": [
    "def make_x_sequences(depths):\n",
    "    cos_circs = []\n",
    "    sin_circs = []\n",
    "    for d in depths:\n",
    "        cos_circs.append(Circuit([('Gxpi2',0 )])*d)\n",
    "        sin_circs.append(Circuit([('Gxpi2', 0)])*(d+1))\n",
    "    return cos_circs, sin_circs\n",
    "\n",
    "def make_z_sequences(depths):\n",
    "    cos_circs = []\n",
    "    sin_circs = []\n",
    "    Gy = Circuit([('Gzpi2', 0), ('Gzpi2', 0), ('Gzpi2', 0), ('Gxpi2', 0), ('Gzpi2', 0)])\n",
    "    Gy_dagger = Circuit([('Gzpi2', 0), ('Gxpi2', 0), ('Gzpi2', 0), ('Gzpi2', 0), ('Gzpi2', 0)])\n",
    "    for d in depths:\n",
    "        cos_circs.append(Gy+Circuit([('Gzpi2',0 )])*d+Gy_dagger)\n",
    "        sin_circs.append(Gy+Circuit([('Gzpi2', 0)])*d+Circuit([('Gxpi2', 0)]))\n",
    "    return cos_circs, sin_circs\n",
    "\n",
    "def make_interleaved_sequences(depths):\n",
    "    cos_circs = []\n",
    "    sin_circs = []\n",
    "    for d in depths:\n",
    "        cos_circs.append(Circuit([('Gzpi2', 0), ('Gzpi2', 0), ('Gzpi2', 0), ('Gxpi2', 0), ('Gzpi2', 0)])*d)\n",
    "        sin_circs.append(Circuit([('Gzpi2', 0), ('Gzpi2', 0), ('Gzpi2', 0), ('Gxpi2', 0), ('Gzpi2', 0)])+Circuit([('Gxpi2', 0)]))\n",
    "    return cos_circs, sin_circs\n",
    "\n",
    "def make_interleaved_sequences(depths):\n",
    "    pass"
   ]
  },
  {
   "cell_type": "code",
   "execution_count": 16,
   "metadata": {},
   "outputs": [],
   "source": [
    "xerror = [0.1, 0.1, 0]\n",
    "model = make_pygsti_model(xerror, 0.0001, 0.001)"
   ]
  },
  {
   "cell_type": "code",
   "execution_count": 17,
   "metadata": {},
   "outputs": [
    {
     "name": "stdout",
     "output_type": "stream",
     "text": [
      "[1, 2, 4, 8, 16, 32, 64, 128, 256, 512]\n"
     ]
    }
   ],
   "source": [
    "depths = [2**i for i in range(10)]\n",
    "print(depths)\n",
    "x_cos_circs, x_sin_circs = make_x_sequences(depths)\n",
    "z_cos_circs, z_sin_circs = make_z_sequences(depths)\n",
    "interleaved_cos_circs, \n"
   ]
  },
  {
   "cell_type": "code",
   "execution_count": 18,
   "metadata": {},
   "outputs": [],
   "source": [
    "all_circs = set(x_cos_circs + x_sin_circs + z_cos_circs + z_sin_circs)\n",
    "dataset = pygsti.data.simulate_data(model, all_circs, num_samples=1000, seed=0)"
   ]
  },
  {
   "cell_type": "code",
   "execution_count": 26,
   "metadata": {},
   "outputs": [],
   "source": [
    "def process_zgate_data(dataset, cos_circs, sin_circs, depths):\n",
    "    experiment = Q()\n",
    "    for idx, d in enumerate(depths):\n",
    "        experiment.process_cos(d, (int(dataset[cos_circs[idx]]['0']), int(dataset[cos_circs[idx]]['1'])))\n",
    "        experiment.process_sin(d, (int(dataset[sin_circs[idx]]['0']), int(dataset[sin_circs[idx]]['1'])))\n",
    "    analysis = RobustPhaseEstimation(experiment)\n",
    "    last_good_generation = analysis.check_unif_local(historical=True)\n",
    "    estimates = analysis.angle_estimates\n",
    "    return estimates, last_good_generation\n",
    "\n",
    "def process_xgate_data(dataset, cos_circs, sin_circs, depths):\n",
    "    experiment = Q()\n",
    "    for idx, d in enumerate(depths):\n",
    "        experiment.process_cos(d, (int(dataset[cos_circs[idx]]['0']), int(dataset[cos_circs[idx]]['1'])))\n",
    "        experiment.process_sin(d, (int(dataset[sin_circs[idx]]['1']), int(dataset[sin_circs[idx]]['0'])))\n",
    "    analysis = RobustPhaseEstimation(experiment)\n",
    "    last_good_generation = analysis.check_unif_local(historical=True)\n",
    "    estimates = analysis.angle_estimates\n",
    "    return estimates, last_good_generation\n",
    "\n",
    "def process_interleaved_data(dataset, cos_circs, sin_circs, depths):\n",
    "    experiment = Q()\n",
    "    for idx, d in enumerate(depths):\n",
    "        experiment.process_cos(d, (int(dataset[cos_circs[idx]]['0']), int(dataset[cos_circs[idx]]['1'])))\n",
    "        experiment.process_sin(d, (int(dataset[sin_circs[idx]]['1']), int(dataset[sin_circs[idx]]['0'])))\n",
    "    analysis = RobustPhaseEstimation(experiment)\n",
    "    last_good_generation = analysis.check_unif_local(historical=True)\n",
    "    estimates = analysis.angle_estimates\n",
    "    return estimates, last_good_generation"
   ]
  },
  {
   "cell_type": "code",
   "execution_count": 27,
   "metadata": {},
   "outputs": [
    {
     "data": {
      "text/plain": [
       "472.0"
      ]
     },
     "execution_count": 27,
     "metadata": {},
     "output_type": "execute_result"
    }
   ],
   "source": [
    "dataset[x_cos_circs[0]]['0']"
   ]
  },
  {
   "cell_type": "code",
   "execution_count": 28,
   "metadata": {},
   "outputs": [
    {
     "data": {
      "text/plain": [
       "(array([1.85396081, 1.72895793, 1.71478162, 1.69290503, 1.68648103,\n",
       "        1.67559477, 1.67209938, 1.67175869, 1.67130961, 1.67113542]),\n",
       " 9)"
      ]
     },
     "execution_count": 28,
     "metadata": {},
     "output_type": "execute_result"
    }
   ],
   "source": [
    "process_zgate_data(dataset, z_cos_circs, z_sin_circs, depths)"
   ]
  },
  {
   "cell_type": "code",
   "execution_count": 30,
   "metadata": {},
   "outputs": [
    {
     "data": {
      "text/plain": [
       "(array([1.62730177, 1.72160585, 1.70247229, 1.67942154, 1.66770864,\n",
       "        1.67372245, 1.67118378, 1.67161156, 1.67086767, 1.67087722]),\n",
       " 9)"
      ]
     },
     "execution_count": 30,
     "metadata": {},
     "output_type": "execute_result"
    }
   ],
   "source": [
    "process_xgate_data(dataset, x_cos_circs, x_sin_circs, depths)"
   ]
  },
  {
   "cell_type": "code",
   "execution_count": null,
   "metadata": {},
   "outputs": [],
   "source": [
    "process_interleaved_data(da)"
   ]
  },
  {
   "cell_type": "code",
   "execution_count": 29,
   "metadata": {},
   "outputs": [
    {
     "data": {
      "text/plain": [
       "1.6707963267948966"
      ]
     },
     "execution_count": 29,
     "metadata": {},
     "output_type": "execute_result"
    }
   ],
   "source": [
    "np.pi/2 + xerror[0]"
   ]
  },
  {
   "cell_type": "code",
   "execution_count": 24,
   "metadata": {},
   "outputs": [
    {
     "data": {
      "text/plain": [
       "1.6707963267948966"
      ]
     },
     "execution_count": 24,
     "metadata": {},
     "output_type": "execute_result"
    }
   ],
   "source": [
    "np.pi/2 + xerror[1]"
   ]
  },
  {
   "cell_type": "code",
   "execution_count": 25,
   "metadata": {},
   "outputs": [
    {
     "data": {
      "text/plain": [
       "0.0030679615757712823"
      ]
     },
     "execution_count": 25,
     "metadata": {},
     "output_type": "execute_result"
    }
   ],
   "source": [
    "np.pi/(2*depths[-1])"
   ]
  },
  {
   "cell_type": "code",
   "execution_count": null,
   "metadata": {},
   "outputs": [],
   "source": []
  },
  {
   "cell_type": "code",
   "execution_count": null,
   "metadata": {},
   "outputs": [],
   "source": []
  }
 ],
 "metadata": {
  "kernelspec": {
   "display_name": "Python 3",
   "language": "python",
   "name": "python3"
  },
  "language_info": {
   "codemirror_mode": {
    "name": "ipython",
    "version": 3
   },
   "file_extension": ".py",
   "mimetype": "text/x-python",
   "name": "python",
   "nbconvert_exporter": "python",
   "pygments_lexer": "ipython3",
   "version": "3.9.6"
  }
 },
 "nbformat": 4,
 "nbformat_minor": 2
}
