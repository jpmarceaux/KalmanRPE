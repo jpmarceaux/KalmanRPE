{
 "cells": [
  {
   "cell_type": "code",
   "execution_count": 357,
   "metadata": {},
   "outputs": [
    {
     "data": {
      "text/plain": [
       "16"
      ]
     },
     "execution_count": 357,
     "metadata": {},
     "output_type": "execute_result"
    }
   ],
   "source": [
    "import numpy as np\n",
    "from scipy.linalg import expm, logm\n",
    "\n",
    "SigX = np.array([[0, 1], [1, 0]])\n",
    "SigY = np.array([[0, -1j], [1j, 0]])\n",
    "SigZ = np.array([[1, 0], [0, -1]])\n",
    "SigI = np.array([[1, 0], [0, 1]])\n",
    "\n",
    "pauli_basis_2q = [\n",
    "    np.kron(SigI, SigI),\n",
    "    np.kron(SigI, SigX),\n",
    "    np.kron(SigI, SigY),\n",
    "    np.kron(SigI, SigZ),\n",
    "    np.kron(SigX, SigI),\n",
    "    np.kron(SigX, SigX),\n",
    "    np.kron(SigX, SigY),\n",
    "    np.kron(SigX, SigZ),\n",
    "    np.kron(SigY, SigI),\n",
    "    np.kron(SigY, SigX),\n",
    "    np.kron(SigY, SigY),\n",
    "    np.kron(SigY, SigZ),\n",
    "    np.kron(SigZ, SigI),\n",
    "    np.kron(SigZ, SigX),\n",
    "    np.kron(SigZ, SigY),\n",
    "    np.kron(SigZ, SigZ),\n",
    "]\n",
    "\n",
    "len(pauli_basis_2q)\n"
   ]
  },
  {
   "cell_type": "code",
   "execution_count": 358,
   "metadata": {},
   "outputs": [],
   "source": [
    "ux1 = np.kron(expm(-1j * np.pi / 4 * SigX), SigI)\n",
    "ux2 = np.kron(SigI, expm(-1j * np.pi / 4 * SigX))\n",
    "uz1 = np.kron(expm(-1j * np.pi / 4 * SigZ), SigI)\n",
    "uz2 = np.kron(SigI, expm(-1j * np.pi / 4 * SigZ))\n",
    "uy1 = np.kron(expm(-1j * np.pi / 4 * SigY), SigI)\n",
    "uy2 = np.kron(SigI, expm(-1j * np.pi / 4 * SigY))"
   ]
  },
  {
   "cell_type": "code",
   "execution_count": 359,
   "metadata": {},
   "outputs": [],
   "source": [
    "def model_CZ(x):\n",
    "    generator = np.zeros((4, 4), dtype=complex)\n",
    "    generator += (np.pi/2)*(pauli_basis_2q[3] + pauli_basis_2q[12]) - np.pi/2*(pauli_basis_2q[15] + pauli_basis_2q[0])\n",
    "    for i in range(15):\n",
    "        generator += x[i]*pauli_basis_2q[i+1]\n",
    "    return expm(-(1j/2)*generator)"
   ]
  },
  {
   "cell_type": "code",
   "execution_count": 360,
   "metadata": {},
   "outputs": [],
   "source": [
    "def germ_to_unitary(germ, params):\n",
    "    u = np.eye(4)\n",
    "    for gate in germ: \n",
    "        if gate == 'I':\n",
    "            u = np.eye(4) @ u\n",
    "        elif gate == 'X1': \n",
    "            u = ux1 @ u\n",
    "        elif gate == 'X2':\n",
    "            u = ux2 @ u\n",
    "        elif gate == 'Z1':\n",
    "            u = uz1 @ u\n",
    "        elif gate == 'Z2':\n",
    "            u = uz2 @ u\n",
    "        elif gate == 'Y1':\n",
    "            u = uy1 @ u\n",
    "        elif gate == 'Y2':\n",
    "            u = uy2 @ u\n",
    "        elif gate == 'CZ':\n",
    "            u = model_CZ(params) @ u\n",
    "        else:\n",
    "            raise ValueError('Invalid gate')\n",
    "    return u\n",
    "\n",
    "def germ_to_target(germ):\n",
    "    return germ_to_unitary(germ, np.zeros(15))\n"
   ]
  },
  {
   "cell_type": "code",
   "execution_count": 361,
   "metadata": {},
   "outputs": [],
   "source": [
    "cartan_basis = [\n",
    "    np.diag([1, -1, 0, 0]), \n",
    "    np.diag([0, 1, -1, 0]), \n",
    "    np.diag([0, 0, 1, -1]), \n",
    "]\n",
    "\n",
    "def rectify_phase(phase):\n",
    "    return np.mod(phase, 2*np.pi)\n",
    "\n",
    "def extract_eigen_phases(germ, params): \n",
    "    target_u = germ_to_target(germ)\n",
    "    evals_targ, evecs_targ = np.linalg.eig(target_u)\n",
    "    evec_targ_list = [evecs_targ[:,i] for i in range(4)]\n",
    "    model_u = germ_to_unitary(germ, params)\n",
    "    ephases = np.zeros(4)\n",
    "    for idx, evec in enumerate(evec_targ_list):\n",
    "        eval_approx = np.dot(evec.conj().T, model_u @ evec)\n",
    "        ephases[idx] = np.real(1j*np.log(eval_approx))\n",
    "    return ephases\n",
    "\n",
    "def extract_cartan_params(germ, params, cartan_basis=cartan_basis):\n",
    "    eigen_phases = extract_eigen_phases(germ, params)\n",
    "    cartan_params = np.zeros(3)\n",
    "    for i in range(3):\n",
    "        cartan_params[i] = np.sum(cartan_basis[i] @ eigen_phases)\n",
    "    return cartan_params\n",
    "\n",
    "def extract_cartan_jacob(germ, epsilon=1e-6, cartan_basis=cartan_basis):\n",
    "    target_u = germ_to_target(germ)\n",
    "    evals_targ, evecs_targ = np.linalg.eig(target_u)\n",
    "    evec_targ_list = [evecs_targ[:,i] for i in range(4)]\n",
    "    jacob = np.zeros((3, 15))\n",
    "    for i in range(15):\n",
    "        params_plus = np.array([epsilon if j == i else 0 for j in range(15)])\n",
    "        params_minus = np.array([-epsilon if j == i else 0 for j in range(15)])\n",
    "        cartan_plus = extract_cartan_params(germ, params_plus)\n",
    "        cartan_minus = extract_cartan_params(germ, params_minus)\n",
    "        cartandiff = np.mod(cartan_plus - cartan_minus, 2*np.pi)\n",
    "        if cartandiff[0] > np.pi:\n",
    "            cartandiff[0] -= 2*np.pi\n",
    "        if cartandiff[1] > np.pi:\n",
    "            cartandiff[1] -= 2*np.pi\n",
    "        if cartandiff[2] > np.pi:\n",
    "            cartandiff[2] -= 2*np.pi\n",
    "        #print(cartan_plus, cartan_minus, cartandiff)\n",
    "        jacob[: ,i] = cartandiff/(2*epsilon)\n",
    "    return jacob"
   ]
  },
  {
   "cell_type": "code",
   "execution_count": 362,
   "metadata": {},
   "outputs": [
    {
     "data": {
      "text/plain": [
       "array([[ 7.07045222e-03,  2.22044605e-10,  3.80422606e-01,\n",
       "         3.92557869e-01,  4.08677214e-01, -2.73650482e-01,\n",
       "         4.35078333e-01,  3.92557869e-01,  4.08677214e-01,\n",
       "         2.73650482e-01,  4.35078333e-01, -4.47213595e-01,\n",
       "        -4.77298654e-01,  1.11022302e-10,  2.35114101e-01],\n",
       "       [ 5.23030440e-01,  0.00000000e+00, -1.45308506e-01,\n",
       "        -1.18907387e-01, -1.11836934e-01,  5.03699773e-01,\n",
       "        -2.64011191e-02, -1.18907387e-01, -1.11836934e-01,\n",
       "        -5.03699773e-01, -2.64011186e-02,  1.11022302e-10,\n",
       "         7.08042975e-01,  0.00000000e+00, -6.15536707e-01],\n",
       "       [ 7.07045222e-03,  0.00000000e+00,  3.80422606e-01,\n",
       "         2.30049291e-01, -3.23241399e-01, -1.11141904e-01,\n",
       "        -2.96840279e-01,  2.30049291e-01, -3.23241399e-01,\n",
       "         1.11141904e-01, -2.96840280e-01,  4.47213595e-01,\n",
       "        -4.77298654e-01,  2.22044605e-10,  2.35114101e-01]])"
      ]
     },
     "execution_count": 362,
     "metadata": {},
     "output_type": "execute_result"
    }
   ],
   "source": [
    "extract_cartan_jacob(['CZ', 'X1', 'X2', 'Y1'])"
   ]
  },
  {
   "cell_type": "code",
   "execution_count": 363,
   "metadata": {},
   "outputs": [],
   "source": [
    "def calc_frame_potential(frame):\n",
    "    fpot = 0\n",
    "    for row1 in frame:\n",
    "        for row2 in frame:\n",
    "            fpot += np.abs(np.dot(row1.conj().T, row2))**2\n",
    "    return fpot"
   ]
  },
  {
   "cell_type": "code",
   "execution_count": 364,
   "metadata": {},
   "outputs": [
    {
     "name": "stdout",
     "output_type": "stream",
     "text": [
      "[[ 0.  0.  1.  0.  0.  0.  0.  0.  0.  0.  0.  0.  0.  0.  1.]\n",
      " [ 0.  0. -1.  0.  0.  0.  0.  0.  0.  0.  0.  1.  0.  0.  0.]\n",
      " [ 0.  0.  1.  0.  0.  0.  0.  0.  0.  0.  0.  0.  0.  0. -1.]]\n",
      "16.000000005032007\n"
     ]
    }
   ],
   "source": [
    "frame = extract_cartan_jacob(['CZ'])\n",
    "print(frame)\n",
    "fpot = calc_frame_potential(frame)\n",
    "print(fpot)"
   ]
  },
  {
   "cell_type": "code",
   "execution_count": 365,
   "metadata": {},
   "outputs": [],
   "source": [
    "germ_set_start = [['CZ', 'Z1', 'Z2']]\n"
   ]
  },
  {
   "cell_type": "code",
   "execution_count": 366,
   "metadata": {},
   "outputs": [],
   "source": [
    "from itertools import product"
   ]
  },
  {
   "cell_type": "code",
   "execution_count": 367,
   "metadata": {},
   "outputs": [],
   "source": [
    "gateset = ['CZ', 'X1', 'X2', 'Y1', 'Y2', 'Z1', 'Z2', 'I']\n",
    "all_germ_choices = list(product(gateset, repeat=4))"
   ]
  },
  {
   "cell_type": "code",
   "execution_count": 368,
   "metadata": {},
   "outputs": [],
   "source": [
    "def remove_germs_without_cz(all_germ_choices):\n",
    "    germ_set = []\n",
    "    for germ in all_germ_choices:\n",
    "        if 'CZ' in germ:\n",
    "            germ_set.append(germ)\n",
    "    return germ_set"
   ]
  },
  {
   "cell_type": "code",
   "execution_count": 369,
   "metadata": {},
   "outputs": [],
   "source": [
    "from tqdm import tqdm"
   ]
  },
  {
   "cell_type": "code",
   "execution_count": 370,
   "metadata": {},
   "outputs": [],
   "source": [
    "def find_best_germ(prior_frame, germ_set): \n",
    "    best_germ = None\n",
    "    best_fpot = np.inf\n",
    "    for germ in germ_set:\n",
    "        jacob = extract_cartan_jacob(germ)\n",
    "        new_frame = np.vstack([jacob, prior_frame])\n",
    "        new_fpot = calc_frame_potential(new_frame)\n",
    "        if new_fpot < best_fpot:\n",
    "            best_fpot = new_fpot\n",
    "            best_germ = germ\n",
    "    return best_germ, best_fpot"
   ]
  },
  {
   "cell_type": "code",
   "execution_count": 371,
   "metadata": {},
   "outputs": [
    {
     "name": "stdout",
     "output_type": "stream",
     "text": [
      "1695\n"
     ]
    }
   ],
   "source": [
    "all_germ_choices = remove_germs_without_cz(all_germ_choices)\n",
    "print(len(all_germ_choices))"
   ]
  },
  {
   "cell_type": "code",
   "execution_count": 372,
   "metadata": {},
   "outputs": [
    {
     "data": {
      "text/plain": [
       "(('CZ', 'X2', 'X2', 'Y1'), 25.399300734274846)"
      ]
     },
     "execution_count": 372,
     "metadata": {},
     "output_type": "execute_result"
    }
   ],
   "source": [
    "starting_frame = extract_cartan_jacob(['CZ'])\n",
    "find_best_germ(starting_frame, all_germ_choices)"
   ]
  },
  {
   "cell_type": "code",
   "execution_count": 373,
   "metadata": {},
   "outputs": [],
   "source": [
    "def find_full_germ_set(starting_germ_set, all_germs, num_germs):\n",
    "    germ_set = starting_germ_set\n",
    "    frame = np.vstack([extract_cartan_jacob(germ_set[i]) for i in range(len(germ_set))])\n",
    "    for i in tqdm(range(num_germs)):\n",
    "        best_germ, best_fpot = find_best_germ(frame, all_germs)\n",
    "        germ_set.append(best_germ)\n",
    "        frame = np.vstack([extract_cartan_jacob(germ_set[i]) for i in range(len(germ_set))])\n",
    "    return germ_set"
   ]
  },
  {
   "cell_type": "code",
   "execution_count": 374,
   "metadata": {},
   "outputs": [
    {
     "name": "stderr",
     "output_type": "stream",
     "text": [
      "  0%|          | 0/4 [00:00<?, ?it/s]"
     ]
    },
    {
     "name": "stderr",
     "output_type": "stream",
     "text": [
      "100%|██████████| 4/4 [00:31<00:00,  7.83s/it]\n"
     ]
    }
   ],
   "source": [
    "optimal_germs = find_full_germ_set([['CZ']], all_germ_choices, 4)"
   ]
  },
  {
   "cell_type": "code",
   "execution_count": 375,
   "metadata": {},
   "outputs": [],
   "source": [
    "optimal_frame = np.vstack([extract_cartan_jacob(germ) for germ in optimal_germs])"
   ]
  },
  {
   "cell_type": "code",
   "execution_count": 376,
   "metadata": {},
   "outputs": [
    {
     "data": {
      "text/plain": [
       "15"
      ]
     },
     "execution_count": 376,
     "metadata": {},
     "output_type": "execute_result"
    }
   ],
   "source": [
    "np.linalg.matrix_rank(optimal_frame)"
   ]
  },
  {
   "cell_type": "code",
   "execution_count": 377,
   "metadata": {},
   "outputs": [
    {
     "data": {
      "text/plain": [
       "65.58777704926415"
      ]
     },
     "execution_count": 377,
     "metadata": {},
     "output_type": "execute_result"
    }
   ],
   "source": [
    "calc_frame_potential(optimal_frame)"
   ]
  },
  {
   "cell_type": "code",
   "execution_count": 378,
   "metadata": {},
   "outputs": [
    {
     "data": {
      "text/plain": [
       "[['CZ'],\n",
       " ('CZ', 'X2', 'X2', 'Y1'),\n",
       " ('Y1', 'Y2', 'Y2', 'CZ'),\n",
       " ('X1', 'X1', 'Y2', 'CZ'),\n",
       " ('CZ', 'Y2', 'Y1', 'Y1')]"
      ]
     },
     "execution_count": 378,
     "metadata": {},
     "output_type": "execute_result"
    }
   ],
   "source": [
    "optimal_germs"
   ]
  },
  {
   "cell_type": "code",
   "execution_count": 379,
   "metadata": {},
   "outputs": [],
   "source": [
    "def construct_inphase_state_prep_vectors(germ):\n",
    "    target_u = germ_to_target(germ)\n",
    "    evals_targ, evecs_targ = np.linalg.eig(target_u)\n",
    "    evec_targ_list = [evecs_targ[:,i] for i in range(4)]\n",
    "    psi01 = (evec_targ_list[0] + evec_targ_list[1])/np.sqrt(2)\n",
    "    psi12 = (evec_targ_list[1] + evec_targ_list[2])/np.sqrt(2)\n",
    "    psi23 = (evec_targ_list[2] + evec_targ_list[3])/np.sqrt(2)\n",
    "    return psi01, psi12, psi23\n",
    "\n",
    "def construct_quadrature_state_prep_vectors(germ):\n",
    "    target_u = germ_to_target(germ)\n",
    "    evals_targ, evecs_targ = np.linalg.eig(target_u)\n",
    "    evec_targ_list = [evecs_targ[:,i] for i in range(4)]\n",
    "    psi01 = (evec_targ_list[0] + 1j*evec_targ_list[1])/np.sqrt(2)\n",
    "    psi12 = (evec_targ_list[1] + 1j*evec_targ_list[2])/np.sqrt(2)\n",
    "    psi23 = (evec_targ_list[2] + 1j*evec_targ_list[3])/np.sqrt(2)\n",
    "    return psi01, psi12, psi23"
   ]
  },
  {
   "cell_type": "code",
   "execution_count": 380,
   "metadata": {},
   "outputs": [
    {
     "data": {
      "text/plain": [
       "(array([0.70710678+0.j, 0.70710678+0.j, 0.        +0.j, 0.        +0.j]),\n",
       " array([0.        +0.j, 0.70710678+0.j, 0.70710678+0.j, 0.        +0.j]),\n",
       " array([0.        +0.j, 0.        +0.j, 0.70710678+0.j, 0.70710678+0.j]))"
      ]
     },
     "execution_count": 380,
     "metadata": {},
     "output_type": "execute_result"
    }
   ],
   "source": [
    "construct_inphase_state_prep_vectors(['CZ'])"
   ]
  },
  {
   "cell_type": "code",
   "execution_count": 381,
   "metadata": {},
   "outputs": [
    {
     "data": {
      "text/plain": [
       "(array([0.70710678+0.j        , 0.        +0.70710678j,\n",
       "        0.        +0.j        , 0.        +0.j        ]),\n",
       " array([0.        +0.j        , 0.70710678+0.j        ,\n",
       "        0.        +0.70710678j, 0.        +0.j        ]),\n",
       " array([0.        +0.j        , 0.        +0.j        ,\n",
       "        0.70710678+0.j        , 0.        +0.70710678j]))"
      ]
     },
     "execution_count": 381,
     "metadata": {},
     "output_type": "execute_result"
    }
   ],
   "source": [
    "construct_quadrature_state_prep_vectors(['CZ'])"
   ]
  },
  {
   "cell_type": "code",
   "execution_count": 382,
   "metadata": {},
   "outputs": [
    {
     "data": {
      "text/plain": [
       "EigResult(eigenvalues=array([ 1.+0.0000000e+00j,  1.+0.0000000e+00j,  1.+0.0000000e+00j,\n",
       "       -1.+1.2246468e-16j]), eigenvectors=array([[1.+0.j, 0.+0.j, 0.+0.j, 0.+0.j],\n",
       "       [0.+0.j, 1.+0.j, 0.+0.j, 0.+0.j],\n",
       "       [0.+0.j, 0.+0.j, 1.+0.j, 0.+0.j],\n",
       "       [0.+0.j, 0.+0.j, 0.+0.j, 1.+0.j]]))"
      ]
     },
     "execution_count": 382,
     "metadata": {},
     "output_type": "execute_result"
    }
   ],
   "source": [
    "np.linalg.eig(germ_to_target(['CZ']))"
   ]
  },
  {
   "cell_type": "code",
   "execution_count": 413,
   "metadata": {},
   "outputs": [
    {
     "name": "stdout",
     "output_type": "stream",
     "text": [
      "[5.65705452e-08 2.60960464e-05 2.11867572e-04 2.59946563e-04]\n",
      "[2.16509280e-04 1.59142926e+00 7.31701463e-01 2.51612870e-01]\n",
      "[1.15908298e-04 3.72187592e-01 7.06606946e-01 7.63679884e-01]\n",
      "[2.29847961e-04 6.78360162e-01 4.31675234e-01 1.57060516e+00]\n"
     ]
    }
   ],
   "source": [
    "# compare the eigenvalues of the target unitary to the eigenvalues of the model unitary\n",
    "x = 0.001*np.random.randn(15)\n",
    "model_u = germ_to_unitary(['CZ'], x)\n",
    "target_u = germ_to_target(['CZ'])\n",
    "evals_model, evecs_model = np.linalg.eig(model_u)\n",
    "evals_targ, evecs_targ = np.linalg.eig(target_u)\n",
    "print(abs(evecs_model[-1] - evecs_targ[0]))\n",
    "print(abs(evecs_model[1] - evecs_targ[1]))\n",
    "print(abs(evecs_model[2] - evecs_targ[2]))\n",
    "print(abs(evecs_model[0] - evecs_targ[-1]))"
   ]
  },
  {
   "cell_type": "code",
   "execution_count": 414,
   "metadata": {},
   "outputs": [
    {
     "data": {
      "text/plain": [
       "array([[ 3.40804662e-05+2.27307297e-04j,  6.78360162e-01+0.00000000e+00j,\n",
       "         3.21378217e-01+2.88200536e-01j, -5.56658316e-01+2.08843123e-01j],\n",
       "       [ 1.44107200e-04+1.61583982e-04j, -5.65671595e-01+2.85165798e-01j,\n",
       "         7.31701463e-01+0.00000000e+00j, -2.44273105e-01+6.03298161e-02j],\n",
       "       [ 6.65062311e-05-9.49297355e-05j,  2.91002118e-01+2.32037434e-01j,\n",
       "         3.89488020e-01+3.55764668e-01j,  7.63679884e-01+0.00000000e+00j],\n",
       "       [ 9.99999943e-01+0.00000000e+00j,  1.49940931e-05-2.13583896e-05j,\n",
       "        -1.74036998e-04+1.20826286e-04j, -5.38366833e-05-2.54310494e-04j]])"
      ]
     },
     "execution_count": 414,
     "metadata": {},
     "output_type": "execute_result"
    }
   ],
   "source": [
    "evecs_model"
   ]
  },
  {
   "cell_type": "markdown",
   "metadata": {},
   "source": [
    "# Verifying the design"
   ]
  },
  {
   "cell_type": "code",
   "execution_count": 383,
   "metadata": {},
   "outputs": [],
   "source": [
    "import matplotlib.pyplot as plt\n",
    "from quapack.pyRPE import RobustPhaseEstimation\n",
    "from quapack.pyRPE.quantum import Q as _rpeQ"
   ]
  },
  {
   "cell_type": "code",
   "execution_count": 384,
   "metadata": {},
   "outputs": [
    {
     "data": {
      "text/plain": [
       "['CZ']"
      ]
     },
     "execution_count": 384,
     "metadata": {},
     "output_type": "execute_result"
    }
   ],
   "source": [
    "optimal_germs[0]"
   ]
  },
  {
   "cell_type": "code",
   "execution_count": 385,
   "metadata": {},
   "outputs": [
    {
     "data": {
      "text/plain": [
       "(array([0.70710678+0.j, 0.70710678+0.j, 0.        +0.j, 0.        +0.j]),\n",
       " array([0.        +0.j, 0.70710678+0.j, 0.70710678+0.j, 0.        +0.j]),\n",
       " array([0.        +0.j, 0.        +0.j, 0.70710678+0.j, 0.70710678+0.j]))"
      ]
     },
     "execution_count": 385,
     "metadata": {},
     "output_type": "execute_result"
    }
   ],
   "source": [
    "construct_inphase_state_prep_vectors(optimal_germs[0])"
   ]
  },
  {
   "cell_type": "code",
   "execution_count": 386,
   "metadata": {},
   "outputs": [],
   "source": [
    "def make_prob_series(params, germ, depths):\n",
    "    psi01, psi12, psi23 = construct_inphase_state_prep_vectors(germ)\n",
    "    psi01_q, psi12_q, psi23_q = construct_quadrature_state_prep_vectors(germ)\n",
    "    noisy_germ = germ_to_unitary(germ, params)\n",
    "    probs_inphase = np.zeros((3, len(depths)))\n",
    "    probs_quadrature = np.zeros((3, len(depths)))\n",
    "    for idx, d in enumerate(depths): \n",
    "        probs_inphase[0, idx] = np.abs(np.dot(psi01.conj().T, np.linalg.matrix_power(noisy_germ, d) @ psi01))**2\n",
    "        probs_inphase[1, idx] = np.abs(np.dot(psi12.conj().T, np.linalg.matrix_power(noisy_germ, d) @ psi12))**2\n",
    "        probs_inphase[2, idx] = np.abs(np.dot(psi23.conj().T, np.linalg.matrix_power(noisy_germ, d) @ psi23))**2\n",
    "        probs_quadrature[0, idx] = np.abs(np.dot(psi01.conj().T, np.linalg.matrix_power(noisy_germ, d) @ psi01_q))**2\n",
    "        probs_quadrature[1, idx] = np.abs(np.dot(psi12.conj().T, np.linalg.matrix_power(noisy_germ, d) @ psi12_q))**2\n",
    "        probs_quadrature[2, idx] = np.abs(np.dot(psi23.conj().T, np.linalg.matrix_power(noisy_germ, d) @ psi23_q))**2\n",
    "    # clip to [0, 1]\n",
    "    probs_inphase = np.clip(probs_inphase, 0, 1)\n",
    "    probs_quadrature = np.clip(probs_quadrature, 0, 1)\n",
    "    return probs_inphase, probs_quadrature\n",
    "    \n",
    "\n",
    "def sample_from_prob_series(prob_series, num_shots):\n",
    "    \"\"\"Binomial sampling from a probability series\"\"\"\n",
    "    count_series = np.zeros(len(prob_series))\n",
    "    for i in range(prob_series.shape[0]):\n",
    "        count_series[i] = np.sum(np.random.binomial(num_shots, prob_series[i]))\n",
    "    return count_series\n",
    "\n",
    "def make_rpe_estimate_from_counts(inphase_counts, quad_counts, num_counts_per_circ, depths):\n",
    "    experiment = _rpeQ()\n",
    "    for idx, d in enumerate(depths):\n",
    "        if d == 0:\n",
    "            continue\n",
    "        experiment.process_cos(d, (int(inphase_counts[idx]), int(num_counts_per_circ-inphase_counts[idx])))\n",
    "        experiment.process_sin(d, (int(num_counts_per_circ-quad_counts[idx]), int(quad_counts[idx])))\n",
    "    analysis = RobustPhaseEstimation(experiment)\n",
    "    last_good_generation = analysis.check_unif_local(historical=True)\n",
    "    estimates = analysis.angle_estimates\n",
    "    return estimates, last_good_generation\n",
    "\n",
    "def estimate_cartan_coefs_of_germ(params, germ, depths, counts):\n",
    "    probs_inphase, probs_quadrature = make_prob_series(params, germ, depths)\n",
    "    all_estimates = []\n",
    "    all_lggs = []\n",
    "    for i in range(3): \n",
    "        inphase_counts = sample_from_prob_series(probs_inphase[i], counts)\n",
    "        quad_counts = sample_from_prob_series(probs_quadrature[i], counts)\n",
    "        estimates, last_good_generation = make_rpe_estimate_from_counts(inphase_counts, quad_counts, counts, depths)\n",
    "        all_estimates.append(estimates)\n",
    "        all_lggs.append(last_good_generation)\n",
    "    return all_estimates, all_lggs\n"
   ]
  },
  {
   "cell_type": "code",
   "execution_count": 387,
   "metadata": {},
   "outputs": [
    {
     "data": {
      "text/plain": [
       "([array([0.        , 0.01099823, 0.01796899, 0.00678408, 0.00180362,\n",
       "         0.00367613, 0.00722141, 0.01671192]),\n",
       "  array([6.23721771e+00, 6.25415984e+00, 6.49853593e-03, 1.75339201e-03,\n",
       "         6.28051382e+00, 6.28042701e+00, 6.27668184e+00, 6.27401184e+00]),\n",
       "  array([3.21346862, 3.14059265, 3.15160733, 3.15402603, 3.15420855,\n",
       "         3.15440349, 3.15916942, 3.15847353])],\n",
       " [7, 7, 7])"
      ]
     },
     "execution_count": 387,
     "metadata": {},
     "output_type": "execute_result"
    }
   ],
   "source": [
    "estimate_cartan_coefs_of_germ(0.01*np.random.randn(15), optimal_germs[0], [2**i for i in range(8)], 1000)"
   ]
  },
  {
   "cell_type": "code",
   "execution_count": 388,
   "metadata": {},
   "outputs": [],
   "source": [
    "probs_inphase, probs_quadrature = make_prob_series(x, optimal_germs[0], [i for i in range(100)])"
   ]
  },
  {
   "cell_type": "code",
   "execution_count": 389,
   "metadata": {},
   "outputs": [
    {
     "data": {
      "text/plain": [
       "[<matplotlib.lines.Line2D at 0x17fd3cfe0>]"
      ]
     },
     "execution_count": 389,
     "metadata": {},
     "output_type": "execute_result"
    },
    {
     "data": {
      "image/png": "[encoded data removed]",
      "text/plain": [
       "<Figure size 640x480 with 1 Axes>"
      ]
     },
     "metadata": {},
     "output_type": "display_data"
    }
   ],
   "source": [
    "plt.plot(probs_inphase[0])\n",
    "plt.plot(probs_quadrature[0])"
   ]
  },
  {
   "cell_type": "code",
   "execution_count": 390,
   "metadata": {},
   "outputs": [
    {
     "data": {
      "text/plain": [
       "[<matplotlib.lines.Line2D at 0x17fd88ef0>]"
      ]
     },
     "execution_count": 390,
     "metadata": {},
     "output_type": "execute_result"
    },
    {
     "data": {
      "image/png": "[encoded data removed]",
      "text/plain": [
       "<Figure size 640x480 with 1 Axes>"
      ]
     },
     "metadata": {},
     "output_type": "display_data"
    }
   ],
   "source": [
    "plt.plot(probs_inphase[1])\n",
    "plt.plot(probs_quadrature[1])"
   ]
  },
  {
   "cell_type": "code",
   "execution_count": 391,
   "metadata": {},
   "outputs": [
    {
     "data": {
      "text/plain": [
       "[<matplotlib.lines.Line2D at 0x17fde1f40>]"
      ]
     },
     "execution_count": 391,
     "metadata": {},
     "output_type": "execute_result"
    },
    {
     "data": {
      "image/png": "[encoded data removed]",
      "text/plain": [
       "<Figure size 640x480 with 1 Axes>"
      ]
     },
     "metadata": {},
     "output_type": "display_data"
    }
   ],
   "source": [
    "plt.plot(probs_inphase[2])\n",
    "plt.plot(probs_quadrature[2])"
   ]
  },
  {
   "cell_type": "code",
   "execution_count": 392,
   "metadata": {},
   "outputs": [],
   "source": [
    "def rectify_phase(phase):\n",
    "    return np.mod(phase, 2*np.pi)"
   ]
  },
  {
   "cell_type": "code",
   "execution_count": 393,
   "metadata": {},
   "outputs": [],
   "source": [
    "x = 0.01*np.random.randn(15)"
   ]
  },
  {
   "cell_type": "code",
   "execution_count": 394,
   "metadata": {},
   "outputs": [
    {
     "data": {
      "text/plain": [
       "([array([3.26718069, 3.31962701, 3.27480363, 3.27499366, 3.26741581,\n",
       "         3.26651438, 3.26791302, 3.26697643, 3.26784137, 3.26768133,\n",
       "         3.26746141, 3.26746652, 3.26745225, 3.26746301, 3.26745604,\n",
       "         3.26745446, 3.26745425, 3.2674539 , 3.26745471, 3.26745434,\n",
       "         3.26745435, 3.26745442, 3.26745438, 3.26745436]),\n",
       "  array([1.7416003 , 1.70837921, 1.74178   , 1.74650228, 1.74526249,\n",
       "         1.74652466, 1.74535723, 1.74536227, 1.74569824, 1.74577984,\n",
       "         1.74574511, 1.7457808 , 1.74573918, 1.74575931, 1.74575118,\n",
       "         1.745748  , 1.74574973, 1.74574827, 1.7457486 , 1.74574842,\n",
       "         1.74574859, 1.74574857, 1.74574856, 1.74574856]),\n",
       "  array([2.86896248, 2.89011271, 2.89398586, 2.89910724, 2.90060028,\n",
       "         2.898068  , 2.89917803, 2.90111913, 2.90053724, 2.90039649,\n",
       "         2.90019532, 2.90030164, 2.90029498, 2.90028441, 2.90028673,\n",
       "         2.9002842 , 2.90028633, 2.90028629, 2.9002856 , 2.90028513,\n",
       "         2.90028534, 2.90028533, 2.90028526, 2.90028529])],\n",
       " [23, 23, 23])"
      ]
     },
     "execution_count": 394,
     "metadata": {},
     "output_type": "execute_result"
    }
   ],
   "source": [
    "estimate_cartan_coefs_of_germ(0.1*np.random.randn(15), optimal_germs[4], [2**i for i in range(24)], 1000)"
   ]
  },
  {
   "cell_type": "code",
   "execution_count": 395,
   "metadata": {},
   "outputs": [
    {
     "name": "stdout",
     "output_type": "stream",
     "text": [
      "['CZ']\n",
      "0.006234997119995513 0.01855088182763199 3.15585122160259\n",
      "[0.01217676 6.27782565 3.14378125]\n",
      "[17, 12, 7]\n",
      "('CZ', 'X2', 'X2', 'Y1')\n",
      "3.1556239716076835 4.695185872944275 3.1595649518294073\n",
      "[3.15561243 4.69517278 3.15958274]\n",
      "[17, 17, 17]\n",
      "('Y1', 'Y2', 'Y2', 'CZ')\n",
      "3.14145474133203 4.717825328177391 3.128353435868641\n",
      "[3.14152361 4.71781098 3.12839471]\n",
      "[17, 17, 17]\n",
      "('X1', 'X1', 'Y2', 'CZ')\n",
      "3.139083022505291 1.5920571355441173 3.1274373557102026\n",
      "[3.13903529 1.5920363  3.12739942]\n",
      "[17, 17, 17]\n",
      "('CZ', 'Y2', 'Y1', 'Y1')\n",
      "3.1631634646523166 1.5742937989419807 3.1387215827400796\n",
      "[3.16319142 1.57432163 3.13867356]\n",
      "[17, 17, 17]\n"
     ]
    }
   ],
   "source": [
    "depths = np.array([2**i for i in range(18)])\n",
    "\n",
    "for germ in optimal_germs:\n",
    "    print(germ)\n",
    "    estimate, lgg = estimate_cartan_coefs_of_germ(x, germ, depths, 1000)\n",
    "    print(estimate[0][-1], estimate[1][-1], estimate[2][-1])\n",
    "    print(rectify_phase(extract_cartan_params(germ, x)))\n",
    "    print(lgg)\n",
    "\n"
   ]
  },
  {
   "cell_type": "code",
   "execution_count": 396,
   "metadata": {},
   "outputs": [],
   "source": [
    "def angle_difference(angle1, angle2):\n",
    "  \"\"\"Calculates the smallest difference between two angles in radians.\n",
    "\n",
    "  Args:\n",
    "    angle1: The first angle in radians.\n",
    "    angle2: The second angle in radians.\n",
    "\n",
    "  Returns:\n",
    "    The smallest difference between the two angles in radians.\n",
    "  \"\"\"\n",
    "  diff = np.mod(angle2 - angle1 + np.pi, 2 * np.pi) - np.pi\n",
    "  return diff\n"
   ]
  },
  {
   "cell_type": "code",
   "execution_count": 397,
   "metadata": {},
   "outputs": [],
   "source": [
    "def model_loss(x, germs, cartain_coef_estimates):\n",
    "        loss = 0\n",
    "        for germ, est in zip(germs, cartan_coef_estimates):\n",
    "            for i in range(3):\n",
    "                loss += angle_difference(extract_cartan_params(germ, x)[i], est[i])**2\n",
    "        return loss \n",
    "\n",
    "def recover_model_params(germs, cartan_coef_estimates):\n",
    "    \n",
    "    \n",
    "    from scipy.optimize import minimize\n",
    "    x0 = np.zeros(15)\n",
    "    bounds = [(-0.2, 0.2) for i in range(15)]\n",
    "    res = minimize(model_loss, x0, args=(germs, cartan_coef_estimates), bounds=bounds)\n",
    "    return res\n",
    "    "
   ]
  },
  {
   "cell_type": "code",
   "execution_count": 398,
   "metadata": {},
   "outputs": [],
   "source": [
    "cartan_coef_estimates = np.zeros((len(optimal_germs), 3))\n",
    "for idx, germ in enumerate(optimal_germs):\n",
    "    eseries = estimate_cartan_coefs_of_germ(x, germ, depths, 100)[0]\n",
    "    for i in range(3):\n",
    "        cartan_coef_estimates[idx, i] = eseries[i][-1]"
   ]
  },
  {
   "cell_type": "code",
   "execution_count": 399,
   "metadata": {},
   "outputs": [
    {
     "data": {
      "text/plain": [
       "array([[0.00623493, 0.01850399, 3.155899  ],\n",
       "       [3.15562465, 4.69518524, 3.1595656 ],\n",
       "       [3.14145443, 4.71782533, 3.12835321],\n",
       "       [3.13908247, 1.5920571 , 3.12743702],\n",
       "       [3.16316203, 1.57429378, 3.13872161]])"
      ]
     },
     "execution_count": 399,
     "metadata": {},
     "output_type": "execute_result"
    }
   ],
   "source": [
    "cartan_coef_estimates"
   ]
  },
  {
   "cell_type": "code",
   "execution_count": 400,
   "metadata": {},
   "outputs": [],
   "source": [
    "res = recover_model_params(optimal_germs, cartan_coef_estimates)"
   ]
  },
  {
   "cell_type": "code",
   "execution_count": 401,
   "metadata": {},
   "outputs": [
    {
     "data": {
      "text/plain": [
       "array([-0.01262166,  0.01140772,  0.01024607,  0.00161878,  0.00055838,\n",
       "       -0.0147927 , -0.00111553, -0.02692457,  0.00538344, -0.01048472,\n",
       "        0.00454171,  0.02640512, -0.00247812, -0.00634235, -0.00392671])"
      ]
     },
     "execution_count": 401,
     "metadata": {},
     "output_type": "execute_result"
    }
   ],
   "source": [
    "res.x"
   ]
  },
  {
   "cell_type": "code",
   "execution_count": 402,
   "metadata": {},
   "outputs": [
    {
     "data": {
      "text/plain": [
       "array([-0.01346228,  0.01484931,  0.00711148,  0.00363427,  0.00403483,\n",
       "       -0.0133073 , -0.00104158, -0.01839441,  0.00371439, -0.00908683,\n",
       "       -0.0038469 ,  0.00178343, -0.00024699, -0.00649558,  0.00506233])"
      ]
     },
     "execution_count": 402,
     "metadata": {},
     "output_type": "execute_result"
    }
   ],
   "source": [
    "x"
   ]
  },
  {
   "cell_type": "code",
   "execution_count": 403,
   "metadata": {},
   "outputs": [
    {
     "data": {
      "text/plain": [
       "5.392103917068643e-05"
      ]
     },
     "execution_count": 403,
     "metadata": {},
     "output_type": "execute_result"
    }
   ],
   "source": [
    "res.fun"
   ]
  },
  {
   "cell_type": "code",
   "execution_count": 404,
   "metadata": {},
   "outputs": [
    {
     "data": {
      "text/plain": [
       "0.0007516338942416356"
      ]
     },
     "execution_count": 404,
     "metadata": {},
     "output_type": "execute_result"
    }
   ],
   "source": [
    "model_loss(x, optimal_germs, cartan_coef_estimates)"
   ]
  },
  {
   "cell_type": "markdown",
   "metadata": {},
   "source": [
    "# Finding the fiducials"
   ]
  },
  {
   "cell_type": "code",
   "execution_count": 405,
   "metadata": {},
   "outputs": [],
   "source": [
    "def find_nonentangled_inphase_state_prep_vectors(germ):\n",
    "    target_u = germ_to_target(germ)\n",
    "    evals_targ, evecs_targ = np.linalg.eig(target_u)\n",
    "    evec_targ_list = [evecs_targ[:,i] for i in range(4)]\n",
    "    indices = []\n",
    "    for i in range(4):\n",
    "        for j in range(i+1, 4):\n",
    "            psi_ij = (evec_targ_list[i] + evec_targ_list[j])/np.sqrt(2)\n",
    "            if check_if_entangled(psi_ij) is False:\n",
    "                indices.append((i, j))\n",
    "    return indices\n",
    "\n",
    "def find_nonentangled_quadrature_state_prep_vectors(germ):\n",
    "    target_u = germ_to_target(germ)\n",
    "    evals_targ, evecs_targ = np.linalg.eig(target_u)\n",
    "    evec_targ_list = [evecs_targ[:,i] for i in range(4)]\n",
    "    indices = []\n",
    "    for i in range(4):\n",
    "        for j in range(i+1, 4):\n",
    "            psi_ij = (evec_targ_list[i] + 1j*evec_targ_list[j])/np.sqrt(2)\n",
    "            if check_if_entangled(psi_ij) is False:\n",
    "                indices.append((i, j))\n",
    "    return indices"
   ]
  },
  {
   "cell_type": "code",
   "execution_count": 406,
   "metadata": {},
   "outputs": [
    {
     "ename": "NameError",
     "evalue": "name 'check_if_entangled' is not defined",
     "output_type": "error",
     "traceback": [
      "\u001b[0;31m---------------------------------------------------------------------------\u001b[0m",
      "\u001b[0;31mNameError\u001b[0m                                 Traceback (most recent call last)",
      "Cell \u001b[0;32mIn[406], line 2\u001b[0m\n\u001b[1;32m      1\u001b[0m \u001b[38;5;28;01mfor\u001b[39;00m germ \u001b[38;5;129;01min\u001b[39;00m optimal_germs:\n\u001b[0;32m----> 2\u001b[0m     \u001b[38;5;28mprint\u001b[39m(\u001b[43mfind_nonentangled_inphase_state_prep_vectors\u001b[49m\u001b[43m(\u001b[49m\u001b[43mgerm\u001b[49m\u001b[43m)\u001b[49m)\n\u001b[1;32m      4\u001b[0m \u001b[38;5;28;01mfor\u001b[39;00m germ \u001b[38;5;129;01min\u001b[39;00m optimal_germs:\n\u001b[1;32m      5\u001b[0m     \u001b[38;5;28mprint\u001b[39m(germ, find_nonentangled_quadrature_state_prep_vectors(germ))\n",
      "Cell \u001b[0;32mIn[405], line 9\u001b[0m, in \u001b[0;36mfind_nonentangled_inphase_state_prep_vectors\u001b[0;34m(germ)\u001b[0m\n\u001b[1;32m      7\u001b[0m     \u001b[38;5;28;01mfor\u001b[39;00m j \u001b[38;5;129;01min\u001b[39;00m \u001b[38;5;28mrange\u001b[39m(i\u001b[38;5;241m+\u001b[39m\u001b[38;5;241m1\u001b[39m, \u001b[38;5;241m4\u001b[39m):\n\u001b[1;32m      8\u001b[0m         psi_ij \u001b[38;5;241m=\u001b[39m (evec_targ_list[i] \u001b[38;5;241m+\u001b[39m evec_targ_list[j])\u001b[38;5;241m/\u001b[39mnp\u001b[38;5;241m.\u001b[39msqrt(\u001b[38;5;241m2\u001b[39m)\n\u001b[0;32m----> 9\u001b[0m         \u001b[38;5;28;01mif\u001b[39;00m \u001b[43mcheck_if_entangled\u001b[49m(psi_ij) \u001b[38;5;129;01mis\u001b[39;00m \u001b[38;5;28;01mFalse\u001b[39;00m:\n\u001b[1;32m     10\u001b[0m             indices\u001b[38;5;241m.\u001b[39mappend((i, j))\n\u001b[1;32m     11\u001b[0m \u001b[38;5;28;01mreturn\u001b[39;00m indices\n",
      "\u001b[0;31mNameError\u001b[0m: name 'check_if_entangled' is not defined"
     ]
    }
   ],
   "source": [
    "for germ in optimal_germs:\n",
    "    print(find_nonentangled_inphase_state_prep_vectors(germ))\n",
    "\n",
    "for germ in optimal_germs:\n",
    "    print(germ, find_nonentangled_quadrature_state_prep_vectors(germ))"
   ]
  },
  {
   "cell_type": "code",
   "execution_count": null,
   "metadata": {},
   "outputs": [],
   "source": [
    "def schmidt_rank(state_vector):\n",
    "    \"\"\"\n",
    "    Calculates the Schmidt rank of a state vector.\n",
    "\n",
    "    Args:\n",
    "    state_vector: The state vector as a numpy array. \n",
    "                    It should be reshaped to a 2D array representing a matrix \n",
    "                    if the state vector describes a bipartite system.\n",
    "\n",
    "    Returns:\n",
    "    The Schmidt rank of the state vector.\n",
    "    \"\"\"\n",
    "\n",
    "    # Calculate the Singular Value Decomposition (SVD)\n",
    "    mat = state_vector.reshape((int(np.sqrt(len(state_vector))), int(np.sqrt(len(state_vector)))))\n",
    "    U, S, V = np.linalg.svd(mat)\n",
    "    # The Schmidt rank is the number of non-zero singular values\n",
    "    schmidt_rank = np.sum(S > 1e-10)  # Using a small tolerance to account for numerical errors\n",
    "\n",
    "    return schmidt_rank\n",
    "\n",
    "def check_if_entangled(psi):\n",
    "    \"\"\"\n",
    "    Check if a state is entangled\n",
    "    by calculating the Schmidt rank\n",
    "    \"\"\"\n",
    "    schmidt_rank_psi = schmidt_rank(psi)\n",
    "\n",
    "    if schmidt_rank_psi == 1:\n",
    "        return False\n",
    "    else:\n",
    "        return True\n",
    "\n"
   ]
  },
  {
   "cell_type": "code",
   "execution_count": null,
   "metadata": {},
   "outputs": [
    {
     "name": "stdout",
     "output_type": "stream",
     "text": [
      "False\n",
      "True\n",
      "False\n",
      "False\n",
      "True\n",
      "False\n",
      "False\n",
      "True\n",
      "False\n",
      "False\n",
      "True\n",
      "False\n",
      "False\n",
      "True\n",
      "False\n"
     ]
    }
   ],
   "source": [
    "for germ in optimal_germs:\n",
    "    for psi in construct_inphase_state_prep_vectors(germ):\n",
    "        print(check_if_entangled(psi))"
   ]
  },
  {
   "cell_type": "code",
   "execution_count": null,
   "metadata": {},
   "outputs": [
    {
     "name": "stdout",
     "output_type": "stream",
     "text": [
      "['CZ'] False\n",
      "['CZ'] True\n",
      "['CZ'] False\n",
      "('CZ', 'X2', 'X2', 'Y1') True\n",
      "('CZ', 'X2', 'X2', 'Y1') True\n",
      "('CZ', 'X2', 'X2', 'Y1') True\n",
      "('Y1', 'Y2', 'Y2', 'CZ') True\n",
      "('Y1', 'Y2', 'Y2', 'CZ') True\n",
      "('Y1', 'Y2', 'Y2', 'CZ') True\n",
      "('X1', 'X1', 'Y2', 'CZ') True\n",
      "('X1', 'X1', 'Y2', 'CZ') True\n",
      "('X1', 'X1', 'Y2', 'CZ') True\n",
      "('CZ', 'Y2', 'Y1', 'Y1') True\n",
      "('CZ', 'Y2', 'Y1', 'Y1') True\n",
      "('CZ', 'Y2', 'Y1', 'Y1') True\n"
     ]
    }
   ],
   "source": [
    "for germ in optimal_germs:\n",
    "    for psi in construct_quadrature_state_prep_vectors(germ):\n",
    "        print(germ, check_if_entangled(psi))"
   ]
  },
  {
   "cell_type": "code",
   "execution_count": null,
   "metadata": {},
   "outputs": [],
   "source": [
    "def make_zxzxz_unitary_1q(phases):\n",
    "    u = np.eye(2)\n",
    "    u = expm(-1j*phases[0]*SigZ/2) @ u\n",
    "    u = expm(-1j*np.pi*SigX/4) @ u\n",
    "    u = expm(-1j*phases[1]*SigZ/2) @ u\n",
    "    u = expm(-1j*np.pi*SigX/4) @ u\n",
    "    u = expm(-1j*phases[2]*SigZ/2) @ u\n",
    "    return u\n",
    "\n",
    "def kak_prep_synthesis(target_state):\n",
    "    \"\"\"\n",
    "    Synthesize a preparation circuit for a target state\n",
    "    using the KAK decomposition\n",
    "    \"\"\"\n",
    "    \n",
    "\n",
    "def separable_prep_cost(phases, target_state):\n",
    "    U_Q1 = make_zxzxz_unitary_1q(phases[0:3])\n",
    "    U_Q2 = make_zxzxz_unitary_1q(phases[3:6])\n",
    "    U = np.kron(U_Q1, U_Q2)\n",
    "    U_prep = U@np.array([1, 0, 0, 0])\n",
    "    return 1 - abs(np.dot(U_prep.conj().T, target_state))**2\n",
    "\n",
    "def entangled_state_cost(phases, target_state):\n",
    "    target_cz = model_CZ(np.zeros(15))\n",
    "    U_Q1_1 = make_zxzxz_unitary_1q(phases[0:3])\n",
    "    U_Q2_1 = make_zxzxz_unitary_1q(phases[3:6])\n",
    "    K_1 = np.kron(U_Q1_1, U_Q2_1)\n",
    "    U_Q1_2 = make_zxzxz_unitary_1q(phases[6:9])\n",
    "    U_Q2_2 = make_zxzxz_unitary_1q(phases[9:12])\n",
    "    K_2 = np.kron(U_Q1_2, U_Q2_2)\n",
    "    U = K_2 @ target_cz @ K_1\n",
    "    prep_from_U = U @ np.array([1, 0, 0, 0])\n",
    "    return 1 - abs(np.dot(prep_from_U.conj().T, target_state))**2\n",
    "\n",
    "def double_cz_gate_state_prep_cost(phases, target_state):\n",
    "    target_cz = model_CZ(np.zeros(15))\n",
    "    U_Q1_1 = make_zxzxz_unitary_1q(phases[0:3])\n",
    "    U_Q2_1 = make_zxzxz_unitary_1q(phases[3:6])\n",
    "    K_1 = np.kron(U_Q1_1, U_Q2_1)\n",
    "    U_Q1_2 = make_zxzxz_unitary_1q(phases[6:9])\n",
    "    U_Q2_2 = make_zxzxz_unitary_1q(phases[9:12])\n",
    "    K_2 = np.kron(U_Q1_2, U_Q2_2)\n",
    "    U_Q1_3 = make_zxzxz_unitary_1q(phases[12:15])\n",
    "    U_Q2_3 = make_zxzxz_unitary_1q(phases[15:18])\n",
    "    K_3 = np.kron(U_Q1_2, U_Q2_2)\n",
    "    U = K_2 @ target_cz @ K_1 @ target_cz @ K_3\n",
    "    prep_from_U = U @ np.array([1, 0, 0, 0])\n",
    "    return 1 - abs(np.dot(prep_from_U.conj().T, target_state))**2\n",
    "\n",
    "\n",
    "def find_preparation_circuit(target_state):\n",
    "    \"\"\"\n",
    "    Find a circuit that prepares a target state\n",
    "\n",
    "    use an optimization algorithm to find the best,\n",
    "    bound the phases between [0, 2pi]\n",
    "    \"\"\"\n",
    "    from scipy.optimize import minimize\n",
    "    if check_if_entangled(target_state) is False:\n",
    "        bounds = [(0, 2*np.pi) for i in range(6)]\n",
    "        res = minimize(state_cost, np.random.rand(6), args=(target_state), bounds=bounds)\n",
    "    else:\n",
    "        bounds = [(0, 2*np.pi) for i in range(12)]\n",
    "        res = minimize(entangled_state_cost, np.random.rand(12), args=(target_state), bounds=bounds)\n",
    "        if res.fun > 1e-3:\n",
    "            bounds = [(0, 2*np.pi) for i in range(18)]\n",
    "            res = minimize(double_cz_gate_state_prep_cost, np.random.rand(18), args=(target_state), bounds=bounds)\n",
    "    return res.x, res.fun\n",
    "    "
   ]
  },
  {
   "cell_type": "code",
   "execution_count": null,
   "metadata": {},
   "outputs": [],
   "source": [
    "inphase_state_preps = [construct_inphase_state_prep_vectors(germ) for germ in optimal_germs]\n",
    "quadrature_state_preps = [construct_quadrature_state_prep_vectors(germ) for germ in optimal_germs]"
   ]
  },
  {
   "cell_type": "code",
   "execution_count": null,
   "metadata": {},
   "outputs": [
    {
     "data": {
      "text/plain": [
       "(array([5.36194497e-01, 1.57081172e+00, 0.00000000e+00, 2.08751982e-01,\n",
       "        1.57079123e+00, 0.00000000e+00, 8.25839581e-06, 7.96325977e-01,\n",
       "        3.72027977e-01, 0.00000000e+00, 7.74480485e-01, 3.72015889e-01]),\n",
       " 1.1005218958359819e-10)"
      ]
     },
     "execution_count": 403,
     "metadata": {},
     "output_type": "execute_result"
    }
   ],
   "source": [
    "find_preparation_circuit(inphase_state_preps[0][1])"
   ]
  },
  {
   "cell_type": "code",
   "execution_count": null,
   "metadata": {},
   "outputs": [
    {
     "name": "stdout",
     "output_type": "stream",
     "text": [
      "7.216449660063518e-14\n",
      "9.727996186370547e-12\n",
      "0.0\n",
      "1.7896795156957523e-13\n",
      "1.2185852327206703e-10\n",
      "6.41908748377773e-12\n",
      "8.228306924706885e-12\n",
      "7.29178939451458e-11\n",
      "8.881784197001252e-16\n",
      "9.985656745925553e-11\n",
      "1.773470259536225e-12\n",
      "1.3322676295501878e-15\n",
      "9.976464099281657e-13\n",
      "6.459386359125574e-10\n",
      "0.0\n",
      "2.1449508835758024e-13\n",
      "2.719402480977351e-11\n",
      "5.706546346573305e-14\n",
      "5.367351008089827e-11\n",
      "8.994582856303168e-12\n",
      "2.967692758204521e-11\n",
      "1.0190359667205939e-10\n",
      "7.832601234269987e-11\n",
      "1.1800005417228476e-10\n",
      "4.2056802485035405e-11\n",
      "1.907762836594884e-11\n",
      "1.339472976980005e-10\n",
      "4.933720099131733e-11\n",
      "1.7998580403855158e-10\n",
      "2.134470378223341e-11\n"
     ]
    }
   ],
   "source": [
    "all_inphase_preps = [prep for preps in inphase_state_preps for prep in preps]\n",
    "all_quadrature_preps = [prep for preps in quadrature_state_preps for prep in preps]\n",
    "for prep in all_inphase_preps:\n",
    "    print(find_preparation_circuit(prep)[1])\n",
    "for prep in all_quadrature_preps:\n",
    "    print(find_preparation_circuit(prep)[1])"
   ]
  }
 ],
 "metadata": {
  "kernelspec": {
   "display_name": "qubic",
   "language": "python",
   "name": "python3"
  },
  "language_info": {
   "codemirror_mode": {
    "name": "ipython",
    "version": 3
   },
   "file_extension": ".py",
   "mimetype": "text/x-python",
   "name": "python",
   "nbconvert_exporter": "python",
   "pygments_lexer": "ipython3",
   "version": "3.12.3"
  }
 },
 "nbformat": 4,
 "nbformat_minor": 2
}
