{
 "cells": [
  {
   "cell_type": "code",
   "execution_count": 51,
   "metadata": {},
   "outputs": [],
   "source": [
    "import pygsti\n",
    "from scipy.linalg import expm\n",
    "import numpy as np\n",
    "from pygsti.tools import unitary_to_superop\n",
    "from pygsti.modelpacks import smq1Q_XYZI\n",
    "from matplotlib import pyplot as plt\n",
    "from pygsti.circuits import Circuit\n",
    "from quapack.pyRPE import RobustPhaseEstimation\n",
    "from quapack.pyRPE.quantum import Q as _rpeQ\n",
    "from tqdm import tqdm\n",
    "from importlib import reload"
   ]
  },
  {
   "cell_type": "code",
   "execution_count": 52,
   "metadata": {},
   "outputs": [],
   "source": [
    "def PauliMatrix(idx):\n",
    "    if idx == 0:\n",
    "        return np.eye(2)\n",
    "    elif idx == 1:\n",
    "        return np.array([[0, 1], [1, 0]])\n",
    "    elif idx == 2:\n",
    "        return np.array([[0, -1j], [1j, 0]])\n",
    "    elif idx == 3:\n",
    "        return np.array([[1, 0], [0, -1]])\n",
    "    else:\n",
    "        raise ValueError('Invalid index for Pauli matrix')\n",
    "    \n",
    "def PauliTensor(idx1, idx2):\n",
    "    return np.kron(PauliMatrix(idx1), PauliMatrix(idx2))\n",
    "\n",
    "def make_generator(pauli):\n",
    "    dimension = pauli.shape[0]\n",
    "    I = np.eye(dimension)\n",
    "    return -(1j/2)*(np.kron(I, pauli) - np.kron(pauli.T, I))\n",
    "\n",
    "def decimal_to_quaternary(n):\n",
    "    if n == 0:\n",
    "        return '0'\n",
    "    quaternary = ''\n",
    "    while n:\n",
    "        n, remainder = divmod(n, 4)\n",
    "        quaternary = str(remainder) + quaternary\n",
    "    return quaternary\n",
    "\n",
    "def decimal_to_pauli_string(idx, num_qubits):\n",
    "    quaternary = decimal_to_quaternary(idx).zfill(num_qubits)\n",
    "    return ''.join([['I', 'X', 'Y', 'Z'][int(digit)] for digit in quaternary])\n",
    "\n",
    "def decimal_to_pauli_tensor(idx, num_qubits):\n",
    "    quaternary = decimal_to_quaternary(idx).zfill(num_qubits)\n",
    "    tensor = 1\n",
    "    for digit in quaternary:\n",
    "        tensor = np.kron(tensor, PauliMatrix(int(digit)))\n",
    "    return tensor\n",
    "\n",
    "def unitary_to_pmat(U):\n",
    "    return np.kron(U.conj(), U)"
   ]
  },
  {
   "cell_type": "code",
   "execution_count": 53,
   "metadata": {},
   "outputs": [],
   "source": [
    "zz_generator = make_generator(PauliTensor(3, 3))\n",
    "zz_pmat = expm((np.pi/2)*zz_generator)"
   ]
  },
  {
   "cell_type": "code",
   "execution_count": 54,
   "metadata": {},
   "outputs": [],
   "source": [
    "def make_sorted_eigsystem(pmat):\n",
    "    eigvals, eigvecs = np.linalg.eig(pmat)\n",
    "    idxs = np.argsort(np.angle(eigvals))\n",
    "    return eigvals[idxs], eigvecs[:, idxs]\n",
    "\n",
    "def make_perturbation_vector(pmat, generator):\n",
    "    eigvals, eigenvectors = make_sorted_eigsystem(pmat)\n",
    "    perturbations = []\n",
    "    for e in eigenvectors:\n",
    "        p = np.conj(e).T @ generator @ e\n",
    "        perturbations.append(p)\n",
    "    return np.array(perturbations)"
   ]
  },
  {
   "cell_type": "code",
   "execution_count": 55,
   "metadata": {},
   "outputs": [],
   "source": [
    "def make_pertubation_dict(pmat, generators, interleaving_operators):\n",
    "    pertubation_dict = {}\n",
    "    for k, v in interleaving_operators.items():\n",
    "        pertubation_dict[k] = {}\n",
    "        for kg, g in generators.items():\n",
    "            pertubation_dict[k][kg] = make_perturbation_vector(pmat@v, g)\n",
    "    return pertubation_dict"
   ]
  },
  {
   "cell_type": "code",
   "execution_count": 56,
   "metadata": {},
   "outputs": [],
   "source": [
    "import itertools"
   ]
  },
  {
   "cell_type": "code",
   "execution_count": 57,
   "metadata": {},
   "outputs": [],
   "source": [
    "# make the set of all single qubit clifford rotations\n",
    "clifford_generators = {\n",
    "    'ri': np.eye(4),\n",
    "    'rx': expm((np.pi/2)*make_generator(PauliMatrix(1))), \n",
    "    'ry': expm((np.pi/2)*make_generator(PauliMatrix(2))),\n",
    "    'rz': expm((np.pi/2)*make_generator(PauliMatrix(3)))\n",
    "}\n",
    "num_products = 4\n",
    "all_product_strings = [i for i in itertools.product(clifford_generators.keys(), repeat=num_products)]\n",
    "complete_dict = {}\n",
    "for product in all_product_strings:\n",
    "    complete_dict[product] = np.linalg.multi_dot([clifford_generators[gen] for gen in product])\n",
    "# now remove duplicates from the dictionary\n",
    "unique_dict = {}\n",
    "cosets = {}\n",
    "for k, v in complete_dict.items():\n",
    "    # if the transformation is not in the dictionary, add it\n",
    "    if not any([np.allclose(v, u) for u in unique_dict.values()]):\n",
    "        unique_dict[k] = v\n",
    "        cosets[k] = [k]\n",
    "    # else add it to the corresponding coset\n",
    "    else:\n",
    "        for u, w in unique_dict.items():\n",
    "            if np.allclose(v, w):\n",
    "                cosets[u].append(k)\n",
    "                break\n",
    "all_clifford_operations_1q = unique_dict"
   ]
  },
  {
   "cell_type": "code",
   "execution_count": 58,
   "metadata": {},
   "outputs": [
    {
     "name": "stdout",
     "output_type": "stream",
     "text": [
      "24 unique products\n",
      "256 total products\n"
     ]
    }
   ],
   "source": [
    "print(len(unique_dict), 'unique products')\n",
    "print(len(complete_dict), 'total products')"
   ]
  },
  {
   "cell_type": "code",
   "execution_count": 99,
   "metadata": {},
   "outputs": [],
   "source": [
    "def clifford_gen_to_unitary(op):\n",
    "    if op == 'ri':\n",
    "        return np.eye(2)\n",
    "    elif op == 'rx':\n",
    "        return expm(-1j*(np.pi/4)*PauliMatrix(1))\n",
    "    elif op == 'ry':\n",
    "        return expm(-1j*(np.pi/4)*PauliMatrix(2))\n",
    "    elif op == 'rz':\n",
    "        return expm(-1j*(np.pi/4)*PauliMatrix(3))\n",
    "    else:\n",
    "        raise ValueError('Invalid Clifford operation')\n",
    "    \n",
    "\n",
    "\n",
    "def clifford_operations_to_unitary(op_list):\n",
    "    if len(op_list) == 0:\n",
    "        return np.eye(2)\n",
    "    return np.linalg.multi_dot([clifford_gen_to_unitary(op) for op in op_list])\n",
    "\n",
    "def clifford_ops_to_pmat_2q(ops1, ops2):\n",
    "    return unitary_to_pmat(np.kron(clifford_operations_to_unitary(ops1), clifford_operations_to_unitary(ops2)))\n",
    "\n",
    "    "
   ]
  },
  {
   "cell_type": "code",
   "execution_count": 100,
   "metadata": {},
   "outputs": [],
   "source": [
    "# make the tensor product of all single qubit clifford rotations\n",
    "all_separable_clifford_operations = {}\n",
    "for k, v in all_clifford_operations_1q.items():\n",
    "    for k2, v2 in all_clifford_operations_1q.items():\n",
    "        all_separable_clifford_operations[(k, k2)] = clifford_ops_to_pmat_2q(k, k2)"
   ]
  },
  {
   "cell_type": "code",
   "execution_count": 101,
   "metadata": {},
   "outputs": [],
   "source": [
    "list_all_clifford_operators = list(all_separable_clifford_operations.values())\n",
    "list_all_clifford_strings = list(all_separable_clifford_operations.keys())"
   ]
  },
  {
   "cell_type": "code",
   "execution_count": 116,
   "metadata": {},
   "outputs": [
    {
     "data": {
      "text/plain": [
       "(('ri', 'ri', 'ri', 'ri'), ('ri', 'ri', 'ri', 'ry'))"
      ]
     },
     "execution_count": 116,
     "metadata": {},
     "output_type": "execute_result"
    }
   ],
   "source": [
    "list_all_clifford_strings[2]"
   ]
  },
  {
   "cell_type": "code",
   "execution_count": 118,
   "metadata": {},
   "outputs": [],
   "source": [
    "PIY = unitary_to_pmat(np.kron(np.eye(2), expm(-1j*(np.pi/4)*PauliMatrix(2))))"
   ]
  },
  {
   "cell_type": "code",
   "execution_count": 119,
   "metadata": {},
   "outputs": [
    {
     "data": {
      "text/plain": [
       "True"
      ]
     },
     "execution_count": 119,
     "metadata": {},
     "output_type": "execute_result"
    }
   ],
   "source": [
    "pIY = expm((np.pi/2)*make_generator(np.kron(np.eye(2), PauliMatrix(2))))\n",
    "np.all(np.isclose(pIY, PIY))"
   ]
  },
  {
   "cell_type": "code",
   "execution_count": 121,
   "metadata": {},
   "outputs": [
    {
     "data": {
      "text/plain": [
       "True"
      ]
     },
     "execution_count": 121,
     "metadata": {},
     "output_type": "execute_result"
    }
   ],
   "source": [
    "np.all(np.isclose(list_all_clifford_operators[2], PIY))"
   ]
  },
  {
   "cell_type": "code",
   "execution_count": 122,
   "metadata": {},
   "outputs": [],
   "source": [
    "# make all the hamiltonian generators\n",
    "all_hamiltonian_generators = {}\n",
    "for i in range(16):\n",
    "    pstring = decimal_to_pauli_string(i, 2)\n",
    "    generator = make_generator(decimal_to_pauli_tensor(i, 2))\n",
    "    all_hamiltonian_generators[pstring] = generator"
   ]
  },
  {
   "cell_type": "code",
   "execution_count": 110,
   "metadata": {},
   "outputs": [],
   "source": [
    "pdict = make_pertubation_dict(zz_pmat, all_hamiltonian_generators, all_separable_clifford_operations)"
   ]
  },
  {
   "cell_type": "code",
   "execution_count": 111,
   "metadata": {},
   "outputs": [],
   "source": [
    "def find_max_perturbation(pdict, generator_string):\n",
    "    max_perturb = 0\n",
    "    max_interleaving_op = -1\n",
    "    for interleaving_op_string in pdict.keys():\n",
    "        perturbation = pdict[interleaving_op_string][generator_string]\n",
    "        perturb = max(abs(perturbation))\n",
    "        if perturb > max_perturb:\n",
    "            max_perturb = perturb\n",
    "            max_interleaving_op = interleaving_op_string\n",
    "    return max_perturb, max_interleaving_op\n",
    "\n",
    "def rank_top_perturbations(pdict, generator_string, num_top_perturbations=5):\n",
    "    perturbations = []\n",
    "    for interleaving_op_string in pdict.keys():\n",
    "        perturbation = pdict[interleaving_op_string][generator_string]\n",
    "        perturbations.append((interleaving_op_string, max(abs(perturbation))))\n",
    "    perturbations.sort(key=lambda x: x[1], reverse=True)\n",
    "    return perturbations[:num_top_perturbations]\n",
    "\n",
    "def list_all_perterbations(pdict, generator_string):\n",
    "    perturbations = []\n",
    "    for interleaving_op_string in pdict.keys():\n",
    "        perturbation = pdict[interleaving_op_string][generator_string]\n",
    "        perturbations.append((interleaving_op_string, max(abs(perturbation))))\n",
    "    return perturbations"
   ]
  },
  {
   "cell_type": "code",
   "execution_count": 115,
   "metadata": {},
   "outputs": [
    {
     "data": {
      "text/plain": [
       "[((('ri', 'rx', 'ry', 'rx'), ('ri', 'ri', 'ri', 'rz')), 1.0042436740011402),\n",
       " ((('ri', 'ri', 'rx', 'rx'), ('ri', 'ri', 'ry', 'ry')), 1.0000000000000004),\n",
       " ((('ri', 'ri', 'ri', 'ri'), ('ri', 'ri', 'ri', 'ri')), 1.0),\n",
       " ((('ri', 'ri', 'ri', 'ri'), ('ri', 'ri', 'ri', 'rz')), 1.0),\n",
       " ((('ri', 'ri', 'ri', 'ri'), ('ri', 'ri', 'rz', 'rz')), 1.0)]"
      ]
     },
     "execution_count": 115,
     "metadata": {},
     "output_type": "execute_result"
    }
   ],
   "source": [
    "rank_top_perturbations(pdict, 'IZ')"
   ]
  },
  {
   "cell_type": "code",
   "execution_count": 124,
   "metadata": {},
   "outputs": [
    {
     "data": {
      "text/plain": [
       "[((('ri', 'ri', 'ry', 'ry'), ('rx', 'ry', 'ry', 'ry')), 0.8288592924627116),\n",
       " ((('ri', 'ri', 'ry', 'rx'), ('ri', 'rx', 'rx', 'ry')), 0.7088392820310624),\n",
       " ((('ri', 'ri', 'ry', 'ry'), ('ri', 'ri', 'ri', 'ri')), 0.6997202016541697),\n",
       " ((('ri', 'ri', 'ry', 'ry'), ('ri', 'ri', 'rx', 'ry')), 0.6852547876175787),\n",
       " ((('rx', 'rx', 'ry', 'rx'), ('rx', 'ry', 'ry', 'ry')), 0.6671749968386071)]"
      ]
     },
     "execution_count": 124,
     "metadata": {},
     "output_type": "execute_result"
    }
   ],
   "source": [
    "rank_top_perturbations(pdict, 'IX')"
   ]
  },
  {
   "cell_type": "code",
   "execution_count": 128,
   "metadata": {},
   "outputs": [
    {
     "data": {
      "text/plain": [
       "[((('rx', 'ry', 'rx', 'rx'), ('ri', 'ry', 'rx', 'rx')), 0.7901325599869612),\n",
       " ((('ri', 'ri', 'ry', 'ry'), ('ri', 'ri', 'ri', 'ri')), 0.6997202016541695),\n",
       " ((('rx', 'rx', 'ry', 'rx'), ('ri', 'rx', 'rx', 'rz')), 0.6818910898936869),\n",
       " ((('ri', 'ri', 'rx', 'ry'), ('ri', 'ri', 'rx', 'rx')), 0.6661628171789445),\n",
       " ((('ri', 'ri', 'rz', 'ry'), ('rx', 'rx', 'rx', 'ry')), 0.6611403091810973)]"
      ]
     },
     "execution_count": 128,
     "metadata": {},
     "output_type": "execute_result"
    }
   ],
   "source": [
    "rank_top_perturbations(pdict, 'ZX')"
   ]
  },
  {
   "cell_type": "code",
   "execution_count": 126,
   "metadata": {},
   "outputs": [
    {
     "data": {
      "text/plain": [
       "[((('ri', 'rx', 'rx', 'rz'), ('ri', 'ri', 'rx', 'rz')), 0.6640025990105775),\n",
       " ((('ri', 'ri', 'rz', 'rz'), ('ri', 'rx', 'rx', 'ry')), 0.6514778878198156),\n",
       " ((('ri', 'ri', 'rx', 'rx'), ('ri', 'ri', 'ri', 'ri')), 0.6401526561337315),\n",
       " ((('rx', 'rx', 'ry', 'rx'), ('ri', 'rx', 'rx', 'rz')), 0.6103053557561993),\n",
       " ((('ri', 'ry', 'rx', 'rx'), ('ri', 'rx', 'ry', 'ry')), 0.5877287667320381)]"
      ]
     },
     "execution_count": 126,
     "metadata": {},
     "output_type": "execute_result"
    }
   ],
   "source": [
    "rank_top_perturbations(pdict, 'IY')"
   ]
  },
  {
   "cell_type": "code",
   "execution_count": 127,
   "metadata": {},
   "outputs": [
    {
     "data": {
      "text/plain": [
       "[((('ri', 'ri', 'rz', 'ry'), ('ri', 'ri', 'rx', 'rz')), 0.6973293617517571),\n",
       " ((('ri', 'ri', 'rx', 'rz'), ('ri', 'rx', 'rx', 'ry')), 0.6623319022504598),\n",
       " ((('ri', 'ri', 'rx', 'rx'), ('ri', 'rx', 'ry', 'rx')), 0.6591569270336107),\n",
       " ((('ri', 'rx', 'rx', 'rx'), ('ri', 'ry', 'ry', 'ry')), 0.633267891487636),\n",
       " ((('ri', 'rx', 'ry', 'rx'), ('rx', 'rx', 'rx', 'ry')), 0.5979846707678924)]"
      ]
     },
     "execution_count": 127,
     "metadata": {},
     "output_type": "execute_result"
    }
   ],
   "source": [
    "rank_top_perturbations(pdict, 'YI')"
   ]
  },
  {
   "cell_type": "code",
   "execution_count": 133,
   "metadata": {},
   "outputs": [
    {
     "data": {
      "text/plain": [
       "(array([-0.80901699-5.87785252e-01j, -0.80901699-5.87785252e-01j,\n",
       "        -0.80901699-5.87785252e-01j,  0.30901699-9.51056516e-01j,\n",
       "         0.30901699-9.51056516e-01j,  0.30901699-9.51056516e-01j,\n",
       "         1.        +3.46944695e-17j,  1.        +1.11022302e-16j,\n",
       "         1.        +2.11636264e-16j,  1.        +2.22153025e-16j,\n",
       "         0.30901699+9.51056516e-01j,  0.30901699+9.51056516e-01j,\n",
       "         0.30901699+9.51056516e-01j, -0.80901699+5.87785252e-01j,\n",
       "        -0.80901699+5.87785252e-01j, -0.80901699+5.87785252e-01j]),\n",
       " array([[ 2.73861279e-01-2.73861279e-01j, -5.07658363e-02+3.37801155e-02j,\n",
       "          4.97109517e-02+5.90952182e-02j,  2.73861397e-01-2.73861160e-01j,\n",
       "         -6.41173153e-02-1.52536299e-02j,  1.13885272e-02+6.05263071e-03j,\n",
       "          3.80423749e-01+0.00000000e+00j,  5.09056603e-01+0.00000000e+00j,\n",
       "          3.52664003e-01-7.38224591e-02j,  3.79966971e-02+3.35463651e-01j,\n",
       "          2.25403118e-01+2.55797309e-01j,  1.00286351e-01+1.07780445e-02j,\n",
       "          4.63391020e-02-8.22219516e-03j, -1.44824717e-01+5.31569848e-02j,\n",
       "          1.02900437e-01+9.04054621e-02j,  2.97302124e-01+2.27980658e-01j],\n",
       "        [ 2.49631377e-02+4.11996826e-17j,  5.65676361e-01+0.00000000e+00j,\n",
       "         -1.91234667e-01+1.50123069e-01j,  3.72237732e-01+1.09085632e-06j,\n",
       "         -2.35608230e-01+5.84504171e-02j, -1.10036304e-01+1.47584643e-01j,\n",
       "         -1.76295469e-02-3.22799523e-01j, -5.88133005e-02-1.17208410e-01j,\n",
       "         -1.35030809e-01+7.72967411e-02j,  1.16637323e-01+3.84558842e-02j,\n",
       "         -7.81027780e-02-1.47816699e-01j, -1.55696754e-01+9.73618549e-02j,\n",
       "          2.24401496e-01-7.79337167e-03j,  2.99117689e-02-5.85393257e-02j,\n",
       "         -4.23405024e-02+3.49352838e-03j,  6.21891484e-03+1.72761343e-01j],\n",
       "        [-2.59327501e-02-2.59327501e-02j, -4.03793452e-02-1.68992564e-01j,\n",
       "          5.50487012e-01+0.00000000e+00j,  5.08977287e-02+5.08962708e-02j,\n",
       "          1.89993420e-01+5.64861899e-03j,  1.83879738e-01+3.36595601e-02j,\n",
       "          2.78728094e-01-2.08113033e-01j,  4.96995603e-02+1.40319358e-02j,\n",
       "         -1.75977461e-01-8.43495511e-02j,  2.03093239e-01+2.32109216e-01j,\n",
       "          1.63756837e-01-7.53006756e-02j,  9.45857934e-02+2.58280986e-02j,\n",
       "         -8.53693078e-02-2.27002633e-02j, -1.87661686e-01-3.35328761e-01j,\n",
       "          1.27267262e-01-2.88320252e-03j, -2.12285024e-01+3.64267119e-01j],\n",
       "        [-2.70448100e-01-8.67361738e-17j, -2.46065660e-01+2.57604394e-02j,\n",
       "          3.58696134e-02-6.08006804e-02j,  4.85079942e-01+0.00000000e+00j,\n",
       "          2.51804020e-01-1.20153867e-01j, -3.66715283e-02-1.49464321e-01j,\n",
       "         -6.91234313e-02-4.30700762e-02j,  9.85390719e-02+3.39246592e-02j,\n",
       "         -6.64064578e-02-6.75287393e-02j, -2.02916165e-01+5.43660472e-02j,\n",
       "          5.21005135e-02-1.16270117e-02j,  1.32703310e-01+2.05577312e-02j,\n",
       "         -1.69179431e-02+8.49663034e-02j,  4.56580013e-01+0.00000000e+00j,\n",
       "         -1.80255066e-01+1.66026976e-01j, -1.03047294e-01-5.90364573e-02j],\n",
       "        [-7.28583860e-17-1.57611048e-01j, -2.58656768e-02+9.37238664e-02j,\n",
       "         -6.42983670e-02-9.71822454e-02j, -1.13056395e-06+1.89668083e-01j,\n",
       "         -5.27288830e-02+2.29107879e-01j,  9.62325682e-02-2.53928043e-01j,\n",
       "         -3.22799523e-01+1.76295469e-02j, -1.17208410e-01+5.88133005e-02j,\n",
       "          7.72967411e-02+1.35030809e-01j,  3.84558842e-02-1.16637323e-01j,\n",
       "          4.48233349e-01+0.00000000e+00j,  2.52005299e-01-2.38165438e-01j,\n",
       "          2.01980235e-01-2.12538183e-01j,  1.14084319e-01-7.64426241e-02j,\n",
       "          4.96801081e-01+0.00000000e+00j,  1.22268981e-02+3.54211822e-02j],\n",
       "        [-9.12870929e-02+9.12870929e-02j, -1.97784555e-01+1.53303549e-01j,\n",
       "         -2.90179344e-03-3.15205462e-01j, -9.12890986e-02+9.12895435e-02j,\n",
       "         -1.48373846e-01+2.69590669e-01j,  1.31679006e-01+1.11382349e-01j,\n",
       "          2.27985181e-01-7.89371207e-02j, -3.51442160e-03+4.72233137e-02j,\n",
       "          5.39830167e-01+0.00000000e+00j,  3.25147971e-02+3.28005040e-01j,\n",
       "         -4.72341649e-03+1.76080401e-02j,  2.04741711e-01+8.38077489e-02j,\n",
       "          3.01376645e-01-7.71471126e-02j,  7.49542648e-02-1.65337603e-01j,\n",
       "         -2.42551533e-01-1.29439353e-01j, -8.02744444e-02-3.90633877e-02j],\n",
       "        [ 1.89665690e-01-1.80411242e-16j,  2.79344624e-01-4.41105550e-02j,\n",
       "          3.51762315e-02-2.78632854e-02j, -2.49643357e-02-2.67374995e-06j,\n",
       "         -1.41648384e-01-2.47316870e-01j,  5.20005222e-01+0.00000000e+00j,\n",
       "          3.67507236e-02+1.15687844e-01j,  2.79897169e-01+2.32673855e-01j,\n",
       "         -5.66718525e-02-1.30494312e-01j, -9.88355515e-04+6.47025551e-03j,\n",
       "          2.67233826e-02-8.27226536e-02j,  6.98578454e-02+3.92237623e-02j,\n",
       "          4.50568351e-02+7.20397313e-02j,  3.61800660e-01+5.64952183e-04j,\n",
       "         -1.21978364e-01-1.87188854e-01j, -8.67659640e-02-3.05396790e-01j],\n",
       "        [-5.08958877e-02+5.08958877e-02j,  1.35667930e-01-7.39072122e-02j,\n",
       "         -1.52092175e-02+2.62079336e-01j, -3.21341918e-01+3.21342986e-01j,\n",
       "          2.84694335e-01-8.85613945e-02j, -2.43243975e-01+9.14533649e-02j,\n",
       "          2.01225302e-02+5.24952379e-02j,  3.22517378e-01-5.59188632e-02j,\n",
       "         -1.60550681e-01-3.74723703e-02j, -7.15341089e-02+1.32370412e-01j,\n",
       "          2.00097063e-01+1.50918230e-01j,  4.55384437e-01+0.00000000e+00j,\n",
       "          4.47345436e-01+0.00000000e+00j, -1.31657205e-01+2.45252856e-02j,\n",
       "         -4.63122009e-02-5.40345202e-02j,  1.88874129e-01+1.30358527e-01j],\n",
       "        [-3.21343988e-01-3.21343988e-01j,  2.62328383e-01+2.33170418e-01j,\n",
       "          1.36091933e-01-7.57388090e-02j,  1.63733193e-01+1.63732157e-01j,\n",
       "          3.28044851e-02-1.25678141e-01j,  1.11300930e-01+1.22080158e-01j,\n",
       "         -2.78728094e-01+2.08113033e-01j, -4.96995603e-02-1.40319358e-02j,\n",
       "          1.75977461e-01+8.43495511e-02j, -2.03093239e-01-2.32109216e-01j,\n",
       "         -5.21696165e-03+6.10868807e-02j,  3.61285582e-02+2.14345808e-01j,\n",
       "         -3.26081740e-02+1.92199887e-01j, -3.69173738e-01-2.22275994e-01j,\n",
       "          6.41090989e-02+2.23077017e-01j,  9.33895402e-02+1.31089572e-02j],\n",
       "        [-8.04911693e-16+3.72239876e-01j, -4.01285100e-02+2.87974014e-02j,\n",
       "         -2.88292345e-01-2.24459553e-01j,  4.69431628e-07+1.57611844e-01j,\n",
       "          8.35475256e-02+5.92219196e-02j,  4.99143491e-02+7.90509410e-02j,\n",
       "          1.15687844e-01-3.67507236e-02j,  2.32673855e-01-2.79897169e-01j,\n",
       "         -1.30494312e-01+5.66718525e-02j,  6.47025551e-03+9.88355515e-04j,\n",
       "         -1.31854286e-01+1.57462753e-01j,  2.62447533e-04+3.97169651e-01j,\n",
       "         -1.94878429e-01-1.68033832e-01j, -5.09650727e-04-1.57816860e-01j,\n",
       "          3.44936694e-01+8.11217700e-02j,  2.12894411e-01+3.10086884e-02j],\n",
       "        [-9.12870929e-02+9.12870929e-02j,  2.31524850e-01-2.69989064e-01j,\n",
       "         -3.69164549e-02-4.57504504e-02j, -9.12847467e-02+9.12864237e-02j,\n",
       "          2.50477055e-01-8.00674513e-02j, -2.64159123e-01+1.39713325e-01j,\n",
       "          1.52188186e-01-3.31223332e-01j,  2.00571161e-01+6.21930294e-03j,\n",
       "          4.28865132e-01+1.39627372e-01j,  3.41640022e-01+0.00000000e+00j,\n",
       "         -7.36755967e-03-1.52470113e-01j, -4.37582663e-04-1.95000018e-01j,\n",
       "         -1.57191653e-01+1.77504753e-01j,  2.18195903e-01-1.27408104e-01j,\n",
       "          1.26788794e-01+2.30051860e-01j, -1.18123900e-01-2.34436671e-02j],\n",
       "        [ 1.28369537e-16+7.68286378e-02j,  1.35983910e-02-1.85970415e-01j,\n",
       "          7.00812020e-02+9.73039828e-02j, -1.28146072e-06+2.70449507e-01j,\n",
       "         -6.19865196e-02+1.25830663e-01j,  3.86011436e-02-2.48257308e-01j,\n",
       "          1.64041603e-01+8.82446080e-02j, -8.15407859e-02+1.22544797e-01j,\n",
       "         -1.43311688e-02-1.25296204e-01j,  9.43990755e-03+3.18565132e-01j,\n",
       "         -2.41905760e-01-7.36473024e-02j, -3.06176231e-01+5.57807949e-02j,\n",
       "         -1.64465861e-01+3.92395995e-01j, -1.15313412e-01-1.29756542e-01j,\n",
       "          2.71644862e-01+1.26785074e-01j,  5.23747376e-01+0.00000000e+00j],\n",
       "        [-4.09394740e-16+1.37800190e-01j, -7.57295599e-02-2.38912510e-01j,\n",
       "         -2.71509904e-01-2.24106258e-01j,  8.92912017e-07+7.68287668e-02j,\n",
       "          1.03688167e-01-3.09481923e-03j,  2.62415263e-02+1.67219877e-01j,\n",
       "         -4.30700762e-02+6.91234313e-02j,  3.39246592e-02-9.85390719e-02j,\n",
       "         -6.75287393e-02+6.64064578e-02j,  5.43660472e-02+2.02916165e-01j,\n",
       "          3.17025931e-01-2.76214601e-03j, -1.17590235e-01+3.79001168e-04j,\n",
       "         -1.13263264e-01+2.23259517e-01j,  5.99130363e-04+2.81980953e-02j,\n",
       "         -3.48288406e-01-3.32526974e-02j, -2.70614967e-01-9.45221722e-04j],\n",
       "        [ 1.63732940e-01-1.63732940e-01j, -1.56520579e-01+1.46022826e-01j,\n",
       "          3.98182483e-02-3.89963132e-02j,  2.59312307e-02-2.59288654e-02j,\n",
       "         -1.19487871e-01+3.95216403e-01j,  2.88866431e-02+3.14827970e-01j,\n",
       "          2.01225302e-02+5.24952379e-02j,  3.22517378e-01-5.59188632e-02j,\n",
       "         -1.60550681e-01-3.74723703e-02j, -7.15341089e-02+1.32370412e-01j,\n",
       "         -2.19660673e-01-3.69129647e-01j, -1.24813414e-01-1.79912870e-01j,\n",
       "         -2.14049219e-01+1.62382073e-01j, -4.95195621e-02+1.56401511e-01j,\n",
       "          1.17857508e-01-8.14742879e-03j, -6.62572093e-02-9.17270430e-02j],\n",
       "        [ 4.85076928e-01+0.00000000e+00j,  1.67454256e-02-7.74525940e-02j,\n",
       "          1.90466047e-01-1.13611685e-01j, -1.37796110e-01+1.38131639e-07j,\n",
       "          4.16458449e-01+0.00000000e+00j, -1.45839912e-01-2.16285851e-01j,\n",
       "         -8.82446080e-02+1.64041603e-01j, -1.22544797e-01-8.15407859e-02j,\n",
       "          1.25296204e-01-1.43311688e-02j, -3.18565132e-01+9.43990755e-03j,\n",
       "         -6.64381913e-02-2.57123995e-01j, -2.02253263e-01+8.95458560e-03j,\n",
       "          1.28589334e-01-6.58327315e-02j,  2.74697068e-03+5.83446564e-02j,\n",
       "          2.22597194e-02+1.18216352e-01j, -1.18290790e-02-8.78713580e-02j],\n",
       "        [-9.12870929e-02+9.12870929e-02j,  1.70255418e-02+8.29053992e-02j,\n",
       "         -9.89270338e-03+3.01860694e-01j, -9.12875520e-02+9.12851929e-02j,\n",
       "         -3.79858945e-02-1.74269588e-01j,  1.21091590e-01-2.57148305e-01j,\n",
       "          3.99946785e-02-3.05169977e-01j,  3.33034892e-01-5.83951098e-02j,\n",
       "          2.94929935e-01+1.38505091e-01j,  1.93089904e-01+2.57282212e-01j,\n",
       "         -2.13312142e-01-1.20935236e-01j, -3.04590479e-01+1.00414224e-01j,\n",
       "         -1.90524094e-01-9.21354450e-02j, -1.48325450e-01+2.39588722e-01j,\n",
       "          1.28623017e-02-1.91017969e-01j, -9.89037796e-02-1.65473603e-01j]]))"
      ]
     },
     "execution_count": 133,
     "metadata": {},
     "output_type": "execute_result"
    }
   ],
   "source": [
    "make_sorted_eigsystem(zz_pmat@all_separable_clifford_operations[('rx', 'ry', 'rx', 'rx'), ('ri', 'ry', 'rx', 'rx')])"
   ]
  },
  {
   "cell_type": "code",
   "execution_count": null,
   "metadata": {},
   "outputs": [],
   "source": [
    "|"
   ]
  }
 ],
 "metadata": {
  "kernelspec": {
   "display_name": "ErrorGenerators",
   "language": "python",
   "name": "python3"
  },
  "language_info": {
   "codemirror_mode": {
    "name": "ipython",
    "version": 3
   },
   "file_extension": ".py",
   "mimetype": "text/x-python",
   "name": "python",
   "nbconvert_exporter": "python",
   "pygments_lexer": "ipython3",
   "version": "3.10.11"
  }
 },
 "nbformat": 4,
 "nbformat_minor": 2
}
