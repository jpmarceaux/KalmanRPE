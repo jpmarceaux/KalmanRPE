{
 "cells": [
  {
   "cell_type": "code",
   "execution_count": 1,
   "metadata": {},
   "outputs": [],
   "source": [
    "import pygsti\n",
    "from scipy.linalg import expm\n",
    "import numpy as np\n",
    "from pygsti.tools import unitary_to_superop\n",
    "from pygsti.modelpacks import smq1Q_XYZI\n",
    "from matplotlib import pyplot as plt\n",
    "from pygsti.circuits import Circuit\n",
    "from quapack.pyRPE import RobustPhaseEstimation\n",
    "from quapack.pyRPE.quantum import Q as _rpeQ\n",
    "from tqdm import tqdm\n",
    "from importlib import reload"
   ]
  },
  {
   "cell_type": "code",
   "execution_count": 36,
   "metadata": {},
   "outputs": [],
   "source": [
    "def PauliMatrix(idx):\n",
    "    if idx == 0:\n",
    "        return np.eye(2)\n",
    "    elif idx == 1:\n",
    "        return np.array([[0, 1], [1, 0]])\n",
    "    elif idx == 2:\n",
    "        return np.array([[0, -1j], [1j, 0]])\n",
    "    elif idx == 3:\n",
    "        return np.array([[1, 0], [0, -1]])\n",
    "    else:\n",
    "        raise ValueError('Invalid index for Pauli matrix')\n",
    "    \n",
    "def PauliTensor(idx1, idx2):\n",
    "    return np.kron(PauliMatrix(idx1), PauliMatrix(idx2))\n",
    "\n",
    "def make_generator(pauli):\n",
    "    dimension = pauli.shape[0]\n",
    "    I = np.eye(dimension)\n",
    "    return -(1j/2)*(np.kron(I, pauli) - np.kron(pauli.T, I))\n",
    "\n",
    "def decimal_to_quaternary(n):\n",
    "    if n == 0:\n",
    "        return '0'\n",
    "    quaternary = ''\n",
    "    while n:\n",
    "        n, remainder = divmod(n, 4)\n",
    "        quaternary = str(remainder) + quaternary\n",
    "    return quaternary\n",
    "\n",
    "def decimal_to_pauli_string(idx, num_qubits):\n",
    "    quaternary = decimal_to_quaternary(idx).zfill(num_qubits)\n",
    "    return ''.join([['I', 'X', 'Y', 'Z'][int(digit)] for digit in quaternary])\n",
    "\n",
    "def decimal_to_pauli_tensor(idx, num_qubits):\n",
    "    quaternary = decimal_to_quaternary(idx).zfill(num_qubits)\n",
    "    tensor = 1\n",
    "    for digit in quaternary:\n",
    "        tensor = np.kron(tensor, PauliMatrix(int(digit)))\n",
    "    return tensor"
   ]
  },
  {
   "cell_type": "code",
   "execution_count": 37,
   "metadata": {},
   "outputs": [],
   "source": [
    "zz_generator = make_generator(PauliTensor(3, 3))\n",
    "zz_pmat = expm((np.pi/2)*zz_generator)"
   ]
  },
  {
   "cell_type": "code",
   "execution_count": 38,
   "metadata": {},
   "outputs": [],
   "source": [
    "def make_sorted_eigsystem(pmat):\n",
    "    eigvals, eigvecs = np.linalg.eig(pmat)\n",
    "    idxs = np.argsort(np.angle(eigvals))\n",
    "    return eigvals[idxs], eigvecs[:, idxs]\n",
    "\n",
    "def make_perturbation_vector(pmat, generator):\n",
    "    eigvals, eigenvectors = make_sorted_eigsystem(pmat)\n",
    "    perturbations = []\n",
    "    for e in eigenvectors:\n",
    "        p = np.conj(e).T @ generator @ e\n",
    "        perturbations.append(p)\n",
    "    return np.array(perturbations)"
   ]
  },
  {
   "cell_type": "code",
   "execution_count": 39,
   "metadata": {},
   "outputs": [],
   "source": [
    "def make_pertubation_dict(pmat, generators, interleaving_operators):\n",
    "    pertubation_dict = {}\n",
    "    for k, v in interleaving_operators.items():\n",
    "        pertubation_dict[k] = {}\n",
    "        for kg, g in generators.items():\n",
    "            pertubation_dict[k][kg] = make_perturbation_vector(pmat@v, g)\n",
    "    return pertubation_dict\n",
    "        "
   ]
  },
  {
   "cell_type": "code",
   "execution_count": 60,
   "metadata": {},
   "outputs": [],
   "source": [
    "import itertools"
   ]
  },
  {
   "cell_type": "code",
   "execution_count": 79,
   "metadata": {},
   "outputs": [],
   "source": [
    "# make the set of all single qubit clifford rotations\n",
    "clifford_generators = {\n",
    "    'ri': np.eye(4),\n",
    "    'rx': expm((np.pi/2)*make_generator(PauliMatrix(1))), \n",
    "    'ry': expm((np.pi/2)*make_generator(PauliMatrix(2))),\n",
    "    'rz': expm((np.pi/2)*make_generator(PauliMatrix(3)))\n",
    "}\n",
    "num_products = 4\n",
    "all_product_strings = [i for i in itertools.product(clifford_generators.keys(), repeat=num_products)]\n",
    "complete_dict = {}\n",
    "for product in all_product_strings:\n",
    "    complete_dict[product] = np.linalg.multi_dot([clifford_generators[gen] for gen in product])\n",
    "# now remove duplicates from the dictionary\n",
    "unique_dict = {}\n",
    "for k, v in complete_dict.items():\n",
    "    if not any([np.allclose(v, u) for u in unique_dict.values()]):\n",
    "        unique_dict[k] = v\n",
    "all_clifford_operations_1q = unique_dict"
   ]
  },
  {
   "cell_type": "code",
   "execution_count": 80,
   "metadata": {},
   "outputs": [
    {
     "name": "stdout",
     "output_type": "stream",
     "text": [
      "24 unique products\n",
      "256 total products\n"
     ]
    }
   ],
   "source": [
    "print(len(unique_dict), 'unique products')\n",
    "print(len(complete_dict), 'total products')"
   ]
  },
  {
   "cell_type": "code",
   "execution_count": 84,
   "metadata": {},
   "outputs": [],
   "source": [
    "# make the tensor product of all single qubit clifford rotations\n",
    "all_separable_clifford_operations = {}\n",
    "for k, v in all_clifford_operations_1q.items():\n",
    "    for k2, v2 in all_clifford_operations_1q.items():\n",
    "        all_separable_clifford_operations[(k, k2)] = np.kron(v, v2)"
   ]
  },
  {
   "cell_type": "code",
   "execution_count": 85,
   "metadata": {},
   "outputs": [
    {
     "data": {
      "text/plain": [
       "576"
      ]
     },
     "execution_count": 85,
     "metadata": {},
     "output_type": "execute_result"
    }
   ],
   "source": [
    "len(all_separable_clifford_operations)"
   ]
  },
  {
   "cell_type": "code",
   "execution_count": 86,
   "metadata": {},
   "outputs": [],
   "source": [
    "# make all the hamiltonian generators\n",
    "all_hamiltonian_generators = {}\n",
    "for i in range(16):\n",
    "    pstring = decimal_to_pauli_string(i, 2)\n",
    "    generator = make_generator(decimal_to_pauli_tensor(i, 2))\n",
    "    all_hamiltonian_generators[pstring] = generator"
   ]
  },
  {
   "cell_type": "code",
   "execution_count": 87,
   "metadata": {},
   "outputs": [],
   "source": [
    "pdict = make_pertubation_dict(zz_pmat, all_hamiltonian_generators, all_separable_clifford_operations)"
   ]
  },
  {
   "cell_type": "code",
   "execution_count": 93,
   "metadata": {},
   "outputs": [],
   "source": [
    "def find_max_perturbation(pdict, generator_string):\n",
    "    max_perturb = 0\n",
    "    max_interleaving_op = -1\n",
    "    for interleaving_op_string in pdict.keys():\n",
    "        perturbation = pdict[interleaving_op_string][generator_string]\n",
    "        perturb = max(abs(perturbation))\n",
    "        if perturb > max_perturb:\n",
    "            max_perturb = perturb\n",
    "            max_interleaving_op = interleaving_op_string\n",
    "    return max_perturb, max_interleaving_op\n",
    "\n",
    "def rank_top_perturbations(pdict, generator_string, num_top_perturbations=5):\n",
    "    perturbations = []\n",
    "    for interleaving_op_string in pdict.keys():\n",
    "        perturbation = pdict[interleaving_op_string][generator_string]\n",
    "        perturbations.append((interleaving_op_string, max(abs(perturbation))))\n",
    "    perturbations.sort(key=lambda x: x[1], reverse=True)\n",
    "    return perturbations[:num_top_perturbations]\n",
    "\n",
    "def list_all_perterbations(pdict, generator_string):\n",
    "    perturbations = []\n",
    "    for interleaving_op_string in pdict.keys():\n",
    "        perturbation = pdict[interleaving_op_string][generator_string]\n",
    "        perturbations.append((interleaving_op_string, max(abs(perturbation))))\n",
    "    return perturbations"
   ]
  },
  {
   "cell_type": "code",
   "execution_count": 103,
   "metadata": {},
   "outputs": [
    {
     "data": {
      "text/plain": [
       "[((('ri', 'ri', 'rx', 'rz'), ('ri', 'ri', 'ry', 'rx')), 1.0168843355176842),\n",
       " ((('ri', 'ri', 'rx', 'rz'), ('rx', 'rx', 'ry', 'rx')), 1.0168843355176842),\n",
       " ((('ri', 'ri', 'rz', 'ry'), ('rx', 'rx', 'rx', 'ry')), 0.7403765980501658),\n",
       " ((('ri', 'ri', 'rz', 'ry'), ('rx', 'ry', 'ry', 'ry')), 0.7403765980501653),\n",
       " ((('ri', 'rx', 'rx', 'ry'), ('ri', 'rx', 'rx', 'rx')), 0.7265026283895843)]"
      ]
     },
     "execution_count": 103,
     "metadata": {},
     "output_type": "execute_result"
    }
   ],
   "source": [
    "rank_top_perturbations(pdict, 'YY')"
   ]
  },
  {
   "cell_type": "code",
   "execution_count": null,
   "metadata": {},
   "outputs": [],
   "source": []
  },
  {
   "cell_type": "code",
   "execution_count": null,
   "metadata": {},
   "outputs": [],
   "source": []
  }
 ],
 "metadata": {
  "kernelspec": {
   "display_name": "ErrorGenerators",
   "language": "python",
   "name": "python3"
  },
  "language_info": {
   "codemirror_mode": {
    "name": "ipython",
    "version": 3
   },
   "file_extension": ".py",
   "mimetype": "text/x-python",
   "name": "python",
   "nbconvert_exporter": "python",
   "pygments_lexer": "ipython3",
   "version": "3.10.11"
  }
 },
 "nbformat": 4,
 "nbformat_minor": 2
}
