{
 "cells": [
  {
   "cell_type": "code",
   "execution_count": 133,
   "metadata": {},
   "outputs": [],
   "source": [
    "import numpy as np\n",
    "from scipy.linalg import expm"
   ]
  },
  {
   "cell_type": "code",
   "execution_count": 134,
   "metadata": {},
   "outputs": [],
   "source": [
    "SigX = np.array([[0, 1], [1, 0]])\n",
    "SigY = np.array([[0, -1j], [1j, 0]])\n",
    "SigZ = np.array([[1, 0], [0, -1]])\n",
    "SigI = np.array([[1, 0], [0, 1]])\n",
    "\n",
    "def model_Gxpi2(overrot, delta):\n",
    "    return expm(-(1j/2)*((np.pi/2 + overrot)*SigX + delta*SigZ))\n",
    "\n",
    "def model_Gzpi2(epsilon):\n",
    "    return expm(-(1j/2)*(np.pi/2 + epsilon)*SigZ)\n",
    "\n",
    "def sequence_to_unitary(sequence, x_params):\n",
    "    x_overrot = x_params[0]\n",
    "    x_delta = x_params[1]\n",
    "    z_epsilon = x_params[2]\n",
    "    U = SigI\n",
    "    for gate in sequence:\n",
    "        if gate == 'X':\n",
    "            U = model_Gxpi2(x_overrot, x_delta) @ U\n",
    "        elif gate == 'Z':\n",
    "            U = model_Gzpi2(z_epsilon) @ U\n",
    "    return U"
   ]
  },
  {
   "cell_type": "code",
   "execution_count": 145,
   "metadata": {},
   "outputs": [],
   "source": [
    "def calc_normalized_eigenmatrix(matrix):\n",
    "    # Calculate the eigenvalues and eigenvectors of the matrix\n",
    "    eigenvalues, eigenvectors = np.linalg.eig(matrix)\n",
    "    # Normalize the eigenvectors\n",
    "    eigen_norm = np.linalg.norm(eigenvectors, axis=1)\n",
    "    # Return the normalized eigenvectors\n",
    "    return eigenvectors/eigen_norm\n",
    "\n",
    "def calc_eigen_jacobian_at_target(sequence, num_params, hilbert_dim=2):\n",
    "    \"\"\"\n",
    "    Calculate the Jacobian of the eigenvalues of the target unitary matrix with respect to the parameters\n",
    "\n",
    "    Returns a matrix of shape (hilbert_dim, num_params) where the (i, j) element is the derivative of the ith eigenvalue\n",
    "    with respect to the jth parameter.\n",
    "    \"\"\"\n",
    "    # Define the target unitary matrix\n",
    "    target_params = np.zeros(num_params)\n",
    "    target_unitary = sequence_to_unitary(sequence, target_params)\n",
    "    assert target_unitary.shape[0] == target_unitary.shape[1]\n",
    "    assert target_unitary.shape[0] == hilbert_dim\n",
    "\n",
    "    # Calculate the normalized eigenvectors of the target unitary matrix\n",
    "    normalized_eigenvectors = calc_normalized_eigenmatrix(target_unitary)\n",
    "\n",
    "    # Calculate the derivative of the eigenvalues with respect to the parameters\n",
    "    jacobian = np.zeros((hilbert_dim, num_params), dtype=np.complex128)\n",
    "\n",
    "    for i in range(hilbert_dim):\n",
    "        # Calculate the derivs w.r.t. the ith parameter\n",
    "        for j in range(num_params):\n",
    "            # Define the parameter perturbations\n",
    "            perturbations = np.zeros(num_params)\n",
    "            perturbations[j] = 1e-8\n",
    "\n",
    "            # Calculate the perturbed unitary matrices\n",
    "            perturbed_unitary_plus = sequence_to_unitary(sequence, target_params + perturbations)\n",
    "            perturbed_unitary_minus = sequence_to_unitary(sequence, target_params - perturbations)\n",
    "\n",
    "            # Calculate the perturbed eigenvectors\n",
    "            eval_plus = normalized_eigenvectors[i].conj().T @ perturbed_unitary_plus @ normalized_eigenvectors[i]\n",
    "            eval_minus = normalized_eigenvectors[i].conj().T @ perturbed_unitary_minus @ normalized_eigenvectors[i]\n",
    "\n",
    "            # Calculate the derivative\n",
    "            jacobian[i, j] = (eval_plus - eval_minus)/(2*perturbations[j])\n",
    "    return jacobian"
   ]
  },
  {
   "cell_type": "code",
   "execution_count": 136,
   "metadata": {},
   "outputs": [
    {
     "data": {
      "text/plain": [
       "array([[1.+0.j, 0.+0.j],\n",
       "       [0.+0.j, 1.+0.j]])"
      ]
     },
     "execution_count": 136,
     "metadata": {},
     "output_type": "execute_result"
    }
   ],
   "source": [
    "Ztarget = model_Gzpi2(0.)\n",
    "Ztarget @ Ztarget.conj().T"
   ]
  },
  {
   "cell_type": "code",
   "execution_count": 137,
   "metadata": {},
   "outputs": [
    {
     "data": {
      "text/plain": [
       "array([[1.00000000e+00+0.0000000e+00j, 1.11022302e-16-1.3738309e-16j],\n",
       "       [1.11022302e-16+1.3738309e-16j, 1.00000000e+00+0.0000000e+00j]])"
      ]
     },
     "execution_count": 137,
     "metadata": {},
     "output_type": "execute_result"
    }
   ],
   "source": [
    "eigen_mat_X = calc_normalized_eigenmatrix(model_Gxpi2(0, 0))\n",
    "np.conj(eigen_mat_X).T@ eigen_mat_X"
   ]
  },
  {
   "cell_type": "code",
   "execution_count": 138,
   "metadata": {},
   "outputs": [
    {
     "data": {
      "text/plain": [
       "array([[-1.65436120e-16-1.11022302e-08j, -6.36619772e-01+0.00000000e+00j,\n",
       "        -2.06795153e-16-1.11022302e-08j],\n",
       "       [-1.65436119e-16+1.11022302e-08j, -6.36619772e-01+0.00000000e+00j,\n",
       "        -2.48154184e-16+0.00000000e+00j]])"
      ]
     },
     "execution_count": 138,
     "metadata": {},
     "output_type": "execute_result"
    }
   ],
   "source": [
    "calc_eigen_jacobian_at_target(['X', 'X', 'Z', 'Z'], 3, 2)"
   ]
  },
  {
   "cell_type": "code",
   "execution_count": 139,
   "metadata": {},
   "outputs": [
    {
     "data": {
      "text/plain": [
       "array([[-1.65436120e-16-1.11022302e-08j, -6.36619772e-01+0.00000000e+00j,\n",
       "        -2.06795153e-16-1.11022302e-08j],\n",
       "       [-1.65436119e-16+1.11022302e-08j, -6.36619772e-01+0.00000000e+00j,\n",
       "        -2.48154184e-16+0.00000000e+00j]])"
      ]
     },
     "execution_count": 139,
     "metadata": {},
     "output_type": "execute_result"
    }
   ],
   "source": [
    "calc_eigen_jacobian_at_target(['X', 'X', 'Z', 'Z'], 3, 2)"
   ]
  },
  {
   "cell_type": "code",
   "execution_count": 140,
   "metadata": {},
   "outputs": [
    {
     "data": {
      "text/plain": [
       "array([[ 3.53553392e-01-3.53553387e-01j,  5.55111512e-09-1.11022302e-08j,\n",
       "        -5.55111512e-09-2.22044605e-08j],\n",
       "       [ 3.53553387e-01+3.53553398e-01j,  0.00000000e+00+0.00000000e+00j,\n",
       "        -5.55111512e-09+1.11022302e-08j]])"
      ]
     },
     "execution_count": 140,
     "metadata": {},
     "output_type": "execute_result"
    }
   ],
   "source": [
    "calc_eigen_jacobian_at_target(['Z', 'X', 'Z', 'Z', 'Z'], 3, 2)"
   ]
  },
  {
   "cell_type": "code",
   "execution_count": 141,
   "metadata": {},
   "outputs": [
    {
     "data": {
      "text/plain": [
       "array([[-1.11022302e-08-2.68882139e-09j,  0.00000000e+00+9.54061940e-01j,\n",
       "        -2.22044605e-08+1.49863699e+00j],\n",
       "       [-1.11022302e-08+1.96261549e-09j,  0.00000000e+00-6.36619772e-01j,\n",
       "        -1.66533454e-08-9.99999998e-01j]])"
      ]
     },
     "execution_count": 141,
     "metadata": {},
     "output_type": "execute_result"
    }
   ],
   "source": [
    "calc_eigen_jacobian_at_target(['Z', 'Z', 'X', 'Z', 'Z', 'X'], 3, 2)"
   ]
  },
  {
   "cell_type": "code",
   "execution_count": 142,
   "metadata": {},
   "outputs": [],
   "source": [
    "def score_eigen_jacobian_matrix(jacobian_matrix):\n",
    "    svals = np.linalg.svd(jacobian_matrix, compute_uv=False)\n",
    "    svals_clipped = np.clip(svals, 1e-8, None)\n",
    "    return np.sum(np.log(svals_clipped))"
   ]
  },
  {
   "cell_type": "code",
   "execution_count": 143,
   "metadata": {},
   "outputs": [
    {
     "data": {
      "text/plain": [
       "0.4642511033955037"
      ]
     },
     "execution_count": 143,
     "metadata": {},
     "output_type": "execute_result"
    }
   ],
   "source": [
    "sequences = [['X'], ['Z', 'X', 'Z', 'Z', 'Z'], ['Z', 'Z', 'X', 'Z', 'Z', 'X']]\n",
    "num_params = 3\n",
    "hilbert_dim = 2\n",
    "total_jac = np.zeros((hilbert_dim, 0), dtype=np.complex128)\n",
    "for sequence in sequences:\n",
    "    jac = calc_eigen_jacobian_at_target(sequence, num_params, hilbert_dim)\n",
    "    total_jac = np.concatenate((total_jac, jac), axis=1)\n",
    "score_eigen_jacobian_matrix(total_jac)"
   ]
  },
  {
   "cell_type": "code",
   "execution_count": 144,
   "metadata": {},
   "outputs": [
    {
     "data": {
      "text/plain": [
       "-17.962983574797143"
      ]
     },
     "execution_count": 144,
     "metadata": {},
     "output_type": "execute_result"
    }
   ],
   "source": [
    "score_eigen_jacobian_matrix(calc_eigen_jacobian_at_target(['X', 'X', 'Z', 'Z'], 3, 2))"
   ]
  },
  {
   "cell_type": "code",
   "execution_count": null,
   "metadata": {},
   "outputs": [],
   "source": []
  },
  {
   "cell_type": "code",
   "execution_count": null,
   "metadata": {},
   "outputs": [],
   "source": []
  }
 ],
 "metadata": {
  "kernelspec": {
   "display_name": "ErrorGenerators",
   "language": "python",
   "name": "python3"
  },
  "language_info": {
   "codemirror_mode": {
    "name": "ipython",
    "version": 3
   },
   "file_extension": ".py",
   "mimetype": "text/x-python",
   "name": "python",
   "nbconvert_exporter": "python",
   "pygments_lexer": "ipython3",
   "version": "3.10.11"
  }
 },
 "nbformat": 4,
 "nbformat_minor": 2
}
