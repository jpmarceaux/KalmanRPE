{
 "cells": [
  {
   "cell_type": "code",
   "execution_count": 32,
   "metadata": {},
   "outputs": [],
   "source": [
    "import numpy as np\n",
    "from scipy.linalg import expm\n",
    "import itertools as itt"
   ]
  },
  {
   "cell_type": "markdown",
   "metadata": {},
   "source": [
    "## Gate definitions\n",
    "\n",
    "We define the X pi/2 rotation on Q1 and Q2 and the Z phi rotation on Q1 and Q2. \n",
    "\n",
    "Our parameters are unitary errors away from target. They are stored in a dict with hashes that are the gate and qubit and values that are the parameters"
   ]
  },
  {
   "cell_type": "code",
   "execution_count": 33,
   "metadata": {},
   "outputs": [],
   "source": [
    "SigX = np.array([[0, 1], [1, 0]])\n",
    "SigY = np.array([[0, -1j], [1j, 0]])\n",
    "SigZ = np.array([[1, 0], [0, -1]])\n",
    "SigI = np.array([[1, 0], [0, 1]])\n",
    "\n",
    "def model_Gxpi2(params, target_qubit=0, num_qubits=2):\n",
    "    assert num_qubits == 2\n",
    "    x0 = params[0]\n",
    "    x1 = params[1]\n",
    "    assert len(params) == 2\n",
    "    Ux = expm(-(1j/2)*((np.pi/2 + x0)*SigX + x1*SigZ))\n",
    "    if target_qubit == 0:\n",
    "        return np.kron(Ux, SigI)\n",
    "    elif target_qubit == 1:\n",
    "        return np.kron(SigI, Ux)\n",
    "    else:\n",
    "        raise ValueError('target_qubit must be 0 or 1')\n",
    "\n",
    "\n",
    "def model_Gzphi(phi, params, target_qubit=0, num_qubits=2):\n",
    "    x0 = params[0]\n",
    "    assert len(params) == 1\n",
    "    Uz = expm(-(1j/2)*(phi+x0)*SigZ)\n",
    "    if target_qubit == 0:\n",
    "        return np.kron(Uz, SigI)\n",
    "    elif target_qubit == 1:\n",
    "        return np.kron(SigI, Uz)\n",
    "    else:\n",
    "        raise ValueError('target_qubit must be 0 or 1')\n",
    "    \n",
    "def model_Gzpi2(params, target_qubit=0, num_qubits=2):\n",
    "    assert num_qubits == 2\n",
    "    x0 = params[0]\n",
    "    assert len(params) == 1\n",
    "    Uz = expm(-(1j/2)*(np.pi/2+x0)*SigZ)\n",
    "    if target_qubit == 0:\n",
    "        return np.kron(Uz, SigI)\n",
    "    elif target_qubit == 1:\n",
    "        return np.kron(SigI, Uz)\n",
    "    else:\n",
    "        raise ValueError('target_qubit must be 0 or 1')"
   ]
  },
  {
   "cell_type": "code",
   "execution_count": 34,
   "metadata": {},
   "outputs": [],
   "source": [
    "def sequence_to_unitary(sequence, param_dict):\n",
    "    \"\"\"\n",
    "    Returns the unitary matrix corresponding to the sequence of gates in the sequence list\n",
    "\n",
    "    Args:\n",
    "        sequence: list of tuples, each tuple is the label of a gate and the target qubit\n",
    "        param_dict: dictionary of parameters for each gate\n",
    "    \"\"\"\n",
    "    num_qubits = 2\n",
    "    U = np.eye(2**num_qubits)\n",
    "    for gate, target in sequence:\n",
    "        if gate == 'Xpi2':\n",
    "            U = model_Gxpi2(param_dict[gate+f'_Q{target}'], target, num_qubits) @ U\n",
    "        elif gate == 'Zphi':\n",
    "            raise NotImplementedError('Gzphi not implemented')\n",
    "        elif gate == 'Xpi2':\n",
    "            U = model_Gzpi2(param_dict[gate+f'_Q{target}'], target, num_qubits) @ U\n",
    "        else:\n",
    "            raise ValueError('Invalid gate label')\n",
    "    return U"
   ]
  },
  {
   "cell_type": "code",
   "execution_count": 35,
   "metadata": {},
   "outputs": [],
   "source": [
    "def make_random_gateset_coherent_error_params(error_rate_1q, error_rate_2q):\n",
    "    \"\"\"\n",
    "    Returns a dictionary of random parameters for a coherent error model\n",
    "\n",
    "    Args:\n",
    "        error_rate_1q: float, error rate for 1-qubit gates\n",
    "        error_rate_2q: float, error rate for 2-qubit gates\n",
    "    \"\"\"\n",
    "    param_dict = {}\n",
    "    for gate in ['Xpi2']:\n",
    "        for qubit in [0, 1]:\n",
    "            param_dict[gate+f'_Q{qubit}'] = error_rate_1q*np.random.randn(2)\n",
    "    for gate in ['Zpi2']:\n",
    "        for qubit in [0, 1]:\n",
    "            param_dict[gate+f'_Q{qubit}'] = error_rate_1q*np.random.randn(1)\n",
    "    return param_dict\n",
    "\n",
    "def make_target_params():\n",
    "    \"\"\"\n",
    "    Returns a dictionary of target parameters for a coherent error model\n",
    "    \"\"\"\n",
    "    param_dict = {}\n",
    "    for gate in ['Xpi2']:\n",
    "        for qubit in [0, 1]:\n",
    "            param_dict[gate+f'_Q{qubit}'] = np.zeros(2)\n",
    "    for gate in ['Zpi2']:\n",
    "        for qubit in [0, 1]:\n",
    "            param_dict[gate+f'_Q{qubit}'] = np.zeros(1)\n",
    "    return param_dict\n",
    "\n",
    "def check_unitary(U):\n",
    "    \"\"\"\n",
    "    Returns True if the input matrix is unitary, False otherwise\n",
    "    \"\"\"\n",
    "    return np.allclose(np.eye(U.shape[0]), U @ U.conj().T)"
   ]
  },
  {
   "cell_type": "code",
   "execution_count": 36,
   "metadata": {},
   "outputs": [],
   "source": [
    "random_param_dict = make_random_gateset_coherent_error_params(0.001, 0.01)\n",
    "TARGET_PARAMS = make_target_params()"
   ]
  },
  {
   "cell_type": "code",
   "execution_count": 37,
   "metadata": {},
   "outputs": [
    {
     "name": "stdout",
     "output_type": "stream",
     "text": [
      "True\n",
      "(4, 4)\n"
     ]
    }
   ],
   "source": [
    "sequence = [('Xpi2', 0), ('Xpi2', 1)]\n",
    "params = {'Xpi2_Q0': [0, 0], 'Xpi2_Q1': [0, 0]}\n",
    "U = sequence_to_unitary(sequence, random_param_dict)\n",
    "print(check_unitary(U))\n",
    "print(U.shape)"
   ]
  },
  {
   "cell_type": "code",
   "execution_count": null,
   "metadata": {},
   "outputs": [],
   "source": [
    "def calc_invariant_eigenphases"
   ]
  },
  {
   "cell_type": "code",
   "execution_count": 38,
   "metadata": {},
   "outputs": [],
   "source": [
    "def calc_normalized_eigenmatrix(matrix):\n",
    "    # Calculate the eigenvalues and eigenvectors of the matrix\n",
    "    eigenvalues, eigenvectors = np.linalg.eig(matrix)\n",
    "    # Normalize the eigenvectors\n",
    "    eigen_norm = np.linalg.norm(eigenvectors, axis=1)\n",
    "    # Return the normalized eigenvectors\n",
    "    return eigenvectors/eigen_norm\n",
    "\n",
    "def calc_eigen_jacobian_at_target(sequence, num_params, hilbert_dim=2):\n",
    "    \"\"\"\n",
    "    Calculate the Jacobian of the eigenvalues of the target unitary matrix with respect to the parameters\n",
    "\n",
    "    Returns a matrix of shape (hilbert_dim, num_params) where the (i, j) element is the derivative of the ith eigenvalue\n",
    "    with respect to the jth parameter.\n",
    "    \"\"\"\n",
    "    # Define the target unitary matrix\n",
    "    target_params = np.zeros(num_params)\n",
    "    target_unitary = sequence_to_unitary(sequence, TARGET_PARAMS)\n",
    "    assert target_unitary.shape[0] == target_unitary.shape[1]\n",
    "    assert target_unitary.shape[0] == hilbert_dim\n",
    "\n",
    "    # Calculate the normalized eigenvectors of the target unitary matrix\n",
    "    normalized_eigenvectors = calc_normalized_eigenmatrix(target_unitary)\n",
    "\n",
    "    # Calculate the derivative of the eigenvalues with respect to the parameters\n",
    "    jacobian = np.zeros((hilbert_dim, num_params), dtype=np.complex128)\n",
    "\n",
    "    for i in range(hilbert_dim):\n",
    "        # Calculate the derivs w.r.t. the ith parameter\n",
    "        for j in range(num_params):\n",
    "            # Define the parameter perturbations\n",
    "            perturbations = np.zeros(num_params)\n",
    "            perturbations[j] = 1e-8\n",
    "\n",
    "            # Calculate the perturbed unitary matrices\n",
    "            perturbed_unitary_plus = sequence_to_unitary(sequence, target_params + perturbations)\n",
    "            perturbed_unitary_minus = sequence_to_unitary(sequence, target_params - perturbations)\n",
    "\n",
    "            # Calculate the perturbed eigenvectors\n",
    "            eval_plus = normalized_eigenvectors[i].conj().T @ perturbed_unitary_plus @ normalized_eigenvectors[i]\n",
    "            eval_minus = normalized_eigenvectors[i].conj().T @ perturbed_unitary_minus @ normalized_eigenvectors[i]\n",
    "\n",
    "            # Calculate the derivative\n",
    "            jacobian[i, j] = (eval_plus - eval_minus)/(2*perturbations[j])\n",
    "    return jacobian"
   ]
  },
  {
   "cell_type": "code",
   "execution_count": 39,
   "metadata": {},
   "outputs": [
    {
     "data": {
      "text/plain": [
       "{'Xpi2_Q0': array([-4.34631294e-04,  4.60510771e-05]),\n",
       " 'Xpi2_Q1': array([-0.00022603,  0.00257427]),\n",
       " 'Zpi2_Q0': array([0.00049643]),\n",
       " 'Zpi2_Q1': array([0.00111685])}"
      ]
     },
     "execution_count": 39,
     "metadata": {},
     "output_type": "execute_result"
    }
   ],
   "source": [
    "random_param_dict"
   ]
  },
  {
   "cell_type": "code",
   "execution_count": 40,
   "metadata": {},
   "outputs": [
    {
     "data": {
      "text/plain": [
       "(array([3.29275776e-04-9.99999946e-01j, 3.29275776e-04+9.99999946e-01j,\n",
       "        9.99999994e-01-1.05354836e-04j, 9.99999994e-01+1.05354836e-04j]),\n",
       " array([[ 0.50041693+0.00000000e+00j,  0.49958274+5.55111512e-17j,\n",
       "         -0.50040226+2.21856130e-13j, -0.49959739-7.46236406e-13j],\n",
       "        [ 0.49959739+6.82505268e-17j, -0.50040226+2.22044605e-16j,\n",
       "         -0.49958274-1.02172502e-16j,  0.50041693+0.00000000e+00j],\n",
       "        [ 0.50040226+5.78421859e-17j, -0.49959739+3.88578059e-16j,\n",
       "          0.50041693+0.00000000e+00j, -0.49958274+1.27675648e-15j],\n",
       "        [ 0.49958274-1.46313083e-16j,  0.50041693+0.00000000e+00j,\n",
       "          0.49959739-2.22011333e-13j,  0.50040226+7.46402939e-13j]]))"
      ]
     },
     "execution_count": 40,
     "metadata": {},
     "output_type": "execute_result"
    }
   ],
   "source": [
    "sequence = [('Xpi2', 0), ('Xpi2', 1)]\n",
    "U = sequence_to_unitary(sequence, random_param_dict)\n",
    "np.linalg.eig(U)"
   ]
  },
  {
   "cell_type": "code",
   "execution_count": 41,
   "metadata": {},
   "outputs": [
    {
     "ename": "IndexError",
     "evalue": "only integers, slices (`:`), ellipsis (`...`), numpy.newaxis (`None`) and integer or boolean arrays are valid indices",
     "output_type": "error",
     "traceback": [
      "\u001b[0;31m---------------------------------------------------------------------------\u001b[0m",
      "\u001b[0;31mIndexError\u001b[0m                                Traceback (most recent call last)",
      "Cell \u001b[0;32mIn[41], line 1\u001b[0m\n\u001b[0;32m----> 1\u001b[0m \u001b[43mcalc_eigen_jacobian_at_target\u001b[49m\u001b[43m(\u001b[49m\u001b[43msequence\u001b[49m\u001b[43m,\u001b[49m\u001b[43m \u001b[49m\u001b[38;5;241;43m3\u001b[39;49m\u001b[43m,\u001b[49m\u001b[43m \u001b[49m\u001b[38;5;241;43m2\u001b[39;49m\u001b[43m)\u001b[49m\n",
      "Cell \u001b[0;32mIn[38], line 18\u001b[0m, in \u001b[0;36mcalc_eigen_jacobian_at_target\u001b[0;34m(sequence, num_params, hilbert_dim)\u001b[0m\n\u001b[1;32m     16\u001b[0m \u001b[38;5;66;03m# Define the target unitary matrix\u001b[39;00m\n\u001b[1;32m     17\u001b[0m target_params \u001b[38;5;241m=\u001b[39m np\u001b[38;5;241m.\u001b[39mzeros(num_params)\n\u001b[0;32m---> 18\u001b[0m target_unitary \u001b[38;5;241m=\u001b[39m \u001b[43msequence_to_unitary\u001b[49m\u001b[43m(\u001b[49m\u001b[43msequence\u001b[49m\u001b[43m,\u001b[49m\u001b[43m \u001b[49m\u001b[43mtarget_params\u001b[49m\u001b[43m)\u001b[49m\n\u001b[1;32m     19\u001b[0m \u001b[38;5;28;01massert\u001b[39;00m target_unitary\u001b[38;5;241m.\u001b[39mshape[\u001b[38;5;241m0\u001b[39m] \u001b[38;5;241m==\u001b[39m target_unitary\u001b[38;5;241m.\u001b[39mshape[\u001b[38;5;241m1\u001b[39m]\n\u001b[1;32m     20\u001b[0m \u001b[38;5;28;01massert\u001b[39;00m target_unitary\u001b[38;5;241m.\u001b[39mshape[\u001b[38;5;241m0\u001b[39m] \u001b[38;5;241m==\u001b[39m hilbert_dim\n",
      "Cell \u001b[0;32mIn[34], line 13\u001b[0m, in \u001b[0;36msequence_to_unitary\u001b[0;34m(sequence, param_dict)\u001b[0m\n\u001b[1;32m     11\u001b[0m \u001b[38;5;28;01mfor\u001b[39;00m gate, target \u001b[38;5;129;01min\u001b[39;00m sequence:\n\u001b[1;32m     12\u001b[0m     \u001b[38;5;28;01mif\u001b[39;00m gate \u001b[38;5;241m==\u001b[39m \u001b[38;5;124m'\u001b[39m\u001b[38;5;124mXpi2\u001b[39m\u001b[38;5;124m'\u001b[39m:\n\u001b[0;32m---> 13\u001b[0m         U \u001b[38;5;241m=\u001b[39m model_Gxpi2(\u001b[43mparam_dict\u001b[49m\u001b[43m[\u001b[49m\u001b[43mgate\u001b[49m\u001b[38;5;241;43m+\u001b[39;49m\u001b[38;5;124;43mf\u001b[39;49m\u001b[38;5;124;43m'\u001b[39;49m\u001b[38;5;124;43m_Q\u001b[39;49m\u001b[38;5;132;43;01m{\u001b[39;49;00m\u001b[43mtarget\u001b[49m\u001b[38;5;132;43;01m}\u001b[39;49;00m\u001b[38;5;124;43m'\u001b[39;49m\u001b[43m]\u001b[49m, target, num_qubits) \u001b[38;5;241m@\u001b[39m U\n\u001b[1;32m     14\u001b[0m     \u001b[38;5;28;01melif\u001b[39;00m gate \u001b[38;5;241m==\u001b[39m \u001b[38;5;124m'\u001b[39m\u001b[38;5;124mZphi\u001b[39m\u001b[38;5;124m'\u001b[39m:\n\u001b[1;32m     15\u001b[0m         \u001b[38;5;28;01mraise\u001b[39;00m \u001b[38;5;167;01mNotImplementedError\u001b[39;00m(\u001b[38;5;124m'\u001b[39m\u001b[38;5;124mGzphi not implemented\u001b[39m\u001b[38;5;124m'\u001b[39m)\n",
      "\u001b[0;31mIndexError\u001b[0m: only integers, slices (`:`), ellipsis (`...`), numpy.newaxis (`None`) and integer or boolean arrays are valid indices"
     ]
    }
   ],
   "source": [
    "calc_eigen_jacobian_at_target(sequence, 3, 2)"
   ]
  },
  {
   "cell_type": "code",
   "execution_count": 20,
   "metadata": {},
   "outputs": [
    {
     "name": "stdout",
     "output_type": "stream",
     "text": [
      "> \u001b[0;32m/tmp/ipykernel_6441/1627711307.py\u001b[0m(13)\u001b[0;36msequence_to_unitary\u001b[0;34m()\u001b[0m\n",
      "\u001b[0;32m     11 \u001b[0;31m    \u001b[0;32mfor\u001b[0m \u001b[0mgate\u001b[0m\u001b[0;34m,\u001b[0m \u001b[0mtarget\u001b[0m \u001b[0;32min\u001b[0m \u001b[0msequence\u001b[0m\u001b[0;34m:\u001b[0m\u001b[0;34m\u001b[0m\u001b[0;34m\u001b[0m\u001b[0m\n",
      "\u001b[0m\u001b[0;32m     12 \u001b[0;31m        \u001b[0;32mif\u001b[0m \u001b[0mgate\u001b[0m \u001b[0;34m==\u001b[0m \u001b[0;34m'Xpi2'\u001b[0m\u001b[0;34m:\u001b[0m\u001b[0;34m\u001b[0m\u001b[0;34m\u001b[0m\u001b[0m\n",
      "\u001b[0m\u001b[0;32m---> 13 \u001b[0;31m            \u001b[0mU\u001b[0m \u001b[0;34m=\u001b[0m \u001b[0mmodel_Gxpi2\u001b[0m\u001b[0;34m(\u001b[0m\u001b[0mparam_dict\u001b[0m\u001b[0;34m[\u001b[0m\u001b[0mgate\u001b[0m\u001b[0;34m+\u001b[0m\u001b[0;34mf'_Q{target}'\u001b[0m\u001b[0;34m]\u001b[0m\u001b[0;34m,\u001b[0m \u001b[0mtarget\u001b[0m\u001b[0;34m,\u001b[0m \u001b[0mnum_qubits\u001b[0m\u001b[0;34m)\u001b[0m \u001b[0;34m@\u001b[0m \u001b[0mU\u001b[0m\u001b[0;34m\u001b[0m\u001b[0;34m\u001b[0m\u001b[0m\n",
      "\u001b[0m\u001b[0;32m     14 \u001b[0;31m        \u001b[0;32melif\u001b[0m \u001b[0mgate\u001b[0m \u001b[0;34m==\u001b[0m \u001b[0;34m'Zphi'\u001b[0m\u001b[0;34m:\u001b[0m\u001b[0;34m\u001b[0m\u001b[0;34m\u001b[0m\u001b[0m\n",
      "\u001b[0m\u001b[0;32m     15 \u001b[0;31m            \u001b[0;32mraise\u001b[0m \u001b[0mNotImplementedError\u001b[0m\u001b[0;34m(\u001b[0m\u001b[0;34m'Gzphi not implemented'\u001b[0m\u001b[0;34m)\u001b[0m\u001b[0;34m\u001b[0m\u001b[0;34m\u001b[0m\u001b[0m\n",
      "\u001b[0m\n",
      "'Xpi2'\n",
      "'Xpi2'\n",
      "array([0., 0., 0.])\n",
      "array([0., 0., 0.])\n"
     ]
    }
   ],
   "source": [
    "debug"
   ]
  },
  {
   "cell_type": "code",
   "execution_count": 10,
   "metadata": {},
   "outputs": [
    {
     "ename": "ValueError",
     "evalue": "not enough values to unpack (expected 2, got 1)",
     "output_type": "error",
     "traceback": [
      "\u001b[0;31m---------------------------------------------------------------------------\u001b[0m",
      "\u001b[0;31mValueError\u001b[0m                                Traceback (most recent call last)",
      "Cell \u001b[0;32mIn[10], line 1\u001b[0m\n\u001b[0;32m----> 1\u001b[0m \u001b[43mcalc_eigen_jacobian_at_target\u001b[49m\u001b[43m(\u001b[49m\u001b[43m[\u001b[49m\u001b[38;5;124;43m'\u001b[39;49m\u001b[38;5;124;43mX\u001b[39;49m\u001b[38;5;124;43m'\u001b[39;49m\u001b[43m,\u001b[49m\u001b[43m \u001b[49m\u001b[38;5;124;43m'\u001b[39;49m\u001b[38;5;124;43mX\u001b[39;49m\u001b[38;5;124;43m'\u001b[39;49m\u001b[43m,\u001b[49m\u001b[43m \u001b[49m\u001b[38;5;124;43m'\u001b[39;49m\u001b[38;5;124;43mZ\u001b[39;49m\u001b[38;5;124;43m'\u001b[39;49m\u001b[43m,\u001b[49m\u001b[43m \u001b[49m\u001b[38;5;124;43m'\u001b[39;49m\u001b[38;5;124;43mZ\u001b[39;49m\u001b[38;5;124;43m'\u001b[39;49m\u001b[43m]\u001b[49m\u001b[43m,\u001b[49m\u001b[43m \u001b[49m\u001b[38;5;241;43m3\u001b[39;49m\u001b[43m,\u001b[49m\u001b[43m \u001b[49m\u001b[38;5;241;43m2\u001b[39;49m\u001b[43m)\u001b[49m\n",
      "Cell \u001b[0;32mIn[7], line 18\u001b[0m, in \u001b[0;36mcalc_eigen_jacobian_at_target\u001b[0;34m(sequence, num_params, hilbert_dim)\u001b[0m\n\u001b[1;32m     16\u001b[0m \u001b[38;5;66;03m# Define the target unitary matrix\u001b[39;00m\n\u001b[1;32m     17\u001b[0m target_params \u001b[38;5;241m=\u001b[39m np\u001b[38;5;241m.\u001b[39mzeros(num_params)\n\u001b[0;32m---> 18\u001b[0m target_unitary \u001b[38;5;241m=\u001b[39m \u001b[43msequence_to_unitary\u001b[49m\u001b[43m(\u001b[49m\u001b[43msequence\u001b[49m\u001b[43m,\u001b[49m\u001b[43m \u001b[49m\u001b[43mtarget_params\u001b[49m\u001b[43m)\u001b[49m\n\u001b[1;32m     19\u001b[0m \u001b[38;5;28;01massert\u001b[39;00m target_unitary\u001b[38;5;241m.\u001b[39mshape[\u001b[38;5;241m0\u001b[39m] \u001b[38;5;241m==\u001b[39m target_unitary\u001b[38;5;241m.\u001b[39mshape[\u001b[38;5;241m1\u001b[39m]\n\u001b[1;32m     20\u001b[0m \u001b[38;5;28;01massert\u001b[39;00m target_unitary\u001b[38;5;241m.\u001b[39mshape[\u001b[38;5;241m0\u001b[39m] \u001b[38;5;241m==\u001b[39m hilbert_dim\n",
      "Cell \u001b[0;32mIn[3], line 11\u001b[0m, in \u001b[0;36msequence_to_unitary\u001b[0;34m(sequence, param_dict)\u001b[0m\n\u001b[1;32m      9\u001b[0m num_qubits \u001b[38;5;241m=\u001b[39m \u001b[38;5;241m2\u001b[39m\n\u001b[1;32m     10\u001b[0m U \u001b[38;5;241m=\u001b[39m np\u001b[38;5;241m.\u001b[39meye(\u001b[38;5;241m2\u001b[39m\u001b[38;5;241m*\u001b[39m\u001b[38;5;241m*\u001b[39mnum_qubits)\n\u001b[0;32m---> 11\u001b[0m \u001b[38;5;28;01mfor\u001b[39;00m gate, target \u001b[38;5;129;01min\u001b[39;00m sequence:\n\u001b[1;32m     12\u001b[0m     \u001b[38;5;28;01mif\u001b[39;00m gate \u001b[38;5;241m==\u001b[39m \u001b[38;5;124m'\u001b[39m\u001b[38;5;124mXpi2\u001b[39m\u001b[38;5;124m'\u001b[39m:\n\u001b[1;32m     13\u001b[0m         U \u001b[38;5;241m=\u001b[39m model_Gxpi2(param_dict[gate\u001b[38;5;241m+\u001b[39m\u001b[38;5;124mf\u001b[39m\u001b[38;5;124m'\u001b[39m\u001b[38;5;124m_Q\u001b[39m\u001b[38;5;132;01m{\u001b[39;00mtarget\u001b[38;5;132;01m}\u001b[39;00m\u001b[38;5;124m'\u001b[39m], target, num_qubits) \u001b[38;5;241m@\u001b[39m U\n",
      "\u001b[0;31mValueError\u001b[0m: not enough values to unpack (expected 2, got 1)"
     ]
    }
   ],
   "source": [
    "calc_eigen_jacobian_at_target(['X', 'X', 'Z', 'Z'], 3, 2)"
   ]
  },
  {
   "cell_type": "code",
   "execution_count": 215,
   "metadata": {},
   "outputs": [
    {
     "ename": "ValueError",
     "evalue": "not enough values to unpack (expected 2, got 1)",
     "output_type": "error",
     "traceback": [
      "\u001b[0;31m---------------------------------------------------------------------------\u001b[0m",
      "\u001b[0;31mValueError\u001b[0m                                Traceback (most recent call last)",
      "Cell \u001b[0;32mIn[215], line 1\u001b[0m\n\u001b[0;32m----> 1\u001b[0m \u001b[43mcalc_eigen_jacobian_at_target\u001b[49m\u001b[43m(\u001b[49m\u001b[43m[\u001b[49m\u001b[38;5;124;43m'\u001b[39;49m\u001b[38;5;124;43mZ\u001b[39;49m\u001b[38;5;124;43m'\u001b[39;49m\u001b[43m,\u001b[49m\u001b[43m \u001b[49m\u001b[38;5;124;43m'\u001b[39;49m\u001b[38;5;124;43mX\u001b[39;49m\u001b[38;5;124;43m'\u001b[39;49m\u001b[43m,\u001b[49m\u001b[43m \u001b[49m\u001b[38;5;124;43m'\u001b[39;49m\u001b[38;5;124;43mZ\u001b[39;49m\u001b[38;5;124;43m'\u001b[39;49m\u001b[43m,\u001b[49m\u001b[43m \u001b[49m\u001b[38;5;124;43m'\u001b[39;49m\u001b[38;5;124;43mZ\u001b[39;49m\u001b[38;5;124;43m'\u001b[39;49m\u001b[43m,\u001b[49m\u001b[43m \u001b[49m\u001b[38;5;124;43m'\u001b[39;49m\u001b[38;5;124;43mZ\u001b[39;49m\u001b[38;5;124;43m'\u001b[39;49m\u001b[43m]\u001b[49m\u001b[43m,\u001b[49m\u001b[43m \u001b[49m\u001b[38;5;241;43m3\u001b[39;49m\u001b[43m,\u001b[49m\u001b[43m \u001b[49m\u001b[38;5;241;43m2\u001b[39;49m\u001b[43m)\u001b[49m\n",
      "Cell \u001b[0;32mIn[211], line 18\u001b[0m, in \u001b[0;36mcalc_eigen_jacobian_at_target\u001b[0;34m(sequence, num_params, hilbert_dim)\u001b[0m\n\u001b[1;32m     16\u001b[0m \u001b[38;5;66;03m# Define the target unitary matrix\u001b[39;00m\n\u001b[1;32m     17\u001b[0m target_params \u001b[38;5;241m=\u001b[39m np\u001b[38;5;241m.\u001b[39mzeros(num_params)\n\u001b[0;32m---> 18\u001b[0m target_unitary \u001b[38;5;241m=\u001b[39m \u001b[43msequence_to_unitary\u001b[49m\u001b[43m(\u001b[49m\u001b[43msequence\u001b[49m\u001b[43m,\u001b[49m\u001b[43m \u001b[49m\u001b[43mtarget_params\u001b[49m\u001b[43m)\u001b[49m\n\u001b[1;32m     19\u001b[0m \u001b[38;5;28;01massert\u001b[39;00m target_unitary\u001b[38;5;241m.\u001b[39mshape[\u001b[38;5;241m0\u001b[39m] \u001b[38;5;241m==\u001b[39m target_unitary\u001b[38;5;241m.\u001b[39mshape[\u001b[38;5;241m1\u001b[39m]\n\u001b[1;32m     20\u001b[0m \u001b[38;5;28;01massert\u001b[39;00m target_unitary\u001b[38;5;241m.\u001b[39mshape[\u001b[38;5;241m0\u001b[39m] \u001b[38;5;241m==\u001b[39m hilbert_dim\n",
      "Cell \u001b[0;32mIn[175], line 11\u001b[0m, in \u001b[0;36msequence_to_unitary\u001b[0;34m(sequence, param_dict)\u001b[0m\n\u001b[1;32m      9\u001b[0m num_qubits \u001b[38;5;241m=\u001b[39m \u001b[38;5;241m2\u001b[39m\n\u001b[1;32m     10\u001b[0m U \u001b[38;5;241m=\u001b[39m np\u001b[38;5;241m.\u001b[39meye(\u001b[38;5;241m2\u001b[39m\u001b[38;5;241m*\u001b[39m\u001b[38;5;241m*\u001b[39mnum_qubits)\n\u001b[0;32m---> 11\u001b[0m \u001b[38;5;28;01mfor\u001b[39;00m gate, target \u001b[38;5;129;01min\u001b[39;00m sequence:\n\u001b[1;32m     12\u001b[0m     \u001b[38;5;28;01mif\u001b[39;00m gate \u001b[38;5;241m==\u001b[39m \u001b[38;5;124m'\u001b[39m\u001b[38;5;124mXpi2\u001b[39m\u001b[38;5;124m'\u001b[39m:\n\u001b[1;32m     13\u001b[0m         U \u001b[38;5;241m=\u001b[39m model_Gxpi2(param_dict[gate\u001b[38;5;241m+\u001b[39m\u001b[38;5;124mf\u001b[39m\u001b[38;5;124m'\u001b[39m\u001b[38;5;124m_Q\u001b[39m\u001b[38;5;132;01m{\u001b[39;00mtarget\u001b[38;5;132;01m}\u001b[39;00m\u001b[38;5;124m'\u001b[39m], target, num_qubits) \u001b[38;5;241m@\u001b[39m U\n",
      "\u001b[0;31mValueError\u001b[0m: not enough values to unpack (expected 2, got 1)"
     ]
    }
   ],
   "source": [
    "calc_eigen_jacobian_at_target(['Z', 'X', 'Z', 'Z', 'Z'], 3, 2)"
   ]
  },
  {
   "cell_type": "code",
   "execution_count": 216,
   "metadata": {},
   "outputs": [
    {
     "ename": "ValueError",
     "evalue": "not enough values to unpack (expected 2, got 1)",
     "output_type": "error",
     "traceback": [
      "\u001b[0;31m---------------------------------------------------------------------------\u001b[0m",
      "\u001b[0;31mValueError\u001b[0m                                Traceback (most recent call last)",
      "Cell \u001b[0;32mIn[216], line 1\u001b[0m\n\u001b[0;32m----> 1\u001b[0m \u001b[43mcalc_eigen_jacobian_at_target\u001b[49m\u001b[43m(\u001b[49m\u001b[43m[\u001b[49m\u001b[38;5;124;43m'\u001b[39;49m\u001b[38;5;124;43mZ\u001b[39;49m\u001b[38;5;124;43m'\u001b[39;49m\u001b[43m,\u001b[49m\u001b[43m \u001b[49m\u001b[38;5;124;43m'\u001b[39;49m\u001b[38;5;124;43mZ\u001b[39;49m\u001b[38;5;124;43m'\u001b[39;49m\u001b[43m,\u001b[49m\u001b[43m \u001b[49m\u001b[38;5;124;43m'\u001b[39;49m\u001b[38;5;124;43mX\u001b[39;49m\u001b[38;5;124;43m'\u001b[39;49m\u001b[43m,\u001b[49m\u001b[43m \u001b[49m\u001b[38;5;124;43m'\u001b[39;49m\u001b[38;5;124;43mZ\u001b[39;49m\u001b[38;5;124;43m'\u001b[39;49m\u001b[43m,\u001b[49m\u001b[43m \u001b[49m\u001b[38;5;124;43m'\u001b[39;49m\u001b[38;5;124;43mZ\u001b[39;49m\u001b[38;5;124;43m'\u001b[39;49m\u001b[43m,\u001b[49m\u001b[43m \u001b[49m\u001b[38;5;124;43m'\u001b[39;49m\u001b[38;5;124;43mX\u001b[39;49m\u001b[38;5;124;43m'\u001b[39;49m\u001b[43m]\u001b[49m\u001b[43m,\u001b[49m\u001b[43m \u001b[49m\u001b[38;5;241;43m3\u001b[39;49m\u001b[43m,\u001b[49m\u001b[43m \u001b[49m\u001b[38;5;241;43m2\u001b[39;49m\u001b[43m)\u001b[49m\n",
      "Cell \u001b[0;32mIn[211], line 18\u001b[0m, in \u001b[0;36mcalc_eigen_jacobian_at_target\u001b[0;34m(sequence, num_params, hilbert_dim)\u001b[0m\n\u001b[1;32m     16\u001b[0m \u001b[38;5;66;03m# Define the target unitary matrix\u001b[39;00m\n\u001b[1;32m     17\u001b[0m target_params \u001b[38;5;241m=\u001b[39m np\u001b[38;5;241m.\u001b[39mzeros(num_params)\n\u001b[0;32m---> 18\u001b[0m target_unitary \u001b[38;5;241m=\u001b[39m \u001b[43msequence_to_unitary\u001b[49m\u001b[43m(\u001b[49m\u001b[43msequence\u001b[49m\u001b[43m,\u001b[49m\u001b[43m \u001b[49m\u001b[43mtarget_params\u001b[49m\u001b[43m)\u001b[49m\n\u001b[1;32m     19\u001b[0m \u001b[38;5;28;01massert\u001b[39;00m target_unitary\u001b[38;5;241m.\u001b[39mshape[\u001b[38;5;241m0\u001b[39m] \u001b[38;5;241m==\u001b[39m target_unitary\u001b[38;5;241m.\u001b[39mshape[\u001b[38;5;241m1\u001b[39m]\n\u001b[1;32m     20\u001b[0m \u001b[38;5;28;01massert\u001b[39;00m target_unitary\u001b[38;5;241m.\u001b[39mshape[\u001b[38;5;241m0\u001b[39m] \u001b[38;5;241m==\u001b[39m hilbert_dim\n",
      "Cell \u001b[0;32mIn[175], line 11\u001b[0m, in \u001b[0;36msequence_to_unitary\u001b[0;34m(sequence, param_dict)\u001b[0m\n\u001b[1;32m      9\u001b[0m num_qubits \u001b[38;5;241m=\u001b[39m \u001b[38;5;241m2\u001b[39m\n\u001b[1;32m     10\u001b[0m U \u001b[38;5;241m=\u001b[39m np\u001b[38;5;241m.\u001b[39meye(\u001b[38;5;241m2\u001b[39m\u001b[38;5;241m*\u001b[39m\u001b[38;5;241m*\u001b[39mnum_qubits)\n\u001b[0;32m---> 11\u001b[0m \u001b[38;5;28;01mfor\u001b[39;00m gate, target \u001b[38;5;129;01min\u001b[39;00m sequence:\n\u001b[1;32m     12\u001b[0m     \u001b[38;5;28;01mif\u001b[39;00m gate \u001b[38;5;241m==\u001b[39m \u001b[38;5;124m'\u001b[39m\u001b[38;5;124mXpi2\u001b[39m\u001b[38;5;124m'\u001b[39m:\n\u001b[1;32m     13\u001b[0m         U \u001b[38;5;241m=\u001b[39m model_Gxpi2(param_dict[gate\u001b[38;5;241m+\u001b[39m\u001b[38;5;124mf\u001b[39m\u001b[38;5;124m'\u001b[39m\u001b[38;5;124m_Q\u001b[39m\u001b[38;5;132;01m{\u001b[39;00mtarget\u001b[38;5;132;01m}\u001b[39;00m\u001b[38;5;124m'\u001b[39m], target, num_qubits) \u001b[38;5;241m@\u001b[39m U\n",
      "\u001b[0;31mValueError\u001b[0m: not enough values to unpack (expected 2, got 1)"
     ]
    }
   ],
   "source": [
    "calc_eigen_jacobian_at_target(['Z', 'Z', 'X', 'Z', 'Z', 'X'], 3, 2)"
   ]
  },
  {
   "cell_type": "code",
   "execution_count": 217,
   "metadata": {},
   "outputs": [],
   "source": [
    "def score_eigen_jacobian_matrix(jacobian_matrix):\n",
    "    svals = np.linalg.svd(jacobian_matrix, compute_uv=False)\n",
    "    svals_clipped = np.clip(svals, 1e-8, None)\n",
    "    return np.sum(np.log(svals_clipped))"
   ]
  },
  {
   "cell_type": "code",
   "execution_count": 218,
   "metadata": {},
   "outputs": [
    {
     "ename": "ValueError",
     "evalue": "not enough values to unpack (expected 2, got 1)",
     "output_type": "error",
     "traceback": [
      "\u001b[0;31m---------------------------------------------------------------------------\u001b[0m",
      "\u001b[0;31mValueError\u001b[0m                                Traceback (most recent call last)",
      "Cell \u001b[0;32mIn[218], line 6\u001b[0m\n\u001b[1;32m      4\u001b[0m total_jac \u001b[38;5;241m=\u001b[39m np\u001b[38;5;241m.\u001b[39mzeros((hilbert_dim, \u001b[38;5;241m0\u001b[39m), dtype\u001b[38;5;241m=\u001b[39mnp\u001b[38;5;241m.\u001b[39mcomplex128)\n\u001b[1;32m      5\u001b[0m \u001b[38;5;28;01mfor\u001b[39;00m sequence \u001b[38;5;129;01min\u001b[39;00m sequences:\n\u001b[0;32m----> 6\u001b[0m     jac \u001b[38;5;241m=\u001b[39m \u001b[43mcalc_eigen_jacobian_at_target\u001b[49m\u001b[43m(\u001b[49m\u001b[43msequence\u001b[49m\u001b[43m,\u001b[49m\u001b[43m \u001b[49m\u001b[43mnum_params\u001b[49m\u001b[43m,\u001b[49m\u001b[43m \u001b[49m\u001b[43mhilbert_dim\u001b[49m\u001b[43m)\u001b[49m\n\u001b[1;32m      7\u001b[0m     total_jac \u001b[38;5;241m=\u001b[39m np\u001b[38;5;241m.\u001b[39mconcatenate((total_jac, jac), axis\u001b[38;5;241m=\u001b[39m\u001b[38;5;241m1\u001b[39m)\n\u001b[1;32m      8\u001b[0m score_eigen_jacobian_matrix(total_jac)\n",
      "Cell \u001b[0;32mIn[211], line 18\u001b[0m, in \u001b[0;36mcalc_eigen_jacobian_at_target\u001b[0;34m(sequence, num_params, hilbert_dim)\u001b[0m\n\u001b[1;32m     16\u001b[0m \u001b[38;5;66;03m# Define the target unitary matrix\u001b[39;00m\n\u001b[1;32m     17\u001b[0m target_params \u001b[38;5;241m=\u001b[39m np\u001b[38;5;241m.\u001b[39mzeros(num_params)\n\u001b[0;32m---> 18\u001b[0m target_unitary \u001b[38;5;241m=\u001b[39m \u001b[43msequence_to_unitary\u001b[49m\u001b[43m(\u001b[49m\u001b[43msequence\u001b[49m\u001b[43m,\u001b[49m\u001b[43m \u001b[49m\u001b[43mtarget_params\u001b[49m\u001b[43m)\u001b[49m\n\u001b[1;32m     19\u001b[0m \u001b[38;5;28;01massert\u001b[39;00m target_unitary\u001b[38;5;241m.\u001b[39mshape[\u001b[38;5;241m0\u001b[39m] \u001b[38;5;241m==\u001b[39m target_unitary\u001b[38;5;241m.\u001b[39mshape[\u001b[38;5;241m1\u001b[39m]\n\u001b[1;32m     20\u001b[0m \u001b[38;5;28;01massert\u001b[39;00m target_unitary\u001b[38;5;241m.\u001b[39mshape[\u001b[38;5;241m0\u001b[39m] \u001b[38;5;241m==\u001b[39m hilbert_dim\n",
      "Cell \u001b[0;32mIn[175], line 11\u001b[0m, in \u001b[0;36msequence_to_unitary\u001b[0;34m(sequence, param_dict)\u001b[0m\n\u001b[1;32m      9\u001b[0m num_qubits \u001b[38;5;241m=\u001b[39m \u001b[38;5;241m2\u001b[39m\n\u001b[1;32m     10\u001b[0m U \u001b[38;5;241m=\u001b[39m np\u001b[38;5;241m.\u001b[39meye(\u001b[38;5;241m2\u001b[39m\u001b[38;5;241m*\u001b[39m\u001b[38;5;241m*\u001b[39mnum_qubits)\n\u001b[0;32m---> 11\u001b[0m \u001b[38;5;28;01mfor\u001b[39;00m gate, target \u001b[38;5;129;01min\u001b[39;00m sequence:\n\u001b[1;32m     12\u001b[0m     \u001b[38;5;28;01mif\u001b[39;00m gate \u001b[38;5;241m==\u001b[39m \u001b[38;5;124m'\u001b[39m\u001b[38;5;124mXpi2\u001b[39m\u001b[38;5;124m'\u001b[39m:\n\u001b[1;32m     13\u001b[0m         U \u001b[38;5;241m=\u001b[39m model_Gxpi2(param_dict[gate\u001b[38;5;241m+\u001b[39m\u001b[38;5;124mf\u001b[39m\u001b[38;5;124m'\u001b[39m\u001b[38;5;124m_Q\u001b[39m\u001b[38;5;132;01m{\u001b[39;00mtarget\u001b[38;5;132;01m}\u001b[39;00m\u001b[38;5;124m'\u001b[39m], target, num_qubits) \u001b[38;5;241m@\u001b[39m U\n",
      "\u001b[0;31mValueError\u001b[0m: not enough values to unpack (expected 2, got 1)"
     ]
    }
   ],
   "source": [
    "sequences = [['X'], ['Z', 'X', 'Z', 'Z', 'Z'], ['Z', 'Z', 'X', 'Z', 'Z', 'X']]\n",
    "num_params = 3\n",
    "hilbert_dim = 2\n",
    "total_jac = np.zeros((hilbert_dim, 0), dtype=np.complex128)\n",
    "for sequence in sequences:\n",
    "    jac = calc_eigen_jacobian_at_target(sequence, num_params, hilbert_dim)\n",
    "    total_jac = np.concatenate((total_jac, jac), axis=1)\n",
    "score_eigen_jacobian_matrix(total_jac)"
   ]
  },
  {
   "cell_type": "code",
   "execution_count": 219,
   "metadata": {},
   "outputs": [
    {
     "ename": "ValueError",
     "evalue": "not enough values to unpack (expected 2, got 1)",
     "output_type": "error",
     "traceback": [
      "\u001b[0;31m---------------------------------------------------------------------------\u001b[0m",
      "\u001b[0;31mValueError\u001b[0m                                Traceback (most recent call last)",
      "Cell \u001b[0;32mIn[219], line 1\u001b[0m\n\u001b[0;32m----> 1\u001b[0m score_eigen_jacobian_matrix(\u001b[43mcalc_eigen_jacobian_at_target\u001b[49m\u001b[43m(\u001b[49m\u001b[43m[\u001b[49m\u001b[38;5;124;43m'\u001b[39;49m\u001b[38;5;124;43mX\u001b[39;49m\u001b[38;5;124;43m'\u001b[39;49m\u001b[43m,\u001b[49m\u001b[43m \u001b[49m\u001b[38;5;124;43m'\u001b[39;49m\u001b[38;5;124;43mX\u001b[39;49m\u001b[38;5;124;43m'\u001b[39;49m\u001b[43m,\u001b[49m\u001b[43m \u001b[49m\u001b[38;5;124;43m'\u001b[39;49m\u001b[38;5;124;43mZ\u001b[39;49m\u001b[38;5;124;43m'\u001b[39;49m\u001b[43m,\u001b[49m\u001b[43m \u001b[49m\u001b[38;5;124;43m'\u001b[39;49m\u001b[38;5;124;43mZ\u001b[39;49m\u001b[38;5;124;43m'\u001b[39;49m\u001b[43m]\u001b[49m\u001b[43m,\u001b[49m\u001b[43m \u001b[49m\u001b[38;5;241;43m3\u001b[39;49m\u001b[43m,\u001b[49m\u001b[43m \u001b[49m\u001b[38;5;241;43m2\u001b[39;49m\u001b[43m)\u001b[49m)\n",
      "Cell \u001b[0;32mIn[211], line 18\u001b[0m, in \u001b[0;36mcalc_eigen_jacobian_at_target\u001b[0;34m(sequence, num_params, hilbert_dim)\u001b[0m\n\u001b[1;32m     16\u001b[0m \u001b[38;5;66;03m# Define the target unitary matrix\u001b[39;00m\n\u001b[1;32m     17\u001b[0m target_params \u001b[38;5;241m=\u001b[39m np\u001b[38;5;241m.\u001b[39mzeros(num_params)\n\u001b[0;32m---> 18\u001b[0m target_unitary \u001b[38;5;241m=\u001b[39m \u001b[43msequence_to_unitary\u001b[49m\u001b[43m(\u001b[49m\u001b[43msequence\u001b[49m\u001b[43m,\u001b[49m\u001b[43m \u001b[49m\u001b[43mtarget_params\u001b[49m\u001b[43m)\u001b[49m\n\u001b[1;32m     19\u001b[0m \u001b[38;5;28;01massert\u001b[39;00m target_unitary\u001b[38;5;241m.\u001b[39mshape[\u001b[38;5;241m0\u001b[39m] \u001b[38;5;241m==\u001b[39m target_unitary\u001b[38;5;241m.\u001b[39mshape[\u001b[38;5;241m1\u001b[39m]\n\u001b[1;32m     20\u001b[0m \u001b[38;5;28;01massert\u001b[39;00m target_unitary\u001b[38;5;241m.\u001b[39mshape[\u001b[38;5;241m0\u001b[39m] \u001b[38;5;241m==\u001b[39m hilbert_dim\n",
      "Cell \u001b[0;32mIn[175], line 11\u001b[0m, in \u001b[0;36msequence_to_unitary\u001b[0;34m(sequence, param_dict)\u001b[0m\n\u001b[1;32m      9\u001b[0m num_qubits \u001b[38;5;241m=\u001b[39m \u001b[38;5;241m2\u001b[39m\n\u001b[1;32m     10\u001b[0m U \u001b[38;5;241m=\u001b[39m np\u001b[38;5;241m.\u001b[39meye(\u001b[38;5;241m2\u001b[39m\u001b[38;5;241m*\u001b[39m\u001b[38;5;241m*\u001b[39mnum_qubits)\n\u001b[0;32m---> 11\u001b[0m \u001b[38;5;28;01mfor\u001b[39;00m gate, target \u001b[38;5;129;01min\u001b[39;00m sequence:\n\u001b[1;32m     12\u001b[0m     \u001b[38;5;28;01mif\u001b[39;00m gate \u001b[38;5;241m==\u001b[39m \u001b[38;5;124m'\u001b[39m\u001b[38;5;124mXpi2\u001b[39m\u001b[38;5;124m'\u001b[39m:\n\u001b[1;32m     13\u001b[0m         U \u001b[38;5;241m=\u001b[39m model_Gxpi2(param_dict[gate\u001b[38;5;241m+\u001b[39m\u001b[38;5;124mf\u001b[39m\u001b[38;5;124m'\u001b[39m\u001b[38;5;124m_Q\u001b[39m\u001b[38;5;132;01m{\u001b[39;00mtarget\u001b[38;5;132;01m}\u001b[39;00m\u001b[38;5;124m'\u001b[39m], target, num_qubits) \u001b[38;5;241m@\u001b[39m U\n",
      "\u001b[0;31mValueError\u001b[0m: not enough values to unpack (expected 2, got 1)"
     ]
    }
   ],
   "source": [
    "score_eigen_jacobian_matrix(calc_eigen_jacobian_at_target(['X', 'X', 'Z', 'Z'], 3, 2))"
   ]
  },
  {
   "cell_type": "code",
   "execution_count": null,
   "metadata": {},
   "outputs": [],
   "source": []
  },
  {
   "cell_type": "code",
   "execution_count": null,
   "metadata": {},
   "outputs": [],
   "source": []
  }
 ],
 "metadata": {
  "kernelspec": {
   "display_name": "ErrorGenerators",
   "language": "python",
   "name": "python3"
  },
  "language_info": {
   "codemirror_mode": {
    "name": "ipython",
    "version": 3
   },
   "file_extension": ".py",
   "mimetype": "text/x-python",
   "name": "python",
   "nbconvert_exporter": "python",
   "pygments_lexer": "ipython3",
   "version": "3.10.11"
  }
 },
 "nbformat": 4,
 "nbformat_minor": 2
}
