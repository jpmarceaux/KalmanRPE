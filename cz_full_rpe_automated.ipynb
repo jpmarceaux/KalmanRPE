{
 "cells": [
  {
   "cell_type": "code",
   "execution_count": 1,
   "metadata": {},
   "outputs": [],
   "source": [
    "import numpy as np\n",
    "from scipy.linalg import expm\n",
    "import itertools as itt"
   ]
  },
  {
   "cell_type": "code",
   "execution_count": 2,
   "metadata": {},
   "outputs": [],
   "source": [
    "def Uxpi2_2q(target_qubit):\n",
    "    return expm(-1j*np.pi/2*np.kron(np.eye(2**target_qubit), np.array([[0, -1j], [-1j, 0]])))"
   ]
  },
  {
   "cell_type": "code",
   "execution_count": 3,
   "metadata": {},
   "outputs": [],
   "source": [
    "gate_names = [\n",
    "    ('Gxpi2', 0), \n",
    "    ('Gxpi2', 1),\n",
    "    ('Gypi2', 0), \n",
    "    ('Gypi2', 1),\n",
    "    ('Gzpi2', 0), \n",
    "    ('Gzpi2', 1),\n",
    "    ('Gcz', 0, 1),\n",
    "]\n",
    "\n",
    "germs = itt.product(gate_names, repeat=5)"
   ]
  },
  {
   "cell_type": "code",
   "execution_count": null,
   "metadata": {},
   "outputs": [],
   "source": []
  }
 ],
 "metadata": {
  "kernelspec": {
   "display_name": "ErrorGenerators",
   "language": "python",
   "name": "python3"
  },
  "language_info": {
   "codemirror_mode": {
    "name": "ipython",
    "version": 3
   },
   "file_extension": ".py",
   "mimetype": "text/x-python",
   "name": "python",
   "nbconvert_exporter": "python",
   "pygments_lexer": "ipython3",
   "version": "3.10.11"
  }
 },
 "nbformat": 4,
 "nbformat_minor": 2
}
