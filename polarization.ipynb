{
 "cells": [
  {
   "cell_type": "code",
   "execution_count": 73,
   "metadata": {},
   "outputs": [],
   "source": [
    "import pygsti\n",
    "from scipy.linalg import expm\n",
    "import numpy as np\n",
    "from pygsti.tools import unitary_to_superop\n",
    "from pygsti.modelpacks import smq1Q_XYZI\n",
    "from matplotlib import pyplot as plt\n",
    "from pygsti.circuits import Circuit\n",
    "from quapack.pyRPE import RobustPhaseEstimation\n",
    "from quapack.pyRPE.quantum import Q as _rpeQ\n",
    "from tqdm import tqdm\n",
    "from importlib import reload\n",
    "import kalman_rpe as _krpe\n",
    "import kalman_filters as _filters"
   ]
  },
  {
   "cell_type": "code",
   "execution_count": 74,
   "metadata": {},
   "outputs": [
    {
     "data": {
      "text/plain": [
       "<module 'kalman_filters' from '/home/jpmarceaux/VSProjects/KalmanRPE/kalman_filters.py'>"
      ]
     },
     "execution_count": 74,
     "metadata": {},
     "output_type": "execute_result"
    }
   ],
   "source": [
    "reload(_krpe)\n",
    "reload(_filters)"
   ]
  },
  {
   "cell_type": "code",
   "execution_count": 75,
   "metadata": {},
   "outputs": [],
   "source": [
    "SIGX = pygsti.tools.sigmax\n",
    "SIGY = pygsti.tools.sigmay\n",
    "SIGZ = pygsti.tools.sigmaz\n",
    "SIGM = np.array([[0, 1], [0, 0]])\n",
    "SIGP = np.array([[0, 0], [1, 0]])"
   ]
  },
  {
   "cell_type": "code",
   "execution_count": 76,
   "metadata": {},
   "outputs": [],
   "source": [
    "MEAS_0 = (0.5*np.eye(2) + 0.5*SIGZ).flatten()\n",
    "MEAS_PLUS = (0.5*np.eye(2) + 0.5*SIGX).flatten()\n",
    "MEAS_RIGHT = (0.5*np.eye(2) + 0.5*SIGY.T).flatten()\n",
    "\n",
    "PREP_0 = (0.5*np.eye(2) + 0.5*SIGZ).flatten()\n",
    "PREP_PLUS = (0.5*np.eye(2) + 0.5*SIGX).flatten()\n",
    "PREP_RIGHT = (0.5*np.eye(2) + 0.5*SIGY).flatten()\n",
    "\n",
    "PREP_DICT = {\n",
    "    '0': PREP_0,\n",
    "    '+': PREP_PLUS,\n",
    "    'R': PREP_RIGHT,\n",
    "}\n",
    "\n",
    "MEAS_DICT = {\n",
    "    '0': MEAS_0,\n",
    "    '+': MEAS_PLUS,\n",
    "    'R': MEAS_RIGHT,\n",
    "}\n",
    "\n",
    "def make_standard_experiment_at_depth(d):\n",
    "    return [\n",
    "        (d, '0', '0'),\n",
    "        (d, '0', 'R'),\n",
    "    ]\n"
   ]
  },
  {
   "cell_type": "code",
   "execution_count": 77,
   "metadata": {},
   "outputs": [],
   "source": [
    "def make_dephasing_generator():\n",
    "    return 0.5*(np.kron(SIGZ, SIGZ) - np.eye(4))\n",
    "\n",
    "def make_depolarizing_generator():\n",
    "    return 0.5*(np.kron(SIGX, SIGX) + np.kron(SIGY, SIGY) + np.kron(SIGZ, SIGZ) - 3*np.eye(4))\n",
    "\n",
    "def make_decay_generator():\n",
    "    return (np.kron(np.transpose(SIGP), SIGM) - \n",
    "            0.5*(np.kron(np.eye(2), SIGP@SIGM) + np.kron(np.transpose(SIGP@SIGM), np.eye(2))))\n",
    "\n",
    "def make_unitary_generator(P):\n",
    "    return (1j/2)*(np.kron(np.eye(2), P) - np.kron(np.conj(P), np.eye(2)))"
   ]
  },
  {
   "cell_type": "code",
   "execution_count": 78,
   "metadata": {},
   "outputs": [],
   "source": [
    "def make_model_process_matrix(theta, L1, Lphi, Ldepol):\n",
    "    unitary_gen = make_unitary_generator(SIGX)\n",
    "    dephasing_gen = make_dephasing_generator()\n",
    "    decay_gen = make_decay_generator()\n",
    "    depol_gen = make_depolarizing_generator()\n",
    "    return expm((theta+np.pi/2)*unitary_gen + L1*dephasing_gen + Lphi*decay_gen + Ldepol*depol_gen)\n",
    "\n",
    "\n",
    "def change_basis_to_pauli_transfer(op):\n",
    "    pmats = [np.eye(2), SIGX, SIGY, SIGZ]\n",
    "    op_ptransfer = np.zeros((4, 4), dtype=complex)\n",
    "    for i in range(4):\n",
    "        for j in range(4):\n",
    "            op_ptransfer[i, j] = (1/2)*pmats[i].T.flatten()@op@pmats[j].flatten()\n",
    "    return op_ptransfer.real"
   ]
  },
  {
   "cell_type": "code",
   "execution_count": 79,
   "metadata": {},
   "outputs": [],
   "source": [
    "def probability(xstate, d, prep, meas):\n",
    "    # pad the state with zeros\n",
    "    xstate = np.array(xstate)\n",
    "    xstate = np.pad(xstate, (0, 4 - len(xstate)))\n",
    "    pmat = make_model_process_matrix(*xstate)\n",
    "    rpe_op = np.linalg.matrix_power(pmat, 4*d)\n",
    "    p = MEAS_DICT[meas]@rpe_op@PREP_DICT[prep]\n",
    "    assert p.imag < 1e-10\n",
    "    return p.real\n",
    "\n",
    "def dprob(xstate, d, prep, meas, epsilon=1e-6):\n",
    "    grads = []\n",
    "    for i in range(3):\n",
    "        xstate_p = xstate.copy()\n",
    "        xstate_m = xstate.copy()\n",
    "        xstate_p[i] += epsilon\n",
    "        xstate_m[i] -= epsilon\n",
    "        grads.append((probability(xstate_p, d, prep, meas) - probability(xstate_m, d, prep, meas))/(2*epsilon))\n",
    "    return np.array(grads)\n",
    "\n",
    "def rpe_probabilities(xstate, circ_defs):\n",
    "    pvec = np.zeros(len(circ_defs))\n",
    "    for idx, (d_i, prep_i, meas_i) in enumerate(circ_defs):\n",
    "        pvec[idx] = probability(xstate, d_i, prep_i, meas_i)\n",
    "    return pvec\n",
    "\n",
    "def rpe_grads(xstate, circ_defs):\n",
    "    gvec = np.zeros((len(circ_defs), 3))\n",
    "    for idx, (d_i, prep_i, meas_i) in enumerate(circ_defs):\n",
    "        gvec[idx, :] = dprob(xstate, d_i, prep_i, meas_i)\n",
    "    return gvec\n",
    "\n",
    "def rpe_observation(xstate, circ_defs, num_shots):\n",
    "    pvec = rpe_probabilities(xstate, circ_defs)\n",
    "    pvec = np.clip(pvec, 1e-10, 1-1e-10)\n",
    "    return np.random.binomial(num_shots, pvec)"
   ]
  },
  {
   "cell_type": "code",
   "execution_count": 80,
   "metadata": {},
   "outputs": [],
   "source": [
    "def step_xstate(xstate, q):\n",
    "    return xstate + np.array([np.random.normal(0, q), 0, 0, 0])\n",
    "\n",
    "def make_xstate_timseries(xstart, q, num_steps):\n",
    "    xstates = [xstart]\n",
    "    x = xstart.copy()\n",
    "    for i in range(num_steps-1):\n",
    "        x = step_xstate(x, q)\n",
    "        xstates.append(x)\n",
    "    return np.array(xstates)"
   ]
  },
  {
   "cell_type": "code",
   "execution_count": 81,
   "metadata": {},
   "outputs": [],
   "source": [
    "# def probability(xstate, d, prep, meas):\n",
    "#     # pad the state with zeros\n",
    "#     xstate = np.array(xstate)\n",
    "#     xstate = np.pad(xstate, (0, 4 - len(xstate)))\n",
    "#     pmat = make_model_process_matrix(*xstate)\n",
    "#     rpe_op = np.linalg.matrix_power(pmat, 4*d)\n",
    "#     p = meas@rpe_op@prep\n",
    "#     assert p.imag < 1e-10\n",
    "#     return p.real\n",
    "\n",
    "def dprob(xstate, d, prep, meas, epsilon=1e-6):\n",
    "    grads = []\n",
    "    for i in range(3):\n",
    "        xstate_p = xstate.copy()\n",
    "        xstate_m = xstate.copy()\n",
    "        xstate_p[i] += epsilon\n",
    "        xstate_m[i] -= epsilon\n",
    "        grads.append((probability(xstate_p, d, prep, meas) - probability(xstate_m, d, prep, meas))/(2*epsilon))\n",
    "    return np.array(grads)\n",
    "\n",
    "def rpe_probabilities(xstate, circ_defs):\n",
    "    pvec = np.zeros(len(circ_defs))\n",
    "    for idx, (d_i, prep_i, meas_i) in enumerate(circ_defs):\n",
    "        pvec[idx] = probability(xstate, d_i, prep_i, meas_i)\n",
    "    return pvec\n",
    "\n",
    "def rpe_grads(xstate, circ_defs):\n",
    "    gvec = np.zeros((len(circ_defs), 3))\n",
    "    for idx, (d_i, prep_i, meas_i) in enumerate(circ_defs):\n",
    "        gvec[idx, :] = dprob(xstate, d_i, prep_i, meas_i)\n",
    "    return gvec\n",
    "\n",
    "def rpe_observation(xstate, circ_defs, num_shots):\n",
    "    pvec = rpe_probabilities(xstate, circ_defs)\n",
    "    pvec = np.clip(pvec, 1e-10, 1-1e-10)\n",
    "    return np.random.binomial(num_shots, pvec)"
   ]
  },
  {
   "cell_type": "code",
   "execution_count": 426,
   "metadata": {},
   "outputs": [],
   "source": [
    "from filterpy.kalman import UnscentedKalmanFilter\n",
    "from filterpy.kalman import MerweScaledSigmaPoints, SimplexSigmaPoints, JulierSigmaPoints\n",
    "from filterpy.kalman import unscented_transform\n",
    "from copy import deepcopy\n",
    "from kalman_filters import format_observation\n",
    "from numpy import dot\n",
    "\n",
    "class Unitary_UKF_1Param(UnscentedKalmanFilter):\n",
    "    def __init__(self, x, P, num_circs, save_history=False, dt=1, hx=None, fx=None, points=None):\n",
    "        num_params = len(x)\n",
    "        self.dt=1\n",
    "        # self.points = JulierSigmaPoints(num_params, kappa=0)\n",
    "        self.points = MerweScaledSigmaPoints(num_params, alpha=1e-3, beta=2, kappa=0)\n",
    "        super().__init__(num_params, num_circs, dt=1, hx=self.hx, fx=self.fx, points=self.points)\n",
    "        self.x = x\n",
    "        self.P = P\n",
    "        \n",
    "        \n",
    "        if save_history:\n",
    "            self.xhistory = [x.copy()]\n",
    "            self.Phistory = [P.copy()]\n",
    "            self.store_history = True\n",
    "        \n",
    "        #self.points = SimplexSigmaPoints(num_params, alpha=1)\n",
    "        \n",
    "    def fx(self, x, dt, u=None):\n",
    "        if u is None:\n",
    "            u = np.zeros(len(x))\n",
    "        return x + u\n",
    "\n",
    "    def hx(self, x, circ_defs, data_format=\"cartesian\"):\n",
    "        pvec = rpe_probabilities(x, circ_defs)\n",
    "        return format_observation(pvec, data_format)\n",
    "\n",
    "    def check_consistency_at_d(self, d):\n",
    "        \"\"\"Check that the experiment design at depth d is consistent for the sigma points.\"\"\"\n",
    "        pass\n",
    "        \n",
    "    def compute_process_sigmas(self, dt, fx=None, **fx_args):\n",
    "        \"\"\"\n",
    "        computes the values of sigmas_f. Normally a user would not call\n",
    "        this, but it is useful if you need to call update more than once\n",
    "        between calls to predict (to update for multiple simultaneous\n",
    "        measurements), so the sigmas correctly reflect the updated state\n",
    "        x, P.\n",
    "        \"\"\"\n",
    "\n",
    "        if fx is None:\n",
    "            fx = self.fx\n",
    "        # calculate sigma points for given mean and covariance\n",
    "        sigmas = self.points_fn.sigma_points(self.x, self.P)\n",
    "\n",
    "        for i, s in enumerate(sigmas):\n",
    "            self.sigmas_f[i] = fx(s, dt, **fx_args)\n",
    "\n",
    "\n",
    "    def update(self, observation, num_shots_per_circuit, circ_defs, UT=None, hx=None, data_format=\"cartesian\"):\n",
    "        \"\"\"\n",
    "        Update the UKF with the given measurements. On return,\n",
    "        self.x and self.P contain the new mean and covariance of the filter.\n",
    "\n",
    "        update one generation at a time\n",
    "\n",
    "        Parameters\n",
    "        ----------\n",
    "\n",
    "        observation: emperical distribution\n",
    "\n",
    "        d: int, depth of the circuit\n",
    "\n",
    "        num_shots: int, number of shots per circuit\n",
    "\n",
    "        UT : function(sigmas, Wm, Wc, noise_cov), optional\n",
    "            Optional function to compute the unscented transform for the sigma\n",
    "            points passed through hx. Typically the default function will\n",
    "            work - you can use x_mean_fn and z_mean_fn to alter the behavior\n",
    "            of the unscented transform.\n",
    "\n",
    "        hx : callable h(x, **hx_args), optional\n",
    "            Measurement function. If not provided, the default\n",
    "            function passed in during construction will be used.\n",
    "\n",
    "        **hx_args : keyword argument\n",
    "            arguments to be passed into h(x) after x -> h(x, **hx_args)\n",
    "        \"\"\"\n",
    "\n",
    "\n",
    "        if hx is None:\n",
    "            hx = self.hx\n",
    "\n",
    "        if UT is None:\n",
    "            UT = unscented_transform\n",
    "\n",
    "        # elif isscalar(R):\n",
    "        #     R = eye(self._dim_z) * R\n",
    "        \n",
    "        z = format_observation(observation/num_shots_per_circuit, data_format)\n",
    "        #alpha_vec = (counts + np.ones(len(counts)))/(num_shots + len(counts)) Uncomment for Dirichlet covar\n",
    "        #R = np.diag(alpha_vec*(1-alpha_vec)/(num_shots + len(counts) +1))\n",
    "        R = (0.25/num_shots_per_circuit)*np.eye(len(circ_defs))\n",
    "        # pass prior sigmas through h(x) to get measurement sigmas\n",
    "        # the shape of sigmas_h will vary if the shape of z varies, so\n",
    "        # recreate each time\n",
    "        sigmas_h = []\n",
    "        for s in self.sigmas_f:\n",
    "            sigmas_h.append(hx(s, circ_defs, data_format=data_format))\n",
    "        self.sigmas_h = np.atleast_2d(sigmas_h)\n",
    "\n",
    "        # mean and covariance of prediction passed through unscented transform\n",
    "        zp, self.S = UT(self.sigmas_h, self.Wm, self.Wc, R, self.z_mean, self.residual_z)\n",
    "        self.SI = self.inv(self.S)\n",
    "\n",
    "        # compute cross variance of the state and the measurements\n",
    "        Pxz = self.cross_variance(self.x, zp, self.sigmas_f, self.sigmas_h)\n",
    "        \n",
    "        # DEBUG\n",
    "        #print(self.sigmas_f, self.sigmas_h)\n",
    "        #print(np.linalg.norm(Pxz), np.linalg.norm(self.S), np.linalg.norm(self.SI))\n",
    "\n",
    "        self.K = dot(Pxz, self.SI)        # Kalman gain\n",
    "        self.y = self.residual_z(z, zp)   # residual\n",
    "\n",
    "        x_new = self.x + dot(self.K, self.y)\n",
    "        # phase unwrapping on x[2]\n",
    "        # x_new[2] = np.unwrap([x_new[2]])\n",
    "        # if np.linalg.norm(x_new - self.x) < tol:\n",
    "        #     break\n",
    "        # else:\n",
    "        #     self.x = x_new\n",
    "        #     self.compute_process_sigmas(self.dt, self.fx)\n",
    "        #     #if i == max_iter - 1:\n",
    "        #     #    print(f\"WARNING: Max iterations reached without convergence with tolerance {tol}.\")\n",
    "        self.x = x_new\n",
    "        self.P = self.P - self.K@self.S@self.K.T\n",
    "\n",
    "        # save measurement and posterior state\n",
    "        self.x_post = self.x.copy()\n",
    "        self.z = deepcopy(z)\n",
    "        self.P_post = self.P.copy()\n",
    "\n",
    "        # set to None to force recompute\n",
    "        self._log_likelihood = None\n",
    "        self._likelihood = None\n",
    "        self._mahalanobis = None\n",
    "\n",
    "        if self.store_history:\n",
    "            self.xhistory.append(self.x)\n",
    "            self.Phistory.append(self.P)\n"
   ]
  },
  {
   "cell_type": "code",
   "execution_count": 446,
   "metadata": {},
   "outputs": [],
   "source": [
    "from matplotlib import cm\n",
    "\n",
    "def plot_trajectories(trajectories, uncertainties=None, labels=None, colormap=None, start_idx=0):\n",
    "    # plot 3 params over time\n",
    "    fig, ax = plt.subplots(3, 1, figsize=(10, 10))\n",
    "    if uncertainties is None:\n",
    "        uncertainties = [None]*len(trajectories)\n",
    "    if labels is None:\n",
    "        labels = [None]*len(trajectories)\n",
    "    if colormap is None:\n",
    "        colormap = cm.get_cmap('viridis', 12)\n",
    "    for i in range(3):\n",
    "        for idx, (traj, uncert, label) in enumerate(zip(trajectories, uncertainties, labels)):\n",
    "            if traj.shape[1] > i:\n",
    "                spacing = np.ceil(len(trajectories[0])/len(traj))\n",
    "                traj_line = np.repeat(traj[:, i], spacing)\n",
    "                ax[i].plot(np.arange(start_idx, len(traj_line), 1), traj_line[start_idx:], label=label, color=colormap(idx/len(trajectories)))\n",
    "                if uncert is not None:\n",
    "                    uncert_line = np.repeat(uncert[:, i], spacing)\n",
    "                    ax[i].fill_between(np.arange(start_idx, len(traj_line), 1), traj_line[start_idx:] - uncert_line[start_idx:], traj_line[start_idx:] + uncert_line[start_idx:], alpha=0.2, color=colormap(idx/len(trajectories)))\n",
    "        ax[i].set_xlabel(\"Time\")\n",
    "        ax[i].set_ylabel(f\"Parameter {i}\")\n",
    "        ax[i].legend()\n",
    "    plt.show()"
   ]
  },
  {
   "cell_type": "code",
   "execution_count": 428,
   "metadata": {},
   "outputs": [],
   "source": [
    "\n",
    "def depth_function(P, itr):\n",
    "    max_e = np.sqrt(np.max(np.abs(np.linalg.eigvals(P))))\n",
    "    #return 2**(itr//600)\n",
    "    return int(2*np.pi/(20*max_e) + 1)"
   ]
  },
  {
   "cell_type": "code",
   "execution_count": 429,
   "metadata": {},
   "outputs": [],
   "source": [
    "def make_observation_from_traj(xtraj, circ_defs, num_shots_per_circ, start_idx=0):\n",
    "    assert start_idx +num_shots_per_circ*len(circ_defs) < len(xtraj)\n",
    "    itr = start_idx\n",
    "    counts = {circ : np.zeros(2) for circ in circ_defs}\n",
    "    for id_shot in range(num_shots_per_circ):\n",
    "        for circ in circ_defs:\n",
    "            p = probability(xtraj[start_idx+itr], *circ)\n",
    "            shot = np.random.binomial(1, p)\n",
    "            if shot:\n",
    "                counts[circ][1] += 1\n",
    "            else:\n",
    "                counts[circ][0] += 1\n",
    "            itr +=1\n",
    "    return counts, itr\n",
    "\n",
    "def estimate_complex_amp_from_observation(counts, d):\n",
    "    counts_0 = counts[(d, '0', '0')]\n",
    "    counts_R = counts[(d, '0', 'R')]\n",
    "    p0 = counts_0[1]/(counts_0[0] + counts_0[1])\n",
    "    pR = counts_R[1]/(counts_R[0] + counts_R[1])\n",
    "    c = -(1-2*p0) + 1j*(1-2*pR)\n",
    "    return c\n"
   ]
  },
  {
   "cell_type": "code",
   "execution_count": 430,
   "metadata": {},
   "outputs": [],
   "source": [
    "xtraj = make_xstate_timseries(np.array([0, 0, 0, 0]), 0.001, 10000)"
   ]
  },
  {
   "cell_type": "code",
   "execution_count": 433,
   "metadata": {},
   "outputs": [
    {
     "data": {
      "text/plain": [
       "10000"
      ]
     },
     "execution_count": 433,
     "metadata": {},
     "output_type": "execute_result"
    }
   ],
   "source": [
    "len(xtraj)"
   ]
  },
  {
   "cell_type": "code",
   "execution_count": 434,
   "metadata": {},
   "outputs": [],
   "source": [
    "shots_per_circ = 1000\n",
    "start_idx = 0\n",
    "depth = 1\n",
    "circs = make_standard_experiment_at_depth(depth)\n",
    "counts, itr_end = make_observation_from_traj(xtraj,circs, shots_per_circ, start_idx)"
   ]
  },
  {
   "cell_type": "code",
   "execution_count": 435,
   "metadata": {},
   "outputs": [],
   "source": [
    "c = estimate_complex_amp_from_observation(counts, depth)"
   ]
  },
  {
   "cell_type": "code",
   "execution_count": 436,
   "metadata": {},
   "outputs": [
    {
     "name": "stdout",
     "output_type": "stream",
     "text": [
      "(0.992-0.08600000000000008j)\n",
      "0.9957208444137343\n",
      "-0.08647733293978578\n"
     ]
    }
   ],
   "source": [
    "print(c)\n",
    "print(np.abs(c))\n",
    "print(np.angle(c))"
   ]
  },
  {
   "cell_type": "code",
   "execution_count": 437,
   "metadata": {},
   "outputs": [],
   "source": [
    "def make_signal_estimate_series(xtraj, depth, starting_number_of_counts, number_of_additional_counts):\n",
    "    xtr = xtraj.copy()\n",
    "    circs = make_standard_experiment_at_depth(depth)\n",
    "    counts, itr = make_observation_from_traj(xtr, circs, starting_number_of_counts)\n",
    "    c = estimate_complex_amp_from_observation(counts, depth)\n",
    "    c_series = [c]\n",
    "    for i in range(number_of_additional_counts):\n",
    "        new_counts, itr = make_observation_from_traj(xtr, circs, 1, itr)\n",
    "        counts[(depth, '0', '0')] += new_counts[(depth, '0', '0')]\n",
    "        counts[(depth, '0', 'R')] += new_counts[(depth, '0', 'R')]\n",
    "        c = estimate_complex_amp_from_observation(counts, depth)\n",
    "        c_series.append(c)\n",
    "    return c_series"
   ]
  },
  {
   "cell_type": "code",
   "execution_count": 505,
   "metadata": {},
   "outputs": [
    {
     "name": "stderr",
     "output_type": "stream",
     "text": [
      "/tmp/ipykernel_3194/2758917052.py:11: MatplotlibDeprecationWarning: The get_cmap function was deprecated in Matplotlib 3.7 and will be removed two minor releases later. Use ``matplotlib.colormaps[name]`` or ``matplotlib.colormaps.get_cmap(obj)`` instead.\n",
      "  colormap = cm.get_cmap('viridis', 12)\n"
     ]
    },
    {
     "data": {
      "image/png": "[encoded data removed]",
      "text/plain": [
       "<Figure size 1000x1000 with 3 Axes>"
      ]
     },
     "metadata": {},
     "output_type": "display_data"
    }
   ],
   "source": [
    "xtraj = make_xstate_timseries(np.array([0.5, 0.01, 0.01, 0]), 0, 10000)\n",
    "# plot the trajectory \n",
    "plot_trajectories([xtraj], labels=[\"Xstate\"], start_idx=0)\n"
   ]
  },
  {
   "cell_type": "code",
   "execution_count": 506,
   "metadata": {},
   "outputs": [],
   "source": [
    "c_series = make_signal_estimate_series(xtraj, 8, 500, 2000)"
   ]
  },
  {
   "cell_type": "code",
   "execution_count": 507,
   "metadata": {},
   "outputs": [
    {
     "data": {
      "text/plain": [
       "[<matplotlib.lines.Line2D at 0x7f61876afaf0>]"
      ]
     },
     "execution_count": 507,
     "metadata": {},
     "output_type": "execute_result"
    },
    {
     "data": {
      "image/png": "[encoded data removed]",
      "text/plain": [
       "<Figure size 640x480 with 1 Axes>"
      ]
     },
     "metadata": {},
     "output_type": "display_data"
    }
   ],
   "source": [
    "polarizations = np.array([np.abs(c) for c in c_series])\n",
    "phases = np.array([np.angle(c) for c in c_series])\n",
    "plt.plot(polarizations)"
   ]
  },
  {
   "cell_type": "code",
   "execution_count": null,
   "metadata": {},
   "outputs": [],
   "source": []
  }
 ],
 "metadata": {
  "kernelspec": {
   "display_name": "ErrorGenerators",
   "language": "python",
   "name": "python3"
  },
  "language_info": {
   "codemirror_mode": {
    "name": "ipython",
    "version": 3
   },
   "file_extension": ".py",
   "mimetype": "text/x-python",
   "name": "python",
   "nbconvert_exporter": "python",
   "pygments_lexer": "ipython3",
   "version": "3.10.11"
  }
 },
 "nbformat": 4,
 "nbformat_minor": 2
}
