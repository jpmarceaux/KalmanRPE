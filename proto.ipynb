{
 "cells": [
  {
   "cell_type": "code",
   "execution_count": 94,
   "metadata": {},
   "outputs": [],
   "source": [
    "import numpy as np\n",
    "import pygsti\n",
    "from pygsti.modelpacks import smq1Q_XZ\n",
    "from pygsti.circuits import Circuit\n",
    "from pygsti.tools import unitary_to_std_process_mx, change_basis"
   ]
  },
  {
   "cell_type": "code",
   "execution_count": 95,
   "metadata": {},
   "outputs": [],
   "source": [
    "def PauliMatrix(i):\n",
    "    if i == 0:\n",
    "        return np.array([[1, 0], [0, 1]])\n",
    "    elif i == 1:\n",
    "        return np.array([[0, 1], [1, 0]])\n",
    "    elif i == 2:\n",
    "        return np.array([[0, -1j], [1j, 0]])\n",
    "    elif i == 3:\n",
    "        return np.array([[1, 0], [0, -1]])\n",
    "    else:\n",
    "        raise ValueError(\"i must be 0, 1, 2, or 3.\")"
   ]
  },
  {
   "cell_type": "code",
   "execution_count": 96,
   "metadata": {},
   "outputs": [],
   "source": [
    "qid = 0\n",
    "target_model = smq1Q_XZ.target_model(qubit_labels=[qid])"
   ]
  },
  {
   "cell_type": "code",
   "execution_count": 97,
   "metadata": {},
   "outputs": [
    {
     "data": {
      "text/plain": [
       "OrderedMemberDict([(Label(('Gxpi2', 0)),\n",
       "                    <pygsti.modelmembers.operations.fullarbitraryop.FullArbitraryOp at 0x7f8a6e3a2890>),\n",
       "                   (Label(('Gzpi2', 0)),\n",
       "                    <pygsti.modelmembers.operations.fullarbitraryop.FullArbitraryOp at 0x7f8a6e3a2e60>)])"
      ]
     },
     "execution_count": 97,
     "metadata": {},
     "output_type": "execute_result"
    }
   ],
   "source": [
    "target_model.operations"
   ]
  },
  {
   "cell_type": "code",
   "execution_count": 98,
   "metadata": {},
   "outputs": [
    {
     "data": {
      "text/plain": [
       "OutcomeLabelDict([(('0',), 0.5000000000000002), (('1',), 0.5)])"
      ]
     },
     "execution_count": 98,
     "metadata": {},
     "output_type": "execute_result"
    }
   ],
   "source": [
    "circ = Circuit([[('Gxpi2', qid)]])\n",
    "target_model.probabilities(circ)"
   ]
  },
  {
   "cell_type": "code",
   "execution_count": 99,
   "metadata": {},
   "outputs": [],
   "source": [
    "def make_x_generator(theta, epsilon):\n",
    "    return (theta * PauliMatrix(1) + epsilon * PauliMatrix(3))\n",
    "\n",
    "def make_x_unitary(theta, epsilon):\n",
    "    return np.exp(-(1j/2) * make_x_generator(theta, epsilon))\n",
    "\n",
    "def make_x_gate(xstate):\n",
    "    # TODO: implement depolarization\n",
    "    theta, epsilon, depolarization = xstate\n",
    "    x_unitary = make_x_unitary(theta, epsilon)\n",
    "    x_gate = unitary_to_std_process_mx(x_unitary)\n",
    "    return x_gate\n"
   ]
  },
  {
   "cell_type": "code",
   "execution_count": 100,
   "metadata": {},
   "outputs": [],
   "source": [
    "xstate = [0.01, 0.01, 0.01]\n",
    "x_gate = make_x_gate(xstate)\n",
    "target_model['Gxpi2, 0'] = change_basis(x_gate, 'std', 'pp')"
   ]
  },
  {
   "cell_type": "code",
   "execution_count": null,
   "metadata": {},
   "outputs": [],
   "source": [
    "def make_x_circuit(d, qid):\n",
    "    return Circuit([[('Gxpi2', qid)] * d])\n"
   ]
  },
  {
   "cell_type": "code",
   "execution_count": null,
   "metadata": {},
   "outputs": [],
   "source": []
  }
 ],
 "metadata": {
  "kernelspec": {
   "display_name": "ErrorGenerators",
   "language": "python",
   "name": "python3"
  },
  "language_info": {
   "codemirror_mode": {
    "name": "ipython",
    "version": 3
   },
   "file_extension": ".py",
   "mimetype": "text/x-python",
   "name": "python",
   "nbconvert_exporter": "python",
   "pygments_lexer": "ipython3",
   "version": "3.10.11"
  }
 },
 "nbformat": 4,
 "nbformat_minor": 2
}
